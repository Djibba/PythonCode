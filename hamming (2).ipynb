{
 "cells": [
  {
   "cell_type": "markdown",
   "metadata": {},
   "source": [
    "$H_{r}$"
   ]
  },
  {
   "cell_type": "code",
   "execution_count": 31,
   "metadata": {},
   "outputs": [],
   "source": [
    "import numpy \n",
    "import random\n",
    "import sys\n",
    "\n",
    "\n",
    "def decToBin(n,param):\n",
    "    \"\"\"Convertit un nombre en binaire\"\"\"\n",
    "    res = [0 for i in range(param - len(bin(n)[2:]))] + list(bin(n)[2:])\n",
    "    for i in range(len(res)):\n",
    "        res[i] = int(res[i])    \n",
    "    return res\n",
    "\n",
    "\n",
    "def matrixControl(param):\n",
    "    L = [2**i for i in range(param)]\n",
    "    L.reverse()\n",
    "    liste = []\n",
    "    for i in range(1,2**param):\n",
    "        if i not in L:\n",
    "            liste.append(i)\n",
    "    liste = liste + L\n",
    "    for i in range(len(liste)):\n",
    "        liste[i] = decToBin(liste[i],param)\n",
    "    H = numpy.asarray(liste)\n",
    "    H = H.transpose() \n",
    "    \n",
    "    return H\n",
    "\n",
    "def matrixGen(param):\n",
    "    H = matrixControl(param)\n",
    "    P = H[0:param,0:2**param - param-1]\n",
    "    I = numpy.eye(2**param-1- param,dtype=int)\n",
    "    P = numpy.concatenate (( I, P.transpose()),axis = 1)\n",
    "    \n",
    "    return P\n",
    "    \n",
    "    \n",
    "\n",
    "\n",
    "def createMessage(length):\n",
    "    msg = []\n",
    "    for i in range(length):\n",
    "        letter = random.choice([0,1])\n",
    "        msg.append(letter)\n",
    "    return numpy.array(msg, dtype = int)\n",
    "\n",
    "\n",
    "def encode(m, g):\n",
    "    enc = numpy.dot(m, g)%2\n",
    "    return enc\n",
    "\n",
    "def encode1(m, g,param):\n",
    "    res = numpy.zeros(2**param -1, dtype=int)\n",
    "    for i in range(len(m)):\n",
    "        if m[i] != 0:\n",
    "            res = res^g[i]\n",
    "            \n",
    "      \n",
    "    return res\n",
    "\n",
    "def flip(m,i):\n",
    "    m=list(m)\n",
    "    if m[i]==0:\n",
    "        m[i] = 1\n",
    "    else:\n",
    "        m[i] = 0\n",
    "        \n",
    "    return m\n",
    "\n",
    "def decoder(H,y,param):\n",
    "    \n",
    "    synd = numpy.dot(y, H.transpose())%2\n",
    "    if (synd == numpy.zeros(param,dtype= int)).all():\n",
    "        return y\n",
    "    else:\n",
    "        for i in range(2**param-1):\n",
    "            if (synd == H[:,i]).all():\n",
    "                c = flip(y,i)\n",
    "        return c\n",
    "                \n",
    "    \n",
    "    \n",
    "    \n",
    "    return synd\n",
    "\n",
    "def divise(chaine,n):\n",
    "    if len(chaine)%n!=0:\n",
    "        chaine=(n-len(chaine)%n)*\"0\"+chaine\n",
    "    return [chaine[i:i+n] for i in range(0,len(chaine),n)]\n",
    "    \n",
    "\n",
    "\n",
    "def encodage_file(file,param):\n",
    "    G = matrixGen(param)\n",
    "    file_in=open(file,\"r\")\n",
    "    chaine=file_in.read().replace('\\n','')\n",
    "    list_block = divise(chaine,2**param-1-param)\n",
    "    file_in.close\n",
    "    message_recu=\"\"\n",
    "    for block in list_block:\n",
    "        block=numpy.array([int(i) for i in block], dtype=int)\n",
    "        encodage = encode(block,G)\n",
    "        list_block_en_chaine =\"\".join([str(i) for i in encodage])\n",
    "        message_recu+=list_block_en_chaine\n",
    "    with open(\"emis.txt\",\"w\",encoding=\"utf-8\") as file_out:\n",
    "        file_out.write(message_recu)\n",
    "    return file_out\n",
    "\n",
    "def StringToBin(file):\n",
    "    filin = open(file,\"r\",encoding=\"utf-8\")\n",
    "    lines = filin.read().replace(\"\\n\",\"\")\n",
    "    lines = [bin(ord(i))[2:].zfill(8) for i in lines]\n",
    "    filin.close\n",
    "    with open(\"chaine_to_binaire.txt\",\"w\",encoding=\"utf-8\") as filout:\n",
    "        filout.write(''.join(lines))\n",
    "    \n",
    "    return lines\n",
    "\n",
    "\n",
    "\n",
    "def BinToString(file):\n",
    "    filin = open(file,\"r\",encoding=\"utf-8\")\n",
    "    lines = filin.read().replace(\"\\n\",\"\")\n",
    "    x = divise(lines,8)\n",
    "    x = [chr(int(i,2)) for i in x]\n",
    "    x = \"\".join([str(i) for i in x])\n",
    "    with open(\"file_converted.txt\",\"w\",encoding=\"utf-8\") as filout:\n",
    "        filout.write(x)\n",
    "      \n",
    "    return x\n",
    "\n",
    "\n",
    "def error_random(block):\n",
    "    pos_random=random.randint(0,len(block)-1)\n",
    "    return flip(block,pos_random)\n",
    "\n",
    "\n",
    "def file_error(file,param):\n",
    "    list_block=[]\n",
    "    with open(file,\"r\",encoding=\"utf-8\") as filin:\n",
    "        lines = filin.read().replace(\"\\n\",\"\")\n",
    "    list_block = divise(lines,2**param-1)\n",
    "    chaine_block_error = ''\n",
    "    for block in list_block:\n",
    "        block = error_random(block)\n",
    "        chaine_block_error +=\"\".join([str(i) for i in block])\n",
    "    with open(\"file_error.txt\",\"w\",encoding=\"utf-8\") as filout:\n",
    "        filout.write(chaine_block_error)\n",
    "\n",
    "    return chaine_block_error\n",
    "\n",
    "\n",
    "\n",
    "\n",
    "def correct_file(file,param):\n",
    "    H = matrixControl(param)\n",
    "    file_in=open(file,\"r\",encoding=\"utf-8\")\n",
    "    chaine=file_in.read().replace('\\n','')\n",
    "    list_block = divise(chaine,2**param-1)\n",
    "    file_in.close\n",
    "    message_recu=\"\"\n",
    "    for block in list_block:\n",
    "        block=numpy.array([int(i) for i in block], dtype=int)\n",
    "        decodage = decoder(H,block,param)\n",
    "        list_block_en_chaine =\"\".join([str(i) for i in decodage])\n",
    "        message_recu+=list_block_en_chaine[0:2**param-1-param]\n",
    "    with open(\"corrected_file.txt\",\"w\",encoding=\"utf-8\") as file_out:\n",
    "        file_out.write(message_recu)\n",
    "    return file_out"
   ]
  },
  {
   "cell_type": "code",
   "execution_count": 23,
   "metadata": {},
   "outputs": [
    {
     "data": {
      "text/plain": [
       "array([[1, 1, 0],\n",
       "       [1, 0, 1]])"
      ]
     },
     "execution_count": 23,
     "metadata": {},
     "output_type": "execute_result"
    }
   ],
   "source": [
    "matrixControl(2) #H"
   ]
  },
  {
   "cell_type": "code",
   "execution_count": 19,
   "metadata": {},
   "outputs": [
    {
     "data": {
      "text/plain": [
       "array([[0, 1, 1, 1, 1, 0, 0],\n",
       "       [1, 0, 1, 1, 0, 1, 0],\n",
       "       [1, 1, 0, 1, 0, 0, 1]])"
      ]
     },
     "execution_count": 19,
     "metadata": {},
     "output_type": "execute_result"
    }
   ],
   "source": [
    "matrixControl(3) "
   ]
  },
  {
   "cell_type": "code",
   "execution_count": 20,
   "metadata": {},
   "outputs": [
    {
     "data": {
      "text/plain": [
       "array([[1, 1, 1]])"
      ]
     },
     "execution_count": 20,
     "metadata": {},
     "output_type": "execute_result"
    }
   ],
   "source": [
    "matrixGen(2)"
   ]
  },
  {
   "cell_type": "code",
   "execution_count": 5,
   "metadata": {},
   "outputs": [
    {
     "data": {
      "text/plain": [
       "array([[1, 0, 0, 0, 0, 1, 1],\n",
       "       [0, 1, 0, 0, 1, 0, 1],\n",
       "       [0, 0, 1, 0, 1, 1, 0],\n",
       "       [0, 0, 0, 1, 1, 1, 1]])"
      ]
     },
     "execution_count": 5,
     "metadata": {},
     "output_type": "execute_result"
    }
   ],
   "source": [
    "matrixGen(3) #G"
   ]
  },
  {
   "cell_type": "markdown",
   "metadata": {},
   "source": [
    "H n'a pas de colonne nulle ni de colonne identique donc d >= 3"
   ]
  },
  {
   "cell_type": "code",
   "execution_count": 30,
   "metadata": {},
   "outputs": [],
   "source": [
    "a=bin(0x26)[2:].zfill(8)+bin(0xE7)[2:].zfill(8)+bin(0x56)[2:].zfill(8)+bin(0x7F)[2:].zfill(8)\n",
    "b=bin(0x79)[2:].zfill(8)+bin(0xAE)[2:].zfill(8)+bin(0xF5)[2:].zfill(8)+bin(0x18)[2:].zfill(8)"
   ]
  },
  {
   "cell_type": "code",
   "execution_count": 31,
   "metadata": {},
   "outputs": [
    {
     "name": "stdout",
     "output_type": "stream",
     "text": [
      "00100110111001110101011001111111\n",
      "01111001101011101111010100011000\n"
     ]
    }
   ],
   "source": [
    "print(a)\n",
    "print(b)"
   ]
  },
  {
   "cell_type": "code",
   "execution_count": 13,
   "metadata": {},
   "outputs": [
    {
     "data": {
      "text/plain": [
       "['01000001',\n",
       " '01000010',\n",
       " '00110001',\n",
       " '01000011',\n",
       " '00110000',\n",
       " '00110001',\n",
       " '00110000']"
      ]
     },
     "execution_count": 13,
     "metadata": {},
     "output_type": "execute_result"
    }
   ],
   "source": [
    "StringToBin('test.txt')"
   ]
  },
  {
   "cell_type": "code",
   "execution_count": 33,
   "metadata": {},
   "outputs": [
    {
     "data": {
      "text/plain": [
       "<_io.TextIOWrapper name='emis.txt' mode='w' encoding='cp1252'>"
      ]
     },
     "execution_count": 33,
     "metadata": {},
     "output_type": "execute_result"
    }
   ],
   "source": [
    "encodage_file('chaine_to_binaire.txt',3)"
   ]
  },
  {
   "cell_type": "code",
   "execution_count": 34,
   "metadata": {},
   "outputs": [
    {
     "data": {
      "text/plain": [
       "'\\x12ÕJ¨°\\x05FU*K1Q\\x92À\\x12\\x96J=.\\x94¥\\x92\\x8f'"
      ]
     },
     "execution_count": 34,
     "metadata": {},
     "output_type": "execute_result"
    }
   ],
   "source": [
    "BinToString('emis.txt')"
   ]
  },
  {
   "cell_type": "code",
   "execution_count": 35,
   "metadata": {},
   "outputs": [
    {
     "data": {
      "text/plain": [
       "'01001011000101010010101010100010100000000000010100011000010100001010100100101100110001000100011001001011000000000100001000011001001010001101000010110010010100101000011001001010001111'"
      ]
     },
     "execution_count": 35,
     "metadata": {},
     "output_type": "execute_result"
    }
   ],
   "source": [
    "file_error('emis.txt',3)"
   ]
  },
  {
   "cell_type": "code",
   "execution_count": 36,
   "metadata": {},
   "outputs": [
    {
     "data": {
      "text/plain": [
       "<_io.TextIOWrapper name='corrected_file.txt' mode='w' encoding='cp1252'>"
      ]
     },
     "execution_count": 36,
     "metadata": {},
     "output_type": "execute_result"
    }
   ],
   "source": [
    "correct_file('file_error.txt',3)"
   ]
  },
  {
   "cell_type": "code",
   "execution_count": 37,
   "metadata": {},
   "outputs": [
    {
     "name": "stdout",
     "output_type": "stream",
     "text": [
      "Commande ECHO activ‚e.\n"
     ]
    }
   ],
   "source": [
    "!echo "
   ]
  },
  {
   "cell_type": "code",
   "execution_count": 38,
   "metadata": {},
   "outputs": [
    {
     "data": {
      "text/plain": [
       "'JE SUIS BAMBA'"
      ]
     },
     "execution_count": 38,
     "metadata": {},
     "output_type": "execute_result"
    }
   ],
   "source": [
    "BinToString('corrected_file.txt')"
   ]
  },
  {
   "cell_type": "code",
   "execution_count": 15,
   "metadata": {},
   "outputs": [
    {
     "data": {
      "text/plain": [
       "'\\x02'"
      ]
     },
     "execution_count": 15,
     "metadata": {},
     "output_type": "execute_result"
    }
   ],
   "source": [
    "chr(0x02)"
   ]
  },
  {
   "cell_type": "code",
   "execution_count": 6,
   "metadata": {},
   "outputs": [
    {
     "data": {
      "text/plain": [
       "<_io.TextIOWrapper name='emis.txt' mode='w' encoding='cp1252'>"
      ]
     },
     "execution_count": 6,
     "metadata": {},
     "output_type": "execute_result"
    }
   ],
   "source": [
    "encodage_file(\"source.txt\",3)"
   ]
  },
  {
   "cell_type": "code",
   "execution_count": 14,
   "metadata": {},
   "outputs": [
    {
     "data": {
      "text/plain": [
       "<_io.TextIOWrapper name='corrected_file.txt' mode='w' encoding='cp1252'>"
      ]
     },
     "execution_count": 14,
     "metadata": {},
     "output_type": "execute_result"
    }
   ],
   "source": [
    "correct_file('chaine_to_binaire.txt',3)"
   ]
  },
  {
   "cell_type": "code",
   "execution_count": 18,
   "metadata": {},
   "outputs": [
    {
     "ename": "ValueError",
     "evalue": "shapes (1,) and (7,3) not aligned: 1 (dim 0) != 7 (dim 0)",
     "output_type": "error",
     "traceback": [
      "\u001b[1;31m---------------------------------------------------------------------------\u001b[0m",
      "\u001b[1;31mValueError\u001b[0m                                Traceback (most recent call last)",
      "\u001b[1;32m<ipython-input-18-b0f4a2108b36>\u001b[0m in \u001b[0;36m<module>\u001b[1;34m\u001b[0m\n\u001b[1;32m----> 1\u001b[1;33m \u001b[0mdecoder\u001b[0m\u001b[1;33m(\u001b[0m\u001b[0mmatrixControl\u001b[0m\u001b[1;33m(\u001b[0m\u001b[1;36m3\u001b[0m\u001b[1;33m)\u001b[0m\u001b[1;33m,\u001b[0m\u001b[1;33m[\u001b[0m\u001b[1;34m\"1010110\"\u001b[0m\u001b[1;33m]\u001b[0m\u001b[1;33m,\u001b[0m\u001b[1;36m3\u001b[0m\u001b[1;33m)\u001b[0m\u001b[1;33m\u001b[0m\u001b[1;33m\u001b[0m\u001b[0m\n\u001b[0m",
      "\u001b[1;32m<ipython-input-1-4e11e01a6fa1>\u001b[0m in \u001b[0;36mdecoder\u001b[1;34m(H, y, param)\u001b[0m\n\u001b[0;32m     70\u001b[0m \u001b[1;32mdef\u001b[0m \u001b[0mdecoder\u001b[0m\u001b[1;33m(\u001b[0m\u001b[0mH\u001b[0m\u001b[1;33m,\u001b[0m\u001b[0my\u001b[0m\u001b[1;33m,\u001b[0m\u001b[0mparam\u001b[0m\u001b[1;33m)\u001b[0m\u001b[1;33m:\u001b[0m\u001b[1;33m\u001b[0m\u001b[1;33m\u001b[0m\u001b[0m\n\u001b[0;32m     71\u001b[0m \u001b[1;33m\u001b[0m\u001b[0m\n\u001b[1;32m---> 72\u001b[1;33m     \u001b[0msynd\u001b[0m \u001b[1;33m=\u001b[0m \u001b[0mnumpy\u001b[0m\u001b[1;33m.\u001b[0m\u001b[0mdot\u001b[0m\u001b[1;33m(\u001b[0m\u001b[0my\u001b[0m\u001b[1;33m,\u001b[0m \u001b[0mH\u001b[0m\u001b[1;33m.\u001b[0m\u001b[0mtranspose\u001b[0m\u001b[1;33m(\u001b[0m\u001b[1;33m)\u001b[0m\u001b[1;33m)\u001b[0m\u001b[1;33m%\u001b[0m\u001b[1;36m2\u001b[0m\u001b[1;33m\u001b[0m\u001b[1;33m\u001b[0m\u001b[0m\n\u001b[0m\u001b[0;32m     73\u001b[0m     \u001b[1;32mif\u001b[0m \u001b[1;33m(\u001b[0m\u001b[0msynd\u001b[0m \u001b[1;33m==\u001b[0m \u001b[0mnumpy\u001b[0m\u001b[1;33m.\u001b[0m\u001b[0mzeros\u001b[0m\u001b[1;33m(\u001b[0m\u001b[0mparam\u001b[0m\u001b[1;33m,\u001b[0m\u001b[0mdtype\u001b[0m\u001b[1;33m=\u001b[0m \u001b[0mint\u001b[0m\u001b[1;33m)\u001b[0m\u001b[1;33m)\u001b[0m\u001b[1;33m.\u001b[0m\u001b[0mall\u001b[0m\u001b[1;33m(\u001b[0m\u001b[1;33m)\u001b[0m\u001b[1;33m:\u001b[0m\u001b[1;33m\u001b[0m\u001b[1;33m\u001b[0m\u001b[0m\n\u001b[0;32m     74\u001b[0m         \u001b[1;32mreturn\u001b[0m \u001b[0my\u001b[0m\u001b[1;33m\u001b[0m\u001b[1;33m\u001b[0m\u001b[0m\n",
      "\u001b[1;31mValueError\u001b[0m: shapes (1,) and (7,3) not aligned: 1 (dim 0) != 7 (dim 0)"
     ]
    }
   ],
   "source": [
    "decoder(matrixControl(3),[\"1010110\"],3)"
   ]
  },
  {
   "cell_type": "code",
   "execution_count": 10,
   "metadata": {},
   "outputs": [
    {
     "data": {
      "text/plain": [
       "['1', '0', '1', '0', '1', '1', '0']"
      ]
     },
     "execution_count": 10,
     "metadata": {},
     "output_type": "execute_result"
    }
   ],
   "source": []
  },
  {
   "cell_type": "code",
   "execution_count": 13,
   "metadata": {},
   "outputs": [
    {
     "data": {
      "text/plain": [
       "['01000010',\n",
       " '01000001',\n",
       " '01001101',\n",
       " '01000010',\n",
       " '01000001',\n",
       " '00100000',\n",
       " '01000100',\n",
       " '01001001',\n",
       " '01000001',\n",
       " '01000111',\n",
       " '01001110',\n",
       " '01000101']"
      ]
     },
     "execution_count": 13,
     "metadata": {},
     "output_type": "execute_result"
    }
   ],
   "source": [
    "StringToBin('test.txt')"
   ]
  },
  {
   "cell_type": "code",
   "execution_count": 14,
   "metadata": {},
   "outputs": [
    {
     "data": {
      "text/plain": [
       "<_io.TextIOWrapper name='emis.txt' mode='w' encoding='cp1252'>"
      ]
     },
     "execution_count": 14,
     "metadata": {},
     "output_type": "execute_result"
    }
   ],
   "source": [
    "encodage_file('chaine_to_binaire.txt',3)"
   ]
  },
  {
   "cell_type": "code",
   "execution_count": 24,
   "metadata": {},
   "outputs": [
    {
     "data": {
      "text/plain": [
       "<_io.TextIOWrapper name='corrected_file.txt' mode='w' encoding='utf-8'>"
      ]
     },
     "execution_count": 24,
     "metadata": {},
     "output_type": "execute_result"
    }
   ],
   "source": [
    "correct_file('test.txt',3)"
   ]
  },
  {
   "cell_type": "code",
   "execution_count": 22,
   "metadata": {},
   "outputs": [
    {
     "data": {
      "text/plain": [
       "'\\x00XÖàÖÖxº'"
      ]
     },
     "execution_count": 22,
     "metadata": {},
     "output_type": "execute_result"
    }
   ],
   "source": [
    "BinToString('corrected_file.txt')"
   ]
  },
  {
   "cell_type": "markdown",
   "metadata": {},
   "source": [
    "# 1) Codons le message 010110010111 "
   ]
  },
  {
   "cell_type": "code",
   "execution_count": 3,
   "metadata": {},
   "outputs": [
    {
     "data": {
      "text/plain": [
       "<_io.TextIOWrapper name='emis.txt' mode='w' encoding='utf-8'>"
      ]
     },
     "execution_count": 3,
     "metadata": {},
     "output_type": "execute_result"
    }
   ],
   "source": [
    "encodage_file('source.txt',3)"
   ]
  },
  {
   "cell_type": "markdown",
   "metadata": {},
   "source": [
    "# Le message codé est 010101010011000111100"
   ]
  },
  {
   "cell_type": "markdown",
   "metadata": {},
   "source": [
    "# 2) Decodons le message chiffré 010001110010101101001"
   ]
  },
  {
   "cell_type": "code",
   "execution_count": 4,
   "metadata": {},
   "outputs": [
    {
     "data": {
      "text/plain": [
       "<_io.TextIOWrapper name='corrected_file.txt' mode='w' encoding='utf-8'>"
      ]
     },
     "execution_count": 4,
     "metadata": {},
     "output_type": "execute_result"
    }
   ],
   "source": [
    "correct_file('source.txt',3)"
   ]
  },
  {
   "cell_type": "markdown",
   "metadata": {},
   "source": [
    "# Le message clair est 011010111101"
   ]
  },
  {
   "cell_type": "markdown",
   "metadata": {},
   "source": [
    "# Y'a t'ils des erreurs dans 1010110,0110011"
   ]
  },
  {
   "cell_type": "markdown",
   "metadata": {},
   "source": [
    "## Pour 1010110"
   ]
  },
  {
   "cell_type": "code",
   "execution_count": 6,
   "metadata": {},
   "outputs": [
    {
     "data": {
      "text/plain": [
       "<_io.TextIOWrapper name='corrected_file.txt' mode='w' encoding='utf-8'>"
      ]
     },
     "execution_count": 6,
     "metadata": {},
     "output_type": "execute_result"
    }
   ],
   "source": [
    "correct_file(\"source.txt\",3)"
   ]
  },
  {
   "cell_type": "code",
   "execution_count": 21,
   "metadata": {},
   "outputs": [
    {
     "data": {
      "text/plain": [
       "array([0, 1, 1, 0, 0, 1, 1], dtype=int32)"
      ]
     },
     "execution_count": 21,
     "metadata": {},
     "output_type": "execute_result"
    }
   ],
   "source": [
    "decoder(matrixControl(3),numpy.array([0,1,1,0,0,1,1]),3)%2"
   ]
  },
  {
   "cell_type": "code",
   "execution_count": 24,
   "metadata": {},
   "outputs": [
    {
     "data": {
      "text/plain": [
       "array([0, 0, 0], dtype=int32)"
      ]
     },
     "execution_count": 24,
     "metadata": {},
     "output_type": "execute_result"
    }
   ],
   "source": [
    "numpy.dot(numpy.array([0,1,1,0,0,1,1]),matrixControl(3).transpose())%2"
   ]
  },
  {
   "cell_type": "markdown",
   "metadata": {},
   "source": [
    "# Il y a des erreurs dans le code 1010110 car 0010 n'est pas un prefixe de 1010110"
   ]
  },
  {
   "cell_type": "markdown",
   "metadata": {},
   "source": [
    "## Pour 0110011"
   ]
  },
  {
   "cell_type": "code",
   "execution_count": 9,
   "metadata": {},
   "outputs": [
    {
     "data": {
      "text/plain": [
       "<_io.TextIOWrapper name='corrected_file.txt' mode='w' encoding='utf-8'>"
      ]
     },
     "execution_count": 9,
     "metadata": {},
     "output_type": "execute_result"
    }
   ],
   "source": [
    "correct_file(\"source.txt\",3)"
   ]
  },
  {
   "cell_type": "code",
   "execution_count": 10,
   "metadata": {},
   "outputs": [
    {
     "data": {
      "text/plain": [
       "array([0, 1, 1, 0, 0, 1, 1])"
      ]
     },
     "execution_count": 10,
     "metadata": {},
     "output_type": "execute_result"
    }
   ],
   "source": [
    "decoder(matrixControl(3),numpy.array([0,1,1,0,0,1,1]),3)"
   ]
  },
  {
   "cell_type": "markdown",
   "metadata": {},
   "source": [
    "## Il y a pas d'erreurs dans le code 0110011 car 0110 n'est pas un prefixe de 0110011"
   ]
  },
  {
   "cell_type": "markdown",
   "metadata": {},
   "source": [
    "# Codons le message KHADIM NIASSE(avec espace)"
   ]
  },
  {
   "cell_type": "code",
   "execution_count": 26,
   "metadata": {},
   "outputs": [
    {
     "data": {
      "text/plain": [
       "['01001011',\n",
       " '01001000',\n",
       " '01000001',\n",
       " '01000100',\n",
       " '01001001',\n",
       " '01001101',\n",
       " '00100000',\n",
       " '01001110',\n",
       " '01001001',\n",
       " '01000001',\n",
       " '01010011',\n",
       " '01010011',\n",
       " '01000101']"
      ]
     },
     "execution_count": 26,
     "metadata": {},
     "output_type": "execute_result"
    }
   ],
   "source": [
    "StringToBin('source.txt')"
   ]
  },
  {
   "cell_type": "code",
   "execution_count": 27,
   "metadata": {},
   "outputs": [
    {
     "data": {
      "text/plain": [
       "<_io.TextIOWrapper name='emis.txt' mode='w' encoding='utf-8'>"
      ]
     },
     "execution_count": 27,
     "metadata": {},
     "output_type": "execute_result"
    }
   ],
   "source": [
    "encodage_file('chaine_to_binaire.txt',3)"
   ]
  },
  {
   "cell_type": "markdown",
   "metadata": {},
   "source": [
    "# Le message codé est 01001011011010010010110000110100101000111101001010100101010010110011000100101110100100101100000000010010111100000100101100110001001010001111010101000110010101010001100101001010101010"
   ]
  },
  {
   "cell_type": "markdown",
   "metadata": {},
   "source": [
    "# Retrouvons le message M en enlevant les 3 derniers bits de M"
   ]
  },
  {
   "cell_type": "code",
   "execution_count": 45,
   "metadata": {},
   "outputs": [
    {
     "data": {
      "text/plain": [
       "<_io.TextIOWrapper name='corrected_file.txt' mode='w' encoding='utf-8'>"
      ]
     },
     "execution_count": 45,
     "metadata": {},
     "output_type": "execute_result"
    }
   ],
   "source": [
    "correct_file(\"source.txt\",3)"
   ]
  },
  {
   "cell_type": "code",
   "execution_count": 46,
   "metadata": {},
   "outputs": [
    {
     "data": {
      "text/plain": [
       "'Mr Brice'"
      ]
     },
     "execution_count": 46,
     "metadata": {},
     "output_type": "execute_result"
    }
   ],
   "source": [
    "BinToString('corrected_file.txt')"
   ]
  },
  {
   "cell_type": "code",
   "execution_count": 41,
   "metadata": {},
   "outputs": [
    {
     "data": {
      "text/plain": [
       "['01001101',\n",
       " '01010010',\n",
       " '00100000',\n",
       " '01000010',\n",
       " '01010010',\n",
       " '01001001',\n",
       " '01000011',\n",
       " '01000101']"
      ]
     },
     "execution_count": 41,
     "metadata": {},
     "output_type": "execute_result"
    }
   ],
   "source": []
  },
  {
   "cell_type": "code",
   "execution_count": 42,
   "metadata": {},
   "outputs": [
    {
     "data": {
      "text/plain": [
       "<_io.TextIOWrapper name='emis.txt' mode='w' encoding='utf-8'>"
      ]
     },
     "execution_count": 42,
     "metadata": {},
     "output_type": "execute_result"
    }
   ],
   "source": [
    "encodage_file('chaine_to_binaire.txt',3)"
   ]
  },
  {
   "cell_type": "code",
   "execution_count": 43,
   "metadata": {},
   "outputs": [
    {
     "data": {
      "text/plain": [
       "False"
      ]
     },
     "execution_count": 43,
     "metadata": {},
     "output_type": "execute_result"
    }
   ],
   "source": []
  },
  {
   "cell_type": "code",
   "execution_count": 44,
   "metadata": {},
   "outputs": [
    {
     "name": "stdout",
     "output_type": "stream",
     "text": [
      "True\n",
      "True\n",
      "True\n",
      "True\n",
      "True\n",
      "True\n",
      "True\n",
      "True\n",
      "True\n",
      "True\n",
      "True\n",
      "True\n",
      "True\n",
      "True\n",
      "True\n",
      "True\n",
      "True\n",
      "True\n",
      "True\n",
      "True\n",
      "True\n",
      "True\n",
      "True\n",
      "True\n",
      "True\n",
      "True\n",
      "True\n",
      "True\n",
      "True\n",
      "True\n",
      "True\n",
      "True\n",
      "True\n",
      "True\n",
      "True\n",
      "True\n",
      "True\n",
      "True\n",
      "True\n",
      "True\n",
      "True\n",
      "True\n",
      "True\n",
      "True\n",
      "True\n",
      "True\n",
      "True\n",
      "True\n",
      "True\n",
      "True\n",
      "True\n",
      "True\n",
      "True\n",
      "True\n",
      "True\n",
      "True\n",
      "True\n",
      "True\n",
      "True\n",
      "True\n",
      "True\n",
      "True\n",
      "True\n",
      "True\n",
      "True\n",
      "True\n",
      "True\n",
      "True\n",
      "True\n",
      "True\n",
      "True\n",
      "True\n",
      "True\n",
      "True\n",
      "True\n",
      "True\n",
      "True\n",
      "True\n",
      "True\n",
      "True\n",
      "True\n",
      "True\n",
      "True\n",
      "True\n",
      "True\n",
      "True\n",
      "True\n",
      "True\n",
      "True\n",
      "True\n",
      "True\n",
      "True\n",
      "True\n",
      "True\n",
      "True\n",
      "True\n",
      "True\n"
     ]
    }
   ],
   "source": [
    "mes1=\"0100101110100101010100010110001011000000000100101001011001010100010110010010110011000100101001100101001010101010\"\n",
    "mes2=\"0100101110100101111000010110001011000000000100101001011001111000010110011001110011000110011001100101100110101010\"\n",
    "for i in range(len(mes1)):\n",
    "    if(mes1[i]==mes2[i]):\n",
    "        print(True)"
   ]
  },
  {
   "cell_type": "code",
   "execution_count": null,
   "metadata": {},
   "outputs": [],
   "source": []
  }
 ],
 "metadata": {
  "kernelspec": {
   "display_name": "Python 3",
   "language": "python",
   "name": "python3"
  },
  "language_info": {
   "codemirror_mode": {
    "name": "ipython",
    "version": 3
   },
   "file_extension": ".py",
   "mimetype": "text/x-python",
   "name": "python",
   "nbconvert_exporter": "python",
   "pygments_lexer": "ipython3",
   "version": "3.7.4"
  }
 },
 "nbformat": 4,
 "nbformat_minor": 2
}
