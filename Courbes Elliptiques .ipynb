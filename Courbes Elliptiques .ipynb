{
 "cells": [
  {
   "cell_type": "markdown",
   "metadata": {},
   "source": [
    "### Résidu quadratique & Symbole de Legendre & Symbole de Jacobi"
   ]
  },
  {
   "cell_type": "code",
   "execution_count": 1,
   "metadata": {},
   "outputs": [
    {
     "name": "stdout",
     "output_type": "stream",
     "text": [
      "[7, 11, 13]\n"
     ]
    },
    {
     "data": {
      "text/plain": [
       "-1"
      ]
     },
     "execution_count": 1,
     "metadata": {},
     "output_type": "execute_result"
    }
   ],
   "source": [
    "######## Fonction qui permet de savoir si p est premier ou non #######\n",
    "def premier(p):    \n",
    "    bol,j=True,0\n",
    "    for i in range(2,int(p)+1):\n",
    "        a=p%i\n",
    "        if(a==0):\n",
    "            j+=1\n",
    "    if(j>=2):\n",
    "        return False \n",
    "    else:\n",
    "        return True\n",
    "    \n",
    "\n",
    "######## Résidu quadratique #########\n",
    "def residu_quadratique(m,p):\n",
    "    while not premier(p):\n",
    "        print(\"Entrer un p premier\")\n",
    "    return [i for i in range(p) if(i**2)%p==m]\n",
    "\n",
    "\n",
    "####### Symbole de Legendre ########\n",
    "def legendre(a,p):\n",
    "    while not premier(p):\n",
    "        print(\"Entrer un p premier\")\n",
    "    if residu_quadratique(a,p):\n",
    "        return 1\n",
    "    elif residu_quadratique(a,p)==0:\n",
    "        return 0\n",
    "    else:\n",
    "        return -1\n",
    "\n",
    "    \n",
    "######## Symbole de Jacobi #########\n",
    "def jacobi(a,m):\n",
    "    #Décompostion de m\n",
    "    diviseur = []\n",
    "    jacobi = 1\n",
    "    for i in range(2,m):\n",
    "        if (m%i) == 0:\n",
    "            diviseur.append(i)\n",
    "    decomp = []\n",
    "    prod = 1\n",
    "    for j in range(len(diviseur)):\n",
    "        prod  *= diviseur[j]\n",
    "        if prod == m:\n",
    "            decomp = diviseur[:j+1]\n",
    "    print(decomp)\n",
    "    \n",
    "    for k in range(len(decomp)):\n",
    "        Legendre_k = legendre(a,decomp[k])\n",
    "        jacobi *= Legendre_k\n",
    "    return jacobi\n",
    "    \n",
    "jacobi(6, 1001)"
   ]
  },
  {
   "cell_type": "markdown",
   "metadata": {},
   "source": [
    "### Addition de P et Q & Multiplication des P"
   ]
  },
  {
   "cell_type": "code",
   "execution_count": 2,
   "metadata": {},
   "outputs": [
    {
     "name": "stdout",
     "output_type": "stream",
     "text": [
      "(0, 0)\n",
      "(0, 0)\n",
      "(14, 18)\n"
     ]
    },
    {
     "data": {
      "text/plain": [
       "(1, 0)"
      ]
     },
     "execution_count": 2,
     "metadata": {},
     "output_type": "execute_result"
    }
   ],
   "source": [
    "######### Fonction qui calcule l'inverse modulo d'un nombre ########\n",
    "def inverse(n, m):\n",
    "    return [i for i in range(m) if (n*i%m) == 1][0]\n",
    "\n",
    "######## Fonction qui convertit un nombre decimal en binaire ##########\"\"\n",
    "def dec_to_bin(n):\n",
    "    res =list(bin(n)[2:])\n",
    "    for i in range(len(res)):\n",
    "        res[i] = int(res[i])\n",
    "    return res\n",
    "\n",
    "\n",
    "####### Addition de P et Q ############\n",
    "def addition_P_Q(P:tuple(), Q:tuple(), a,b,p):\n",
    "    while not premier(p):\n",
    "        print(\"Entrer un p qui est premier\")\n",
    "    num = (Q[1]-P[1])%p\n",
    "    denom = (Q[0]-P[0])%p\n",
    "    lamda = (num * inverse(denom, p)) % p\n",
    "    x3 = (lamda**2 - P[0] - Q[0])%p\n",
    "    y3 = ((lamda*(P[0]-x3)) - P[1])%p\n",
    "    return x3,y3\n",
    "\n",
    "\n",
    "######## 2 * P ########\n",
    "def deux_P(P:tuple(),a,b,p):\n",
    "    num = (3 * (P[0]**2) + a)%p\n",
    "    denom = (2 * P[1])%p\n",
    "    lamda = (num * inverse(denom,p))%p\n",
    "    x2 = (lamda**2 - (2 * P[0]))%p\n",
    "    y2 = (lamda * (P[0] - x2) - P[1])%p\n",
    "    return x2,y2\n",
    "\n",
    "\n",
    "######### Multipilication P ############\n",
    "def multiplication_P(k,P:tuple(),a,b,p):\n",
    "    while not premier(p):\n",
    "        print(\"Entrer un p qui est premier\")\n",
    "    k_bin = dec_to_bin(k)\n",
    "    P_infini = (0,0)\n",
    "    Q = P_infini\n",
    "    for i in range(len(k_bin)):\n",
    "        Q = Q[0]*2,Q[1]*2\n",
    "        print(Q)\n",
    "        if k_bin[len(k_bin)-1-i] == 1:\n",
    "            Q = addition_P_Q(Q,P,a,b,p)\n",
    "            if Q == P_infini:\n",
    "                Q = P\n",
    "            else:\n",
    "                Q = deux_P(P,a,b,p)\n",
    "        else:\n",
    "            Q\n",
    "    return Q\n",
    "multiplication_P(6,(4,7),2,-1,11)\n",
    "inverse(7,19)\n",
    "deux_P((11,18),2,-3,19)"
   ]
  },
  {
   "cell_type": "code",
   "execution_count": 3,
   "metadata": {},
   "outputs": [
    {
     "data": {
      "text/plain": [
       "7.0"
      ]
     },
     "execution_count": 3,
     "metadata": {},
     "output_type": "execute_result"
    }
   ],
   "source": [
    "((-1728*(8**3))/8)%19"
   ]
  },
  {
   "cell_type": "code",
   "execution_count": 4,
   "metadata": {},
   "outputs": [
    {
     "name": "stdout",
     "output_type": "stream",
     "text": [
      "0\n",
      "1\n",
      "1\n",
      "1\n"
     ]
    }
   ],
   "source": [
    "a = dec_to_bin(14)\n",
    "len(a)-1\n",
    "for i in range(len(a)):\n",
    "    print(a[len(a)-1-i])"
   ]
  },
  {
   "cell_type": "code",
   "execution_count": 5,
   "metadata": {},
   "outputs": [
    {
     "data": {
      "text/plain": [
       "(4, 6)"
      ]
     },
     "execution_count": 5,
     "metadata": {},
     "output_type": "execute_result"
    }
   ],
   "source": [
    "a = (2,3)\n",
    "2 * a[0],2* a[1]"
   ]
  },
  {
   "cell_type": "code",
   "execution_count": 6,
   "metadata": {},
   "outputs": [
    {
     "data": {
      "text/plain": [
       "[1, 1, 1, 0]"
      ]
     },
     "execution_count": 6,
     "metadata": {},
     "output_type": "execute_result"
    }
   ],
   "source": [
    "dec_to_bin(14)"
   ]
  },
  {
   "cell_type": "code",
   "execution_count": 7,
   "metadata": {},
   "outputs": [
    {
     "data": {
      "text/plain": [
       "[31]"
      ]
     },
     "execution_count": 7,
     "metadata": {},
     "output_type": "execute_result"
    }
   ],
   "source": [
    "[i for i in range(41) if (4*i%41) == 1]"
   ]
  },
  {
   "cell_type": "code",
   "execution_count": 8,
   "metadata": {},
   "outputs": [
    {
     "data": {
      "text/plain": [
       "29"
      ]
     },
     "execution_count": 8,
     "metadata": {},
     "output_type": "execute_result"
    }
   ],
   "source": [
    "(((159)**6)%821)%41"
   ]
  },
  {
   "cell_type": "code",
   "execution_count": 9,
   "metadata": {},
   "outputs": [
    {
     "data": {
      "text/plain": [
       "4"
      ]
     },
     "execution_count": 9,
     "metadata": {},
     "output_type": "execute_result"
    }
   ],
   "source": [
    "(7*(21+290))%41"
   ]
  },
  {
   "cell_type": "code",
   "execution_count": 10,
   "metadata": {},
   "outputs": [
    {
     "data": {
      "text/plain": [
       "38"
      ]
     },
     "execution_count": 10,
     "metadata": {},
     "output_type": "execute_result"
    }
   ],
   "source": [
    "(29*31)%41"
   ]
  },
  {
   "cell_type": "code",
   "execution_count": 11,
   "metadata": {},
   "outputs": [
    {
     "data": {
      "text/plain": [
       "29"
      ]
     },
     "execution_count": 11,
     "metadata": {},
     "output_type": "execute_result"
    }
   ],
   "source": [
    "(((159**36)*(548**38))%821)%41"
   ]
  },
  {
   "cell_type": "code",
   "execution_count": 2,
   "metadata": {},
   "outputs": [
    {
     "data": {
      "text/plain": [
       "33"
      ]
     },
     "execution_count": 2,
     "metadata": {},
     "output_type": "execute_result"
    }
   ],
   "source": [
    "3**3+6"
   ]
  },
  {
   "cell_type": "code",
   "execution_count": 3,
   "metadata": {},
   "outputs": [
    {
     "data": {
      "text/plain": [
       "11"
      ]
     },
     "execution_count": 3,
     "metadata": {},
     "output_type": "execute_result"
    }
   ],
   "source": [
    "49%19"
   ]
  },
  {
   "cell_type": "code",
   "execution_count": 4,
   "metadata": {},
   "outputs": [
    {
     "data": {
      "text/plain": [
       "12"
      ]
     },
     "execution_count": 4,
     "metadata": {},
     "output_type": "execute_result"
    }
   ],
   "source": [
    "-7%19"
   ]
  },
  {
   "cell_type": "code",
   "execution_count": 5,
   "metadata": {},
   "outputs": [
    {
     "data": {
      "text/plain": [
       "1"
      ]
     },
     "execution_count": 5,
     "metadata": {},
     "output_type": "execute_result"
    }
   ],
   "source": [
    "(11**9)%19"
   ]
  },
  {
   "cell_type": "code",
   "execution_count": 7,
   "metadata": {},
   "outputs": [
    {
     "data": {
      "text/plain": [
       "14"
      ]
     },
     "execution_count": 7,
     "metadata": {},
     "output_type": "execute_result"
    }
   ],
   "source": [
    "14%19"
   ]
  },
  {
   "cell_type": "code",
   "execution_count": null,
   "metadata": {},
   "outputs": [],
   "source": []
  }
 ],
 "metadata": {
  "kernelspec": {
   "display_name": "Python 3",
   "language": "python",
   "name": "python3"
  },
  "language_info": {
   "codemirror_mode": {
    "name": "ipython",
    "version": 3
   },
   "file_extension": ".py",
   "mimetype": "text/x-python",
   "name": "python",
   "nbconvert_exporter": "python",
   "pygments_lexer": "ipython3",
   "version": "3.7.4"
  }
 },
 "nbformat": 4,
 "nbformat_minor": 2
}
