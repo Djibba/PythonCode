{
 "cells": [
  {
   "cell_type": "markdown",
   "metadata": {},
   "source": [
    "<h1 style=\"font-size:50px;color:blue;\"><strong>Groupe 18 : Djibril Ba & Aicha Niang</strong></h1> "
   ]
  },
  {
   "cell_type": "markdown",
   "metadata": {},
   "source": [
    "<h1 style=\"color:red\">Partie I : Modes de Chiffrement</h1>"
   ]
  },
  {
   "cell_type": "markdown",
   "metadata": {},
   "source": [
    "<h2>Modes d'opération pour le chiffrement symétrique</h2>"
   ]
  },
  {
   "cell_type": "markdown",
   "metadata": {},
   "source": [
    "<h2>I. ECB (Electronic Code Book Mode)</h2>"
   ]
  },
  {
   "cell_type": "markdown",
   "metadata": {},
   "source": [
    "Le <strong style=\"color:red\">carnet de codage électronique</strong>, en anglais \"Electronic Code Book\" (ECB) consiste à chiffrer chaque bloc de texte en clair en un bloc de texte chiffré. Plus précisement le message à chiffrer est divisé en plusieurs blocs qui sont chiffrés séparément les uns après les autres.</br>\n",
    "Pour chiffrer un message en mode ECB, on effectue l'opération suivante : </br>\n",
    "\\begin{equation}\n",
    "  C_i = E_K(M_i), i = 1, . . . , t\n",
    "\\end{equation}\n",
    "<img src=\"600px-Schema_ecb.png\"></br>\n",
    "Pour le déchiffrement on effectue l'opération suivante : </br>\n",
    "\\begin{equation}\n",
    "    M_i = E^{-1}_K(C_i), i = 1, . . . , t\n",
    "\\end{equation}\n",
    "Sur le coté sécurité on distingue trois problèmes majeurs :\n",
    "+ <span style=\"color:red\">Obtention des clés grâce au chiffré</span> : C'est à dire <strong>si on utilise deux fois le même texte en clair et la même clé de chiffrement</strong> et des régularités dans le texte en clair se reproduisent dans le texte chiffré. Le texte chiffré permet donc d’obtenir des informations sur le texte en clair, même si on n’arrive pas à le déchiffrer\n",
    "+ <span style=\"color:red\">Construction du carnet de codage sans connaitre la clé </span> : si le cryptanalyste a le texte en clair et le texte chiffré de plusieurs messages, il peut commencer à construire un carnet de codage sans connaître la clé.\n",
    "+  <span style=\"color:red\">Attaque par répétition</span> : un attaquant peut changer le texte chiffré en ajoutant simplement des blocs chiffrés par la même procédure de chiffrement et la même clé ou en échangeant tout simplement quelques-uns des blocs chiffrés."
   ]
  },
  {
   "cell_type": "markdown",
   "metadata": {},
   "source": [
    "<h2>II. CBC (Cipher Blockchaining mode)</h2>"
   ]
  },
  {
   "cell_type": "markdown",
   "metadata": {},
   "source": [
    "Le <strong style=\"color:red\">mode de chiffrement avec chaînage de blocs</strong>, en anglais \"Cipher Block Chaining\" (CBC) utilise une méthode de rétroaction comme le résultat du chiffrement du bloc précédent est réutilisé pour le chiffrement du bloc courant(<strong>IV = initialization vector</strong>). Plus précisément, <span style=\"color:red\">l’opérateur binaire XOR</span> est appliqué entre le bloc actuel de texte en clair et le bloc précédent de texte chiffré et on applique ensuite l’algorithme de chiffrement au résultat de cette opération.</br>Pour chiffrer avec le mode CBC on effectue l'opération suivante : \n",
    "\\begin{equation}\n",
    "  C_i = E_K(M_i \\oplus C_{i-1}), i = 1, . . . , t, C_0 = IV\n",
    "\\end{equation}\n",
    "<img src=\"600px-Schema_CBC.svg.png\"></br>\n",
    "Pour le déchiffrement on effectue l'opération suivante : \n",
    "\\begin{equation}\n",
    "  M_i = E^{-1}_K(M_i) \\oplus C_{i-1}, i = 1, . . . , t, C_0 = IV\n",
    "\\end{equation}\n",
    "Son défaut est que le chiffrement est séquentiel.  (à revoir)"
   ]
  },
  {
   "cell_type": "markdown",
   "metadata": {},
   "source": [
    "<h2>III. CFB (Cipher Feedback Mode)</h2>"
   ]
  },
  {
   "cell_type": "markdown",
   "metadata": {},
   "source": [
    "Le <strong style=\"color:red\">mode de chiffrement à rétroaction</strong>, en anglais \"Cipher Feedback\"(CFB), permet de chiffrer les données par unités plus petites que la taille de bloc. C'est à dire qu'il chiffre les données par unités de k bits.\n",
    "+ Pour commencer, <strong>le registre de décalage est rempli par un vecteur d’initialisation</strong>. On chiffre ensuite le registre de décalage avec l’algorithme de chiffrement utilisé et on combine les k bits les plus significatifs, c’est-à-dire <strong>les k bits les plus à gauche du résultat par un ou exclusif avec les k premiers bits du texte en clair pour obtenir ainsi les k premiers bits du texte chiffré qu’on peut alors transmettre</strong>. On place <strong>ce bloc de texte chiffré dans les k bits les plus à droite du registre de décalage et on décale tous les autres bits du registre de décalage de k positions vers la gauche en coupant ses k premiers bits</strong>. On continue alors de chiffrer le reste du texte en clair de la même manière.</br>\n",
    "Pour chiffrer avec le mode CFB on effectue l'opération suivante : \n",
    "\\begin{equation}\n",
    "  C_i = E_K(C_{i-1}) \\oplus M_i, i = 1, . . . , t, C_0 = IV\n",
    "\\end{equation}\n",
    "<img src=\"600px-Schema_cfb.png\"></br>\n",
    "Pour déchiffrer on effectue l'opération suivante : \n",
    "\\begin{equation}\n",
    "  M_i = E_K(C_{i-1}) \\oplus C_i, i = 1, . . . , t, C_0 = IV\n",
    "\\end{equation}\n",
    "Le mode CFB offre une grande sécurité.\n",
    "Le seul problème est que le texte en clair est seulement soumis à un XOR. <span style=\"color:red\">Si le texte en clair est connu, un texte en clair complètement différent peut être substitué en inversant les bits du texte chiffré au même endroit où on inverse les bits du texte en clair</span> (bit-flipping attack)."
   ]
  },
  {
   "cell_type": "markdown",
   "metadata": {},
   "source": [
    "<h2>IV. OFB (Output Feedback Mode)</h2>"
   ]
  },
  {
   "cell_type": "markdown",
   "metadata": {},
   "source": [
    "Le <strong style=\"color:red\">mode de rétroaction de sortie</strong>, en anglais \"Output Feedback\" (OFB), ressemble\n",
    "beaucoup au mode CFB, sauf que ce sont les k premiers bits du résultat du chiffrement du registre de décalage qui sont ajoutés à droite du registre de décalage et non les k premiers bits du texte chiffré.\n",
    "+ Pour commencer, <strong>le registre de décalage est rempli par un vecteur d’initialisation</strong>. On chiffre ensuite le registre de décalage avec l’algorithme de chiffrement utilisé et on combine les k bits les plus significatifs, c’est-à-dire <strong>les k bits les plus à gauche du résultat par un ou exclusif avec les k premiers bits du texte en clair pour obtenir ainsi les k premiers bits du texte chiffré qu’on peut alors transmettre</strong>. On place ensuite <strong>les k premiers bits du résultat du chiffrement du registre de décalage dans les k bits les plus à droite du registre de décalage et on décale tous les autres bits du registre de décalage de k positions vers la gauche en coupant ses k premiers bits</strong>. On continue alors de chiffrer le reste du texte en clair de la même manière.\n",
    "Pour chiffrer avec OFB on effectue les opérations suivantes :\n",
    "\\begin{equation}\n",
    "  Generate, O_1, . . . ,O_t, as, O_i = E_K(O_{i-1}, i = 1,...,t, O_0 = IV\n",
    "\\end{equation}\n",
    "\\begin{equation}\n",
    "  C_i = M_i \\oplus O_i, i = 1, . . . , t\n",
    "\\end{equation}\n",
    "<img src=\"600px-Schema_ofb.png\"></br>\n",
    "Pour déchiffrer on effectue l'opération : \n",
    "\\begin{equation}\n",
    "  M_i = C_i \\oplus O_i, i = 1, . . . , t\n",
    "\\end{equation}\n",
    "Il peut arriver qu’à partir d’un certain moment <span style=\"color:red\">le registre de décalage devient constant</span>, ce qui engendre de graves problèmes de sécurité. Pour éviter ce problème, il faut toujours que <strong>la taille de rétroaction soit égale à la\n",
    "taille des blocs</strong> de texte que manipule l’algorithme utilisé. Le mode OFB est donc également vulnérable à une \"bit-flipping attack\"."
   ]
  },
  {
   "cell_type": "markdown",
   "metadata": {},
   "source": [
    "<h2>V. CTR (Counter Mode)</h2>"
   ]
  },
  {
   "cell_type": "markdown",
   "metadata": {},
   "source": [
    "Le <strong style=\"color:red\">mode de chiffrement basé sur les compteur</strong> (CTR = CounTeR) permet le chiffrement par flot et est pré-calculable. De plus, il permet un accès aléatoire aux données, est parallélisable et n'utilise que la fonction de chiffrement.Pour chiffrer avec le mode CTR on effectue l'opération : \n",
    "\\begin{equation}\n",
    "  Generate a Keystream, O_i, . . . ,Ot, as ,O_i = E_K(N|((C + i) mod 2^{n-1})) Compute\n",
    "\\end{equation}\n",
    "\\begin{equation}\n",
    "  C_i = M_i \\oplus O_i, i = 1, . . . , t\n",
    "\\end{equation}\n",
    "<img src=\"600px-Schema_ctr.png\"></br>\n",
    "Pour déchiffrer :\n",
    "\\begin{equation}\n",
    "  M_i = C_i \\oplus O_i, i = 1, . . . , t\n",
    "\\end{equation}\n"
   ]
  },
  {
   "cell_type": "markdown",
   "metadata": {},
   "source": [
    "<h2>VI. Comparaison des modes opératoires</h2>"
   ]
  },
  {
   "cell_type": "markdown",
   "metadata": {},
   "source": [
    "+ Le mode <strong style=\"color:red\">ECB est le plus facile et le plus rapide</strong> à utiliser. Compte tenu des problèmes de sécurité, on l’<strong style=\"color:red\">utilise cependant uniquement pour coder des fichiers aléatoires peu volumineux</strong>, comme par exemple des clés.\n",
    "+ Les modes <strong style=\"color:red\">CBC, CFB et OFB</strong>sont tous les trois couramment utilisés, suivant les besoins spécifiques. <strong style=\"color:red\">Le mode CBC est juste un peu plus lent que le mode ECB</strong>, la seule différence résidant dans un registre mémoire de la taille d’un bloc et une opération de ou exclusif par bloc. L’augmentation du niveau de sécurité est par contre significative et bien qu’il puisse y avoir des erreurs de bit dans les données stockées, <strong style=\"color:red\">il y a rarement des erreurs de synchronisation</strong>. Pour une réalisation logicielle, c’est presque toujours le meilleur choix.\n",
    "+ Les modes <strong style=\"color:red\">OFB et CFB sont tous les deux significativement plus lents que le mode CBC et sont surtout utilisés s’il faut chiffrer les données en continu, sans pouvoir toujours attendre d’être en présence d’un bloc complet</strong>. Le mode CFB est généralement le <strong style=\"color:red\">mode de choix pour chiffrer en continu des flots de caractères quand chaque caractère doit être traité individuellement</strong>, comme c’est le cas pour le lien entre un terminal et un ordinateur central. Le mode OFB est généralement utilisé pour les systèmes synchrones à grande vitesse où la propagation d’erreurs est inacceptable.\n",
    "* Remarque :  Les 4 modes opératoires classiques garantissent la <strong style=\"color:red\">confidentialité des messages, mais pas l’intégrité</strong>. Si on a besoin également d’intégrité, il faut utiliser un protocole approprié ou chiffrer le message avec une procédure telle le <strong style=\"color:red\">mode OCB qui a été spécialement conçu pour garantir l’intégrité</strong>. Un de ces quatre modes de base est adéquat pour presque n’importe quelle application et il est fortement recommandé de rester à l’écart des autres modes qui sont moins bien étudiés et qui de toute façon n’ont pas de meilleures propriétés pour la propagation d’erreurs et pour les mécanismes de récupération d’erreurs."
   ]
  },
  {
   "cell_type": "markdown",
   "metadata": {},
   "source": [
    "<h1 style=\"color:red\">Partie II : Implémentation de DES et AES</h1>"
   ]
  },
  {
   "cell_type": "markdown",
   "metadata": {},
   "source": [
    "<h2 style=\"color:orange;font-size:50px\"><strong> DES </strong> </h2>"
   ]
  },
  {
   "cell_type": "markdown",
   "metadata": {},
   "source": [
    "## Algorithme de génération de clés"
   ]
  },
  {
   "cell_type": "code",
   "execution_count": 1,
   "metadata": {},
   "outputs": [],
   "source": [
    "import random\n",
    "def genkey_system(taille = 64):\n",
    "    return [random.randint(0,1) for i in range(taille)]"
   ]
  },
  {
   "cell_type": "markdown",
   "metadata": {},
   "source": [
    "## Algorithme de génération des sous clés"
   ]
  },
  {
   "cell_type": "markdown",
   "metadata": {},
   "source": [
    "####  On crée une fonction qui prend en entréé la <span style=\"color:red\">clé générée et la permutation</span>"
   ]
  },
  {
   "cell_type": "code",
   "execution_count": 2,
   "metadata": {},
   "outputs": [],
   "source": [
    "perm = [57,49, 41, 33, 25, 17, 9, 1, 58, 50, 42, 34, 26, 18,\n",
    "    10, 2, 59, 51, 43, 35, 27, 19, 11, 3, 60, 52, 44, 36, 63, \n",
    "    55, 47, 39, 31, 23, 15, 7, 62, 54, 46, 38, 30, 22,14, 6, \n",
    "    61, 53, 45, 37, 29, 21, 13, 5, 28, 20, 12, 4]\n",
    "\n",
    "def Permut_k(k,permutation):\n",
    "    key_perm = []\n",
    "    for i in range(len(permutation)):\n",
    "        key_perm.append(k[permutation[i]-1])\n",
    "    return key_perm"
   ]
  },
  {
   "cell_type": "markdown",
   "metadata": {},
   "source": [
    "#### On crée ensuite deux fonctions,l'une qui retourne <span style=\"color:red\">Co</span> et l'autre qui retourne <span style=\"color:red\">Do</span>"
   ]
  },
  {
   "cell_type": "code",
   "execution_count": 3,
   "metadata": {},
   "outputs": [],
   "source": [
    "def Co(k):\n",
    "    Co = []\n",
    "    for i in range(len(k)//2):\n",
    "        Co.append(k[i])\n",
    "    return Co\n",
    "\n",
    "def Do(k):\n",
    "    Do = []\n",
    "    for i in range(len(k)//2,len(k)):\n",
    "        Do.append(k[i])\n",
    "    return Do\n"
   ]
  },
  {
   "cell_type": "markdown",
   "metadata": {},
   "source": [
    "#### on crée une fonction qui prend en argument deux paramétres et retourne le left shifts et une autre fonction qui retourne une liste des 16 clés"
   ]
  },
  {
   "cell_type": "code",
   "execution_count": null,
   "metadata": {},
   "outputs": [],
   "source": [
    "def Left_Shifts(message,n):\n",
    "    left = []\n",
    "    for i in range(len(message)):\n",
    "        left.append(message[(i+n)%len(message)])\n",
    "    return left"
   ]
  },
  {
   "cell_type": "code",
   "execution_count": 42,
   "metadata": {
    "scrolled": true
   },
   "outputs": [],
   "source": [
    "num_leftShifts = [1,1,2,2,2,2,2,2,1,2,2,2,2,2,2,1]\n",
    "pc2 = [14, 17, 11, 24, 1, 5, 3, 28, 15, 6, 21, 10,\n",
    "23, 19, 12, 4, 26, 8, 16, 7, 27, 20, 13, 2,\n",
    "41, 52, 31, 37, 47, 55, 30, 40, 51, 45, 33, 48,\n",
    "44, 49, 39, 56, 34, 53, 46, 42, 50, 36, 29, 32]\n",
    "\n",
    "def List_keys():\n",
    "    n = 1\n",
    "    k = Permut_k(genkey_system(64),perm)\n",
    "    co = Co(k)\n",
    "    do = Do(k)\n",
    "    list_keys = []\n",
    "    for i in num_leftShifts:\n",
    "        leftCo = Left_Shifts(co,i)\n",
    "        leftDo = Left_Shifts(do,i)\n",
    "        k = leftCo+leftDo\n",
    "        key_perm_pc2 = []\n",
    "        for i in range(len(pc2)):\n",
    "            key_perm_pc2.append(k[pc2[i]-1])\n",
    "        list_keys.append(key_perm_pc2)\n",
    "        co = leftCo\n",
    "        do = leftDo\n",
    "        n+=1\n",
    "    return list_keys"
   ]
  },
  {
   "cell_type": "markdown",
   "metadata": {},
   "source": [
    "## CIPHER"
   ]
  },
  {
   "cell_type": "markdown",
   "metadata": {},
   "source": [
    "#### on crée une fonction qui convertit un texte en binaire"
   ]
  },
  {
   "cell_type": "code",
   "execution_count": 43,
   "metadata": {},
   "outputs": [],
   "source": [
    "def stringToBinary(stringtext):\n",
    "    stringlist=list(stringtext)\n",
    "    binofstring=[]\n",
    "    bin_message = []\n",
    "    for j in stringlist:\n",
    "        binofstring.append(list(bin(ord(j))))\n",
    "    for i in range(len(binofstring)):\n",
    "        binofstring[i].remove('b')\n",
    "    for k in range(len(binofstring)):\n",
    "        bin_message += binofstring[i]\n",
    "    return \"\".join(bin_message)"
   ]
  },
  {
   "cell_type": "markdown",
   "metadata": {},
   "source": [
    "#### on crée une fonction qui permet de convertir binaire en hexadecimal"
   ]
  },
  {
   "cell_type": "code",
   "execution_count": 44,
   "metadata": {},
   "outputs": [],
   "source": [
    "def bin_to_hex(chain):\n",
    "    return ''.join((hex(int(chain[i:i+4], 2))[2:] for i in range(0, len(chain), 4)))"
   ]
  },
  {
   "cell_type": "markdown",
   "metadata": {},
   "source": [
    "#### on crée une fonction qui transforme une liste en chaine de caractére"
   ]
  },
  {
   "cell_type": "code",
   "execution_count": 45,
   "metadata": {},
   "outputs": [],
   "source": [
    "def listToString(s):   \n",
    "    str1 = \"\"    \n",
    "    for i in s:  \n",
    "        str1 += f'{i}'     \n",
    "    return str1  "
   ]
  },
  {
   "cell_type": "markdown",
   "metadata": {},
   "source": [
    "#### on crée une fonction qui retourne le message binaire appliqué à la permutation"
   ]
  },
  {
   "cell_type": "code",
   "execution_count": 46,
   "metadata": {},
   "outputs": [],
   "source": [
    "permutt = [58,50,42,34,26,18,10,2,60,52,44,36,28,20,12,4,62,54,46,38,30,22,14,6,64,56,\n",
    "           48,40,32,24,16,8,57,49,41,33,25,17,9,1,59,51,43,35,27,19,11,3,61,53,45,37,\n",
    "           29,21,13,5,63,55,47,39,31,23,15,7]\n",
    "def permut_message(mess,permt):\n",
    "    message_perm = []\n",
    "    for i in range(len(permt)):\n",
    "        message_perm.append(int(mess[permt[i]-1]))\n",
    "    return message_perm"
   ]
  },
  {
   "cell_type": "markdown",
   "metadata": {},
   "source": [
    "#### on crée deux fonctions qui prennent en paramétre la clé et retourne l'une de l'autre <span style=\"color:red\">Lo</span> et <span style=\"color:red\">Do</span>"
   ]
  },
  {
   "cell_type": "code",
   "execution_count": 47,
   "metadata": {},
   "outputs": [],
   "source": [
    "def Lo(k):\n",
    "    Lo = []\n",
    "    for i in range(len(k)//2):\n",
    "        Lo.append(k[i])\n",
    "    return Lo\n",
    "\n",
    "def Ro(k):\n",
    "    Ro = []\n",
    "    for i in range(len(k)//2,len(k)):\n",
    "        Ro.append(k[i])\n",
    "    return Ro"
   ]
  },
  {
   "cell_type": "markdown",
   "metadata": {},
   "source": [
    "#### on crée une fonction d'expension pour les ki"
   ]
  },
  {
   "cell_type": "code",
   "execution_count": 48,
   "metadata": {
    "scrolled": false
   },
   "outputs": [],
   "source": [
    "permR = [32, 1, 2, 3, 4, 5,4, 5, 6, 7, 8, 9,8, 9, 10, 11, 12, 13,12, 13, 14, 15, 16, 17,\n",
    "16, 17, 18, 19, 20, 21,20, 21, 22, 23, 24, 25,24, 25, 26, 27, 28, 29,28, 29, 30, 31, 32, 1]\n",
    "def ExpensionRn(R):\n",
    "    expension = []\n",
    "    for i in range(len(permR)):\n",
    "        expension.append(R[permR[i]-1])\n",
    "    return expension\n",
    "\n",
    "def Xor_R_K(R,Kn):\n",
    "    Ri = []\n",
    "    list_after_xor = []\n",
    "    for i in range(len(R)):\n",
    "        xor = R[i] ^ Kn[i]\n",
    "        list_after_xor.append(xor)\n",
    "        Ri = R[i]\n",
    "    return list_after_xor"
   ]
  },
  {
   "cell_type": "markdown",
   "metadata": {},
   "source": [
    "#### on crée une fonction qui permet de decouper en taille de 6 bits"
   ]
  },
  {
   "cell_type": "code",
   "execution_count": 49,
   "metadata": {
    "scrolled": true
   },
   "outputs": [],
   "source": [
    "def decouper(k):\n",
    "    return list(zip(*[iter(k)]*6))"
   ]
  },
  {
   "cell_type": "markdown",
   "metadata": {},
   "source": [
    "#### on crée une fonction qui permet de convertir un entier en binaire"
   ]
  },
  {
   "cell_type": "code",
   "execution_count": 50,
   "metadata": {},
   "outputs": [],
   "source": [
    "def Dec_to_bin(d,num=0):\n",
    "    if d == 0:\n",
    "        b = \"0\"\n",
    "    else:\n",
    "        b = \"\"\n",
    "        while d != 0 :\n",
    "            b = \"01\"[d&1]+b\n",
    "            d = d>>1\n",
    "    if len(b.zfill(num)) == 2:\n",
    "        return '00'+b.zfill(num)\n",
    "    elif len(b.zfill(num)) == 3:\n",
    "        return '0'+b.zfill(num)\n",
    "    elif len(b.zfill(num)) == 1:\n",
    "        return '000'+b.zfill(num)\n",
    "    else:\n",
    "        return b.zfill(num)"
   ]
  },
  {
   "cell_type": "markdown",
   "metadata": {},
   "source": [
    "## Pour les  S_BOX"
   ]
  },
  {
   "cell_type": "markdown",
   "metadata": {},
   "source": [
    "#### on crée une fonction qui prend en <span style=\"color:red\">argument un s et une matrice (colonnes/lignes) de ce s</span>"
   ]
  },
  {
   "cell_type": "code",
   "execution_count": 51,
   "metadata": {},
   "outputs": [],
   "source": [
    "def List_to_matrice(s):\n",
    "    m = []\n",
    "    for i in range(0,16):\n",
    "        m.append([])\n",
    "        for j in range(i, 64,16):\n",
    "            m[-1].append(s[j])\n",
    "    return m"
   ]
  },
  {
   "cell_type": "markdown",
   "metadata": {},
   "source": [
    "#### Après on crée une fonction qui :\n",
    " + retourne les lignes et les colonnes des blocs de 6 bits\n",
    " + une fonction qui regroupe tous les lignes et les colonnes dans une liste\n",
    " + une fonction qui recherche les nombres en entier dans les sbox\n",
    " + une fonction qui retourne la fonction appliquée à k et à R\n",
    " + une fonction qui retourne les Ri\n",
    " + une fonction cipher qui retourne le chiffré du message"
   ]
  },
  {
   "cell_type": "code",
   "execution_count": 52,
   "metadata": {
    "scrolled": false
   },
   "outputs": [],
   "source": [
    "Permut_Sbox = [16,7,20,21,29,12,28,17,1,15,23,26,5,18,31,10,2,8,24,14,\n",
    "               32,27,3,9,19,13,30,6,22,11,4,25]\n",
    "Permut_Final = [40,8,48,16,56,24,64,32,39,7,47,15,55,23,63,31,38,6,46,\n",
    "                14,54,22,62,30,37,5,45,13,53,21,61,29,36,4,44,12,52,20,60,28,\n",
    "                35,3,43,11,51,19,59,27,34,2,42,10,50,18,58,26,33,1,41,9,49,17,\n",
    "                57,25]\n",
    "s1 = List_to_matrice([14,4,13,1,2,15,11,8,3,10,6,12,5,9,0,7,0,15,7,4,14,2,13,1,\n",
    "    10,6,12,11,9,5,3,8,4,1,14,8,13,6,2,11,15,12,9,7,3,10,5,0,\n",
    "    15,12,8,2,4,9,1,7,5,11,3,14,10,0,6,13])\n",
    "s2 = List_to_matrice([15,1,8,14,6,11,3,4,9,7,2,13,12,0,5,10,3,13,4,7,15,2,8,14,\n",
    "      12,0,1,10,6,9,11,5,0,14,7,11,10,4,13,1,5,8,12,6,9,3,2,15,\n",
    "      13,8,10,1,3,15,4,2,11,6,7,12,0,5,14,9])\n",
    "s3 = List_to_matrice([10,0,9,14,6,3,15,5,1,13,12,7,11,4,2,8,13,7,0,9,3,4,6,10,\n",
    "      2,8,5,14,12,11,15,1,13,6,4,9,8,15,3,0,11,1,2,12,5,10,14,\n",
    "      7,1,10,13,0,6,9,8,7,4,15,14,3,11,5,2,12])\n",
    "s4 = List_to_matrice([7,13,14,3,0,6,9,10,1,2,8,5,11,12,4,15,13,8,11,5,6,5,0,3,\n",
    "      4,7,2,12,1,10,14,9,10,6,9,0,12,11,7,13,15,1,3,14,5,2,8,\n",
    "      4,3,15,0,6,10,1,13,8,9,4,5,11,12,7,2,14])\n",
    "s5 = List_to_matrice([2,12,4,1,7,10,11,6,8,5,3,15,13,0,14,9,14,11,2,12,4,7,13,\n",
    "      1,5,0,15,10,3,9,8,6,4,2,1,11,10,13,7,8,15,9,12,5,6,3,0,\n",
    "      14,11,8,12,7,1,14,2,13,6,15,0,9,10,4,5,3])\n",
    "s6 = List_to_matrice([12,1,10,15,9,2,6,8,0,13,3,4,14,7,5,11,10,15,4,2,7,12,9,\n",
    "      5,6,1,13,14,0,11,3,8,9,14,15,5,2,8,12,3,7,0,4,10,1,13,\n",
    "      11,6,4,3,2,12,9,5,15,10,11,14,1,7,6,0,8,13])\n",
    "s7 = List_to_matrice([4,11,2,14,15,0,8,13,3,12,9,7,5,10,6,1,13,0,11,7,4,9,1,\n",
    "                      10,14,3,5,12,2,15,8,6,1,4,11,13,12,3,7,14,10,15,6,8,0,\n",
    "                      5,9,2,6,11,13,8,1,4,10,7,9,5,0,15,14,2,3,12])\n",
    "s8 = List_to_matrice([13,2,8,4,6,15,11,1,10,9,3,14,5,0,12,7,1,15,13,8,10,3,7,4,12,5,6,\n",
    "      11,0,14,9,2,7,11,4,1,9,12,14,2,0,6,10,13,15,3,5,8,2,1,14,7,4,10,\n",
    "      8,13,15,12,9,0,3,5,6,11]) \n",
    "Liste_S = [s1,s2,s3,s4,s5,s6,s7,s8]\n",
    "\n",
    "def Ligne_colonne(p):\n",
    "    m = []\n",
    "    ligne = int(f\"{p[0]}\"+f\"{p[len(p)-1]}\",2)\n",
    "    colonne = int(f\"{p[1]}\"+f\"{p[2]}\"+f\"{p[3]}\"+f\"{p[4]}\",2)\n",
    "    m.append(ligne)\n",
    "    m.append(colonne)\n",
    "    return m\n",
    "\n",
    "def List_after_S(p):\n",
    "    ligne,colonne,lc,lcf = int,int,[],[]\n",
    "    for i in range(len(Liste_S)):\n",
    "        x = Ligne_colonne(list(p[i]))\n",
    "        lcf.append(x)\n",
    "    return lcf\n",
    "\n",
    "def Number_after_search(ldecoupe):\n",
    "    l = []\n",
    "    for i in range(len(Liste_S)):\n",
    "        l.append(Liste_S[i][List_after_S(ldecoupe)[i][1]][List_after_S(ldecoupe)[i][0]])\n",
    "    return l\n",
    "def f_K_R(f):\n",
    "    binn = []\n",
    "    for i in range(len(Number_after_search(f))):\n",
    "        binn.append(Dec_to_bin(Number_after_search(f)[i]))\n",
    "    return \"\".join(binn)\n",
    "\n",
    "def Les_L_R(l,ro):\n",
    "    r = []\n",
    "    R = []\n",
    "    for i in range(16):\n",
    "        temp_r = ro\n",
    "        ro = Permut_k(f_K_R(decouper(Xor_R_K(ExpensionRn(ro) ,List_keys()[i]))),Permut_Sbox)\n",
    "        r2 = []\n",
    "        for j in range(len(ro)):\n",
    "            r2.append(l[j] ^ int(ro[j]))\n",
    "        R.append(r2)\n",
    "        l = temp_r\n",
    "        ro = list(r2)\n",
    "    return R\n",
    "\n",
    "def CipherDES(message,k):\n",
    "    concat = Les_L_R(Lo(message),Ro(message))[15]+Les_L_R(Lo(message),Ro(message))[14]\n",
    "    cipher = []\n",
    "    for i in range(len(Permut_Final)):\n",
    "        cipher.append(concat[Permut_Final[i]-1])\n",
    "    return bin_to_hex(listToString(cipher))\n"
   ]
  },
  {
   "cell_type": "markdown",
   "metadata": {},
   "source": [
    "#### Test de chiffrement"
   ]
  },
  {
   "cell_type": "code",
   "execution_count": 53,
   "metadata": {},
   "outputs": [
    {
     "data": {
      "text/plain": [
       "'ac69e37b494646f7'"
      ]
     },
     "execution_count": 53,
     "metadata": {},
     "output_type": "execute_result"
    }
   ],
   "source": [
    "k = List_keys()\n",
    "cc = CipherDES([1,1,0,0, 1,1,0,0, 0,0,0,0, 0,0,0,0, 1,1,0,0, 1,1,0,0, 1,1,1,1, 1,1,1,1, 1,1,1,1, 0,0,0,0, 1,0,1,0, 1,0,1,0, 1,1,1,1, 0,0,0,0, 1,0,1,0, 1,0,1,0],k)\n",
    "cc"
   ]
  },
  {
   "cell_type": "markdown",
   "metadata": {},
   "source": [
    "## DECIPHER"
   ]
  },
  {
   "cell_type": "code",
   "execution_count": 54,
   "metadata": {},
   "outputs": [
    {
     "data": {
      "text/plain": [
       "[0,\n",
       " 1,\n",
       " 1,\n",
       " 0,\n",
       " 1,\n",
       " 1,\n",
       " 1,\n",
       " 0,\n",
       " 1,\n",
       " 1,\n",
       " 0,\n",
       " 1,\n",
       " 1,\n",
       " 1,\n",
       " 0,\n",
       " 1,\n",
       " 1,\n",
       " 0,\n",
       " 1,\n",
       " 1,\n",
       " 1,\n",
       " 0,\n",
       " 1,\n",
       " 1,\n",
       " 0,\n",
       " 1,\n",
       " 1,\n",
       " 1,\n",
       " 0,\n",
       " 1,\n",
       " 1,\n",
       " 0,\n",
       " 1,\n",
       " 1,\n",
       " 1,\n",
       " 0,\n",
       " 1,\n",
       " 1,\n",
       " 0,\n",
       " 1,\n",
       " 1,\n",
       " 1,\n",
       " 0,\n",
       " 1,\n",
       " 1,\n",
       " 0,\n",
       " 1,\n",
       " 1,\n",
       " 1,\n",
       " 0,\n",
       " 1,\n",
       " 1,\n",
       " 0,\n",
       " 1,\n",
       " 1,\n",
       " 1,\n",
       " 0,\n",
       " 1,\n",
       " 1,\n",
       " 0,\n",
       " 1,\n",
       " 1,\n",
       " 1,\n",
       " 0,\n",
       " 1,\n",
       " 1,\n",
       " 0,\n",
       " 1,\n",
       " 1,\n",
       " 1,\n",
       " 0,\n",
       " 1,\n",
       " 1,\n",
       " 0,\n",
       " 1,\n",
       " 1,\n",
       " 1,\n",
       " 0,\n",
       " 1,\n",
       " 1,\n",
       " 0,\n",
       " 1,\n",
       " 1,\n",
       " 1,\n",
       " 0,\n",
       " 1,\n",
       " 1,\n",
       " 0,\n",
       " 1,\n",
       " 1,\n",
       " 1,\n",
       " 0,\n",
       " 1,\n",
       " 1,\n",
       " 0,\n",
       " 1,\n",
       " 1,\n",
       " 1,\n",
       " 0,\n",
       " 1,\n",
       " 1,\n",
       " 0,\n",
       " 1,\n",
       " 1,\n",
       " 1,\n",
       " 0,\n",
       " 1,\n",
       " 1,\n",
       " 0,\n",
       " 1,\n",
       " 1,\n",
       " 1]"
      ]
     },
     "execution_count": 54,
     "metadata": {},
     "output_type": "execute_result"
    }
   ],
   "source": [
    "stringToBinary(cc)\n",
    "li = []\n",
    "for i in range(len(stringToBinary(cc))):\n",
    "    li.append(int(stringToBinary(cc)[i]))\n",
    "li"
   ]
  },
  {
   "cell_type": "code",
   "execution_count": 55,
   "metadata": {
    "scrolled": true
   },
   "outputs": [
    {
     "data": {
      "text/plain": [
       "[[0,\n",
       "  1,\n",
       "  0,\n",
       "  0,\n",
       "  1,\n",
       "  0,\n",
       "  0,\n",
       "  1,\n",
       "  1,\n",
       "  1,\n",
       "  0,\n",
       "  0,\n",
       "  0,\n",
       "  1,\n",
       "  0,\n",
       "  0,\n",
       "  0,\n",
       "  0,\n",
       "  0,\n",
       "  1,\n",
       "  0,\n",
       "  1,\n",
       "  1,\n",
       "  0,\n",
       "  1,\n",
       "  1,\n",
       "  0,\n",
       "  1,\n",
       "  0,\n",
       "  0,\n",
       "  0,\n",
       "  0],\n",
       " [0,\n",
       "  1,\n",
       "  0,\n",
       "  1,\n",
       "  1,\n",
       "  0,\n",
       "  1,\n",
       "  0,\n",
       "  0,\n",
       "  1,\n",
       "  1,\n",
       "  1,\n",
       "  0,\n",
       "  0,\n",
       "  0,\n",
       "  1,\n",
       "  1,\n",
       "  0,\n",
       "  1,\n",
       "  1,\n",
       "  0,\n",
       "  0,\n",
       "  1,\n",
       "  0,\n",
       "  0,\n",
       "  1,\n",
       "  1,\n",
       "  0,\n",
       "  0,\n",
       "  1,\n",
       "  1,\n",
       "  1],\n",
       " [1,\n",
       "  0,\n",
       "  1,\n",
       "  0,\n",
       "  0,\n",
       "  1,\n",
       "  0,\n",
       "  1,\n",
       "  0,\n",
       "  1,\n",
       "  1,\n",
       "  0,\n",
       "  1,\n",
       "  1,\n",
       "  0,\n",
       "  1,\n",
       "  0,\n",
       "  1,\n",
       "  1,\n",
       "  1,\n",
       "  0,\n",
       "  0,\n",
       "  1,\n",
       "  0,\n",
       "  0,\n",
       "  0,\n",
       "  0,\n",
       "  1,\n",
       "  1,\n",
       "  1,\n",
       "  1,\n",
       "  0],\n",
       " [1,\n",
       "  0,\n",
       "  0,\n",
       "  1,\n",
       "  0,\n",
       "  1,\n",
       "  1,\n",
       "  1,\n",
       "  0,\n",
       "  0,\n",
       "  1,\n",
       "  1,\n",
       "  1,\n",
       "  1,\n",
       "  1,\n",
       "  1,\n",
       "  1,\n",
       "  0,\n",
       "  0,\n",
       "  0,\n",
       "  0,\n",
       "  1,\n",
       "  1,\n",
       "  0,\n",
       "  1,\n",
       "  1,\n",
       "  1,\n",
       "  0,\n",
       "  1,\n",
       "  1,\n",
       "  0,\n",
       "  1],\n",
       " [1,\n",
       "  0,\n",
       "  1,\n",
       "  1,\n",
       "  0,\n",
       "  1,\n",
       "  1,\n",
       "  0,\n",
       "  0,\n",
       "  1,\n",
       "  1,\n",
       "  1,\n",
       "  0,\n",
       "  1,\n",
       "  1,\n",
       "  0,\n",
       "  1,\n",
       "  1,\n",
       "  0,\n",
       "  0,\n",
       "  1,\n",
       "  0,\n",
       "  0,\n",
       "  0,\n",
       "  0,\n",
       "  1,\n",
       "  1,\n",
       "  0,\n",
       "  0,\n",
       "  1,\n",
       "  1,\n",
       "  0],\n",
       " [0,\n",
       "  1,\n",
       "  1,\n",
       "  0,\n",
       "  1,\n",
       "  0,\n",
       "  0,\n",
       "  0,\n",
       "  0,\n",
       "  1,\n",
       "  0,\n",
       "  0,\n",
       "  1,\n",
       "  1,\n",
       "  1,\n",
       "  1,\n",
       "  0,\n",
       "  1,\n",
       "  0,\n",
       "  0,\n",
       "  1,\n",
       "  1,\n",
       "  1,\n",
       "  0,\n",
       "  0,\n",
       "  0,\n",
       "  0,\n",
       "  0,\n",
       "  1,\n",
       "  0,\n",
       "  1,\n",
       "  1],\n",
       " [1,\n",
       "  0,\n",
       "  0,\n",
       "  1,\n",
       "  0,\n",
       "  0,\n",
       "  0,\n",
       "  0,\n",
       "  0,\n",
       "  0,\n",
       "  0,\n",
       "  0,\n",
       "  1,\n",
       "  1,\n",
       "  0,\n",
       "  1,\n",
       "  1,\n",
       "  0,\n",
       "  0,\n",
       "  1,\n",
       "  1,\n",
       "  0,\n",
       "  0,\n",
       "  1,\n",
       "  0,\n",
       "  0,\n",
       "  1,\n",
       "  0,\n",
       "  0,\n",
       "  1,\n",
       "  0,\n",
       "  1],\n",
       " [1,\n",
       "  0,\n",
       "  1,\n",
       "  1,\n",
       "  0,\n",
       "  0,\n",
       "  0,\n",
       "  1,\n",
       "  1,\n",
       "  0,\n",
       "  1,\n",
       "  1,\n",
       "  1,\n",
       "  0,\n",
       "  1,\n",
       "  0,\n",
       "  0,\n",
       "  0,\n",
       "  0,\n",
       "  0,\n",
       "  1,\n",
       "  1,\n",
       "  0,\n",
       "  1,\n",
       "  0,\n",
       "  0,\n",
       "  1,\n",
       "  0,\n",
       "  0,\n",
       "  1,\n",
       "  1,\n",
       "  0],\n",
       " [0,\n",
       "  1,\n",
       "  0,\n",
       "  0,\n",
       "  1,\n",
       "  1,\n",
       "  1,\n",
       "  1,\n",
       "  1,\n",
       "  0,\n",
       "  0,\n",
       "  1,\n",
       "  0,\n",
       "  1,\n",
       "  0,\n",
       "  1,\n",
       "  1,\n",
       "  1,\n",
       "  1,\n",
       "  0,\n",
       "  1,\n",
       "  0,\n",
       "  0,\n",
       "  0,\n",
       "  0,\n",
       "  1,\n",
       "  0,\n",
       "  0,\n",
       "  1,\n",
       "  0,\n",
       "  1,\n",
       "  1],\n",
       " [0,\n",
       "  0,\n",
       "  1,\n",
       "  0,\n",
       "  1,\n",
       "  1,\n",
       "  1,\n",
       "  1,\n",
       "  1,\n",
       "  1,\n",
       "  0,\n",
       "  0,\n",
       "  0,\n",
       "  0,\n",
       "  1,\n",
       "  1,\n",
       "  1,\n",
       "  1,\n",
       "  1,\n",
       "  1,\n",
       "  0,\n",
       "  0,\n",
       "  1,\n",
       "  1,\n",
       "  0,\n",
       "  0,\n",
       "  0,\n",
       "  1,\n",
       "  1,\n",
       "  1,\n",
       "  0,\n",
       "  0],\n",
       " [0,\n",
       "  1,\n",
       "  1,\n",
       "  0,\n",
       "  1,\n",
       "  0,\n",
       "  0,\n",
       "  0,\n",
       "  0,\n",
       "  0,\n",
       "  0,\n",
       "  1,\n",
       "  0,\n",
       "  1,\n",
       "  0,\n",
       "  0,\n",
       "  0,\n",
       "  0,\n",
       "  1,\n",
       "  1,\n",
       "  1,\n",
       "  1,\n",
       "  0,\n",
       "  0,\n",
       "  0,\n",
       "  1,\n",
       "  1,\n",
       "  0,\n",
       "  0,\n",
       "  1,\n",
       "  0,\n",
       "  1],\n",
       " [1,\n",
       "  1,\n",
       "  0,\n",
       "  1,\n",
       "  1,\n",
       "  1,\n",
       "  1,\n",
       "  0,\n",
       "  0,\n",
       "  1,\n",
       "  1,\n",
       "  1,\n",
       "  1,\n",
       "  0,\n",
       "  0,\n",
       "  1,\n",
       "  0,\n",
       "  1,\n",
       "  0,\n",
       "  0,\n",
       "  1,\n",
       "  0,\n",
       "  1,\n",
       "  0,\n",
       "  0,\n",
       "  1,\n",
       "  1,\n",
       "  1,\n",
       "  1,\n",
       "  0,\n",
       "  1,\n",
       "  1],\n",
       " [1,\n",
       "  0,\n",
       "  0,\n",
       "  1,\n",
       "  0,\n",
       "  1,\n",
       "  1,\n",
       "  0,\n",
       "  0,\n",
       "  0,\n",
       "  0,\n",
       "  0,\n",
       "  0,\n",
       "  1,\n",
       "  1,\n",
       "  1,\n",
       "  1,\n",
       "  1,\n",
       "  0,\n",
       "  1,\n",
       "  0,\n",
       "  0,\n",
       "  1,\n",
       "  1,\n",
       "  0,\n",
       "  1,\n",
       "  0,\n",
       "  0,\n",
       "  1,\n",
       "  0,\n",
       "  0,\n",
       "  1],\n",
       " [0,\n",
       "  0,\n",
       "  0,\n",
       "  0,\n",
       "  1,\n",
       "  0,\n",
       "  0,\n",
       "  0,\n",
       "  1,\n",
       "  1,\n",
       "  0,\n",
       "  0,\n",
       "  1,\n",
       "  1,\n",
       "  0,\n",
       "  1,\n",
       "  1,\n",
       "  0,\n",
       "  1,\n",
       "  1,\n",
       "  1,\n",
       "  1,\n",
       "  0,\n",
       "  0,\n",
       "  1,\n",
       "  0,\n",
       "  0,\n",
       "  1,\n",
       "  1,\n",
       "  0,\n",
       "  1,\n",
       "  1],\n",
       " [0,\n",
       "  0,\n",
       "  0,\n",
       "  1,\n",
       "  1,\n",
       "  1,\n",
       "  1,\n",
       "  1,\n",
       "  0,\n",
       "  1,\n",
       "  0,\n",
       "  0,\n",
       "  1,\n",
       "  0,\n",
       "  1,\n",
       "  1,\n",
       "  1,\n",
       "  0,\n",
       "  1,\n",
       "  1,\n",
       "  1,\n",
       "  1,\n",
       "  0,\n",
       "  0,\n",
       "  1,\n",
       "  1,\n",
       "  0,\n",
       "  0,\n",
       "  0,\n",
       "  0,\n",
       "  0,\n",
       "  1],\n",
       " [0,\n",
       "  0,\n",
       "  0,\n",
       "  1,\n",
       "  0,\n",
       "  0,\n",
       "  0,\n",
       "  1,\n",
       "  0,\n",
       "  1,\n",
       "  0,\n",
       "  1,\n",
       "  1,\n",
       "  1,\n",
       "  0,\n",
       "  1,\n",
       "  1,\n",
       "  1,\n",
       "  0,\n",
       "  1,\n",
       "  1,\n",
       "  1,\n",
       "  1,\n",
       "  0,\n",
       "  1,\n",
       "  0,\n",
       "  1,\n",
       "  1,\n",
       "  0,\n",
       "  1,\n",
       "  0,\n",
       "  0]]"
      ]
     },
     "execution_count": 55,
     "metadata": {},
     "output_type": "execute_result"
    }
   ],
   "source": [
    "def Inverse(l,ro):\n",
    "    r = []\n",
    "    R = []\n",
    "    for i in range(16):\n",
    "        temp_r = l\n",
    "        l = Permut_k(f_K_R(decouper(Xor_R_K(ExpensionRn(l) ,List_keys()[i]))),Permut_Sbox)\n",
    "        r2 = []\n",
    "        for j in range(len(ro)):\n",
    "            r2.append(ro[j] ^ int(l[j]))\n",
    "        R.append(r2)\n",
    "        ro = temp_r\n",
    "        l = list(r2)\n",
    "    return R\n",
    "Inverse(Lo(Les_L_R(Lo(li),Ro(li))[15]+Les_L_R(Lo(li),Ro(li))[14]),Ro(Les_L_R(Lo(li),Ro(li))[15]+Les_L_R(Lo(li),Ro(li))[14]))"
   ]
  },
  {
   "cell_type": "code",
   "execution_count": 56,
   "metadata": {},
   "outputs": [
    {
     "data": {
      "text/plain": [
       "'5d7949e39b2a86b4'"
      ]
     },
     "execution_count": 56,
     "metadata": {},
     "output_type": "execute_result"
    }
   ],
   "source": [
    "def decipher(m,k):\n",
    "    concat = Les_L_R(Lo(message),Ro(message))[15]+Les_L_R(Lo(message),Ro(message))[14]\n",
    "    decipher = []\n",
    "    for i in range(len(Permut_Final)):\n",
    "        decipher.append(concat[Permut_Final[i]-1])\n",
    "    return bin_to_hex(listToString(decipher))\n",
    "decipher(Permut_k(Les_L_R(Lo(message),Ro(message))[15]+Les_L_R(Lo(message),Ro(message))[14],Permut_Final),Inverse(Lo(message),Ro(message)))"
   ]
  },
  {
   "cell_type": "markdown",
   "metadata": {},
   "source": [
    "<h2 style=\"color:orange;font-size:50px\"><strong> AES </strong> </h2>"
   ]
  },
  {
   "cell_type": "code",
   "execution_count": 57,
   "metadata": {},
   "outputs": [],
   "source": [
    "import random\n",
    "def genkey_system(taille):\n",
    "    return [random.randint(0,1) for i in range(taille)]"
   ]
  },
  {
   "cell_type": "code",
   "execution_count": 20,
   "metadata": {},
   "outputs": [],
   "source": [
    "def subBytes(state, Nb):\n",
    "    tmp = [[0 for i in range(Nb)] for i in range(Nb)]\n",
    "    for i in range(Nb):\n",
    "        for j in range(Nb):\n",
    "            tmp[i][j] = S[int(state[i][j][0], 16)]\n",
    "            [int(state[i][j][1], 16)]\n",
    "    return tmp"
   ]
  },
  {
   "cell_type": "code",
   "execution_count": 21,
   "metadata": {},
   "outputs": [],
   "source": [
    "def shiftRows(state, Nb):\n",
    "    tmp = [[0 for i in range(Nb)] for i in range(Nb)]\n",
    "    for i in range(Nb):\n",
    "        for j in range(Nb):\n",
    "            tmp[i][j] = state[i][(j + i) % Nb]\n",
    "    return tmp"
   ]
  },
  {
   "cell_type": "code",
   "execution_count": 22,
   "metadata": {},
   "outputs": [],
   "source": [
    "def gMult(a, b):\n",
    "    product = '00000000'\n",
    "    a = hex2bin(a)\n",
    "    b = hex2bin(b)\n",
    "    for i in range(8):\n",
    "        if int(b[7], 2) & 1:\n",
    "            product = bin2byte(bin(int(product, 2) ^\n",
    "            int(a, 2)).lstrip('0b'))\n",
    "        aHighBit = int(a[0], 2)\n",
    "        a = bin2byte(bin(int(a, 2) << 1).lstrip('0b'))\n",
    "        if aHighBit & 1:\n",
    "            num = hex2bin('1b')\n",
    "            a = bin2byte(bin(int(a, 2) ^ int(num, 2)).lstrip('0b'))\n",
    "        b = bin2byte(bin(int(b, 2) >> 1).lstrip('0b'))\n",
    "    return int(product, 2)"
   ]
  },
  {
   "cell_type": "code",
   "execution_count": 23,
   "metadata": {},
   "outputs": [],
   "source": [
    "def mixColumns(state, Nb):\n",
    "    tmp = [[0 for i in range(Nb)] for i in range(Nb)]\n",
    "    for i in range(Nb):\n",
    "        tmp[0][i] = int2hex(gMult(state[0][i], '02') ^ gMult(state[1][i], '03') ^ gMult(state[2][i], '01') ^ gMult(state[3][i], '01'))\n",
    "        tmp[1][i] = int2hex(gMult(state[0][i], '01') ^ gMult(state[1][i], '02') ^ gMult(state[2][i], '03') ^ gMult(state[3][i], '01'))\n",
    "        tmp[2][i] = int2hex(gMult(state[0][i], '01') ^ gMult(state[1][i], '01') ^ gMult(state[2][i], '02') ^ gMult(state[3][i], '03'))\n",
    "        tmp[3][i] = int2hex(gMult(state[0][i], '03') ^ gMult(state[1][i], '01') ^ gMult(state[2][i], '01') ^ gMult(state[3][i], '02'))\n",
    "    return tmp"
   ]
  },
  {
   "cell_type": "code",
   "execution_count": 24,
   "metadata": {},
   "outputs": [],
   "source": [
    "def addRoundKey(state, roundkey, Nb):\n",
    "    tmp = [[] for i in range(Nb)]\n",
    "    for i in range(Nb):\n",
    "        for j in range(Nb):\n",
    "            tmp[i].append(int2hex(int(state[i][j], 16) ^\n",
    "                int(roundkey[i][j], 16)))\n",
    "    return tmp"
   ]
  },
  {
   "cell_type": "code",
   "execution_count": 25,
   "metadata": {},
   "outputs": [],
   "source": [
    "def subWord(w):\n",
    "    (a0, a1, a2, a3) = wortToBytes(w)\n",
    "    return S[int(a0[0], 16)][int(a0[1], 16)] + S[int(a1[0], 16)][int(a1[1], 16)] + S[int(a2[0], 16)][int(a2[1], 16)] + S[int(a3[0], 16)][int(a3[1], 16)]"
   ]
  },
  {
   "cell_type": "code",
   "execution_count": 26,
   "metadata": {},
   "outputs": [],
   "source": [
    "def rotWord(w):\n",
    "    (a0, a1, a2, a3) = wortToBytes(w)\n",
    "    return a1 + a2 + a3 + a0"
   ]
  },
  {
   "cell_type": "code",
   "execution_count": 27,
   "metadata": {},
   "outputs": [],
   "source": [
    "def rcon(n):\n",
    "    CON = ['01000000', '02000000', '04000000', '08000000',\n",
    "    '10000000', '20000000', '40000000', '80000000',\n",
    "    '1b000000', '36000000']\n",
    "    return RCON[n]"
   ]
  },
  {
   "cell_type": "code",
   "execution_count": 28,
   "metadata": {},
   "outputs": [],
   "source": [
    "def keyExpansion(key, Nk=4, Nb=4, Nr=10):\n",
    "    w = [0]*Nb*(Nr + 1)\n",
    "    kw = keyToWords(key, Nk)\n",
    "\n",
    "    for i in range(Nk):\n",
    "        w[i] = kw[i]\n",
    "    for i in range(Nk, Nb*(Nr + 1)):\n",
    "        tmp = w[i-1]\n",
    "        if (i % Nk == 0):\n",
    "            mp = int2hex(int(subWord(rotWord(tmp)), 16) ^\n",
    "                int(rcon((i/Nk)-1), 16))\n",
    "        elif ((Nk > 6) and (i % Nk == 4)):\n",
    "            tmp = subWord(tmp)\n",
    "        w[i] = int2hex(int(w[i - Nk], 16) ^ int(tmp, 16))\n",
    "    return w"
   ]
  },
  {
   "cell_type": "code",
   "execution_count": 29,
   "metadata": {},
   "outputs": [],
   "source": [
    "def keyToWords(key, Nk):\n",
    "    keyWords = [[] for i in range(Nk)]\n",
    "    word = 0\n",
    "    tmp = \"\"\n",
    "    for cpt in range(len(key)):\n",
    "        if (cpt % 8 == 0) and (cpt < 0):\n",
    "            keyWords[word] = tmp\n",
    "            word += 1\n",
    "            tmp = key[cpt]\n",
    "        else:\n",
    "            tmp += key[cpt]\n",
    "    keyWords[word] = tmp\n",
    "    return keyWords"
   ]
  },
  {
   "cell_type": "code",
   "execution_count": 30,
   "metadata": {},
   "outputs": [
    {
     "ename": "NameError",
     "evalue": "name 'int2hex' is not defined",
     "output_type": "error",
     "traceback": [
      "\u001b[0;31m---------------------------------------------------------------------------\u001b[0m",
      "\u001b[0;31mNameError\u001b[0m                                 Traceback (most recent call last)",
      "\u001b[0;32m<ipython-input-30-25a3c65d7a5c>\u001b[0m in \u001b[0;36m<module>\u001b[0;34m\u001b[0m\n\u001b[1;32m      1\u001b[0m \u001b[0mkey\u001b[0m \u001b[0;34m=\u001b[0m \u001b[0;34m'2b7e151628aed2a6abf7158809cf4f3c'\u001b[0m\u001b[0;34m\u001b[0m\u001b[0;34m\u001b[0m\u001b[0m\n\u001b[0;32m----> 2\u001b[0;31m \u001b[0mkeyExp\u001b[0m \u001b[0;34m=\u001b[0m \u001b[0mkeyExpansion\u001b[0m\u001b[0;34m(\u001b[0m\u001b[0mkey\u001b[0m\u001b[0;34m)\u001b[0m\u001b[0;34m\u001b[0m\u001b[0;34m\u001b[0m\u001b[0m\n\u001b[0m",
      "\u001b[0;32m<ipython-input-28-9a121cccbed8>\u001b[0m in \u001b[0;36mkeyExpansion\u001b[0;34m(key, Nk, Nb, Nr)\u001b[0m\n\u001b[1;32m      8\u001b[0m         \u001b[0mtmp\u001b[0m \u001b[0;34m=\u001b[0m \u001b[0mw\u001b[0m\u001b[0;34m[\u001b[0m\u001b[0mi\u001b[0m\u001b[0;34m-\u001b[0m\u001b[0;36m1\u001b[0m\u001b[0;34m]\u001b[0m\u001b[0;34m\u001b[0m\u001b[0;34m\u001b[0m\u001b[0m\n\u001b[1;32m      9\u001b[0m         \u001b[0;32mif\u001b[0m \u001b[0;34m(\u001b[0m\u001b[0mi\u001b[0m \u001b[0;34m%\u001b[0m \u001b[0mNk\u001b[0m \u001b[0;34m==\u001b[0m \u001b[0;36m0\u001b[0m\u001b[0;34m)\u001b[0m\u001b[0;34m:\u001b[0m\u001b[0;34m\u001b[0m\u001b[0;34m\u001b[0m\u001b[0m\n\u001b[0;32m---> 10\u001b[0;31m             mp = int2hex(int(subWord(rotWord(tmp)), 16) ^\n\u001b[0m\u001b[1;32m     11\u001b[0m                 int(rcon((i/Nk)-1), 16))\n\u001b[1;32m     12\u001b[0m         \u001b[0;32melif\u001b[0m \u001b[0;34m(\u001b[0m\u001b[0;34m(\u001b[0m\u001b[0mNk\u001b[0m \u001b[0;34m>\u001b[0m \u001b[0;36m6\u001b[0m\u001b[0;34m)\u001b[0m \u001b[0;32mand\u001b[0m \u001b[0;34m(\u001b[0m\u001b[0mi\u001b[0m \u001b[0;34m%\u001b[0m \u001b[0mNk\u001b[0m \u001b[0;34m==\u001b[0m \u001b[0;36m4\u001b[0m\u001b[0;34m)\u001b[0m\u001b[0;34m)\u001b[0m\u001b[0;34m:\u001b[0m\u001b[0;34m\u001b[0m\u001b[0;34m\u001b[0m\u001b[0m\n",
      "\u001b[0;31mNameError\u001b[0m: name 'int2hex' is not defined"
     ]
    }
   ],
   "source": [
    "key = '2b7e151628aed2a6abf7158809cf4f3c'\n",
    "keyExp = keyExpansion(key)"
   ]
  },
  {
   "cell_type": "code",
   "execution_count": 9,
   "metadata": {},
   "outputs": [
    {
     "name": "stdout",
     "output_type": "stream",
     "text": [
      "Help on built-in function bin in module builtins:\n",
      "\n",
      "bin(number, /)\n",
      "    Return the binary representation of an integer.\n",
      "    \n",
      "    >>> bin(2796202)\n",
      "    '0b1010101010101010101010'\n",
      "\n"
     ]
    }
   ],
   "source": [
    "help(bin)"
   ]
  },
  {
   "cell_type": "code",
   "execution_count": 10,
   "metadata": {},
   "outputs": [
    {
     "data": {
      "text/plain": [
       "'0b10000000000000001'"
      ]
     },
     "execution_count": 10,
     "metadata": {},
     "output_type": "execute_result"
    }
   ],
   "source": [
    "bin(2**16+1)"
   ]
  },
  {
   "cell_type": "code",
   "execution_count": null,
   "metadata": {},
   "outputs": [],
   "source": []
  },
  {
   "cell_type": "code",
   "execution_count": null,
   "metadata": {},
   "outputs": [],
   "source": []
  },
  {
   "cell_type": "code",
   "execution_count": null,
   "metadata": {
    "scrolled": true
   },
   "outputs": [],
   "source": []
  },
  {
   "cell_type": "markdown",
   "metadata": {},
   "source": [
    "<h1 style=\"color:red\">Partie IV : Implémentation d'algorithmes sur Z et Z/nZ</h1>\n"
   ]
  },
  {
   "cell_type": "markdown",
   "metadata": {},
   "source": [
    "# <h1>L'algorithme d'Euclide pour le calcul du PGCD</h1>"
   ]
  },
  {
   "cell_type": "code",
   "execution_count": 31,
   "metadata": {},
   "outputs": [],
   "source": [
    "def Euclide_for_PGCD(a,b):\n",
    "    while True:\n",
    "        if a < b:\n",
    "            a = int(input(\"Entrer un nombre supérieur à b \"))\n",
    "        else:\n",
    "            break\n",
    "    while b != 0:\n",
    "        r = a % b\n",
    "        a = b\n",
    "        b = r\n",
    "    return a"
   ]
  },
  {
   "cell_type": "markdown",
   "metadata": {},
   "source": [
    "<h1>L'algorithme d'Euclide étendu</h1>"
   ]
  },
  {
   "cell_type": "code",
   "execution_count": 12,
   "metadata": {},
   "outputs": [],
   "source": [
    "def Euclide_Etendu(a,b):\n",
    "    while True:\n",
    "        if a < b:\n",
    "            a = int(input(\"Entrer un nombre supérieur à b\"))\n",
    "        else:\n",
    "            break\n",
    "    x,y,xx,yy = 1,0,0,1\n",
    "    while b != 0:\n",
    "        q = a //b\n",
    "        a,b = b,a % b\n",
    "        xx,x = x - (q*xx),xx\n",
    "        yy,y = y - (q*yy),yy\n",
    "    return a,x,y"
   ]
  },
  {
   "cell_type": "markdown",
   "metadata": {},
   "source": [
    "<h1>L'algorithme de calcul inverse modulo</h1>"
   ]
  },
  {
   "cell_type": "code",
   "execution_count": 14,
   "metadata": {},
   "outputs": [
    {
     "ename": "TypeError",
     "evalue": "Inverse_Entier() missing 1 required positional argument: 'n'",
     "output_type": "error",
     "traceback": [
      "\u001b[0;31m---------------------------------------------------------------------------\u001b[0m",
      "\u001b[0;31mTypeError\u001b[0m                                 Traceback (most recent call last)",
      "\u001b[0;32m<ipython-input-14-b9926166f253>\u001b[0m in \u001b[0;36m<module>\u001b[0;34m\u001b[0m\n\u001b[1;32m      5\u001b[0m     \u001b[0;32melse\u001b[0m\u001b[0;34m:\u001b[0m\u001b[0;34m\u001b[0m\u001b[0;34m\u001b[0m\u001b[0m\n\u001b[1;32m      6\u001b[0m         \u001b[0;32mreturn\u001b[0m \u001b[0mu\u001b[0m \u001b[0;34m%\u001b[0m \u001b[0mn\u001b[0m\u001b[0;34m\u001b[0m\u001b[0;34m\u001b[0m\u001b[0m\n\u001b[0;32m----> 7\u001b[0;31m \u001b[0mInverse_Entier\u001b[0m\u001b[0;34m(\u001b[0m\u001b[0;36m220\u001b[0m\u001b[0;34m,\u001b[0m\u001b[0;34m)\u001b[0m\u001b[0;34m\u001b[0m\u001b[0;34m\u001b[0m\u001b[0m\n\u001b[0m",
      "\u001b[0;31mTypeError\u001b[0m: Inverse_Entier() missing 1 required positional argument: 'n'"
     ]
    }
   ],
   "source": [
    "def Inverse_Entier(a,n):\n",
    "    u,v,d = Euclide_Etendu(a,n)\n",
    "    if u != 1:\n",
    "        return 0\n",
    "    else:\n",
    "        return u % n\n",
    "Inverse_Entier(220,)"
   ]
  },
  {
   "cell_type": "code",
   "execution_count": 27,
   "metadata": {},
   "outputs": [
    {
     "data": {
      "text/plain": [
       "1"
      ]
     },
     "execution_count": 27,
     "metadata": {},
     "output_type": "execute_result"
    }
   ],
   "source": [
    "((6**10))%101"
   ]
  },
  {
   "cell_type": "markdown",
   "metadata": {},
   "source": [
    "<h1>L'algorithme de calcul d'une puissance modulaire</h1>"
   ]
  },
  {
   "cell_type": "code",
   "execution_count": 34,
   "metadata": {},
   "outputs": [],
   "source": [
    "def Puissance_modulaire(a,m,n):\n",
    "    b = 1\n",
    "def puissance(a,m,n):\n",
    "    puiss = 1                      # Résultat\n",
    "    while (m>0):\n",
    "        if m % 2 != 0 :            # Si k est impair (i.e. k_i=1)\n",
    "            puiss = (puiss*a) % n\n",
    "        a = a*a % n                # Vaut x, x^2, x^4,...\n",
    "        m = m // 2\n",
    "    return(puiss)\n"
   ]
  },
  {
   "cell_type": "code",
   "execution_count": null,
   "metadata": {},
   "outputs": [],
   "source": []
  },
  {
   "cell_type": "code",
   "execution_count": null,
   "metadata": {},
   "outputs": [],
   "source": []
  }
 ],
 "metadata": {
  "kernelspec": {
   "display_name": "Python 3",
   "language": "python",
   "name": "python3"
  },
  "language_info": {
   "codemirror_mode": {
    "name": "ipython",
    "version": 3
   },
   "file_extension": ".py",
   "mimetype": "text/x-python",
   "name": "python",
   "nbconvert_exporter": "python",
   "pygments_lexer": "ipython3",
   "version": "3.7.4"
  }
 },
 "nbformat": 4,
 "nbformat_minor": 2
}
