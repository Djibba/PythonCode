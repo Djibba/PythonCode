{
 "cells": [
  {
   "cell_type": "markdown",
   "metadata": {},
   "source": [
    "## Exercice 1\n"
   ]
  },
  {
   "cell_type": "markdown",
   "metadata": {},
   "source": [
    "# 0 ."
   ]
  },
  {
   "cell_type": "code",
   "execution_count": 14,
   "metadata": {},
   "outputs": [
    {
     "name": "stdout",
     "output_type": "stream",
     "text": [
      "Entrer une chaine de caractères : A\n",
      "-\n"
     ]
    }
   ],
   "source": [
    "chaine = str(input(\"Entrer une chaine de caractères : \"))\n",
    "chaine = list(chaine)\n",
    "if len(chaine)%2 == 0:\n",
    "    chaine.insert(len(chaine)//2,\"-\")\n",
    "else:\n",
    "    chaine[len(chaine)//2] =  \"-\"\n",
    "print(\"\".join(chaine))"
   ]
  },
  {
   "cell_type": "markdown",
   "metadata": {},
   "source": [
    "# 1."
   ]
  },
  {
   "cell_type": "code",
   "execution_count": 3,
   "metadata": {},
   "outputs": [
    {
     "name": "stdout",
     "output_type": "stream",
     "text": [
      "Entrer un nombre : 3\n",
      "3  n'est pas un nombre premier\n"
     ]
    }
   ],
   "source": [
    "import math\n",
    "n = int(input(\"Entrer un nombre : \"))\n",
    "b=False\n",
    "for i in range(2,int(n)+1):\n",
    "     if n%i==0 :\n",
    "        b=True\n",
    "if b:\n",
    "      print(n, \" n'est pas un nombre premier\")\n",
    "else :\n",
    "    print(n, \"est un nombre premier\")"
   ]
  },
  {
   "cell_type": "markdown",
   "metadata": {},
   "source": [
    "# 2."
   ]
  },
  {
   "cell_type": "code",
   "execution_count": 6,
   "metadata": {},
   "outputs": [
    {
     "name": "stdout",
     "output_type": "stream",
     "text": [
      "Entrer une valeur : 4\n",
      "le type de 4 est <class 'int'>\n"
     ]
    }
   ],
   "source": [
    "var = eval(input(\"Entrer une valeur : \"))\n",
    "#if isinstance(var, type(var)):\n",
    "print(f\"le type de {var} est {type(var)}\")"
   ]
  },
  {
   "cell_type": "markdown",
   "metadata": {},
   "source": [
    "# 3."
   ]
  },
  {
   "cell_type": "code",
   "execution_count": 7,
   "metadata": {},
   "outputs": [
    {
     "name": "stdout",
     "output_type": "stream",
     "text": [
      "Entrer une valeur : 4\n",
      "4 est inférieur à 5\n"
     ]
    }
   ],
   "source": [
    "test1 = int(input(\"Entrer une valeur : \"))\n",
    "if test1 > 5:\n",
    "    print(\"Congratulations\")\n",
    "else:\n",
    "    print(f\"{test1} est inférieur à 5\")"
   ]
  },
  {
   "cell_type": "markdown",
   "metadata": {},
   "source": [
    "# 4."
   ]
  },
  {
   "cell_type": "code",
   "execution_count": 8,
   "metadata": {},
   "outputs": [
    {
     "name": "stdout",
     "output_type": "stream",
     "text": [
      "Entrer un nombre : 4\n",
      "J'ai trouvé un nombre pair\n"
     ]
    }
   ],
   "source": [
    "test2 = int(input(\"Entrer un nombre : \"))\n",
    "if test2 % 2 != 0:\n",
    "    print(\"J'ai trouvé un nombre impair\")\n",
    "else:\n",
    "    print(\"J'ai trouvé un nombre pair\")"
   ]
  },
  {
   "cell_type": "markdown",
   "metadata": {},
   "source": [
    "# 5."
   ]
  },
  {
   "cell_type": "code",
   "execution_count": 34,
   "metadata": {},
   "outputs": [
    {
     "name": "stdout",
     "output_type": "stream",
     "text": [
      "Entrer un entier : 'r'\n",
      "Un nombre fantastique\n"
     ]
    }
   ],
   "source": [
    "test3 = input(\"Entrer un entier : \")\n",
    "if type(test3) != int:\n",
    "    print(\"Un nombre fantastique\")\n",
    "else:\n",
    "    print(\"ne fait rien\")\n",
    "    "
   ]
  },
  {
   "cell_type": "markdown",
   "metadata": {},
   "source": [
    "# 6."
   ]
  },
  {
   "cell_type": "code",
   "execution_count": 39,
   "metadata": {},
   "outputs": [
    {
     "name": "stdout",
     "output_type": "stream",
     "text": [
      "Entrer un nombre : 19\n",
      "Grand nombre\n"
     ]
    }
   ],
   "source": [
    "test4 = int(input(\"Entrer un nombre : \"))\n",
    "if -3 <= test4 <= 3:\n",
    "    print(\"Petit nombre\")\n",
    "elif -10 <= test4 <= 10:\n",
    "    print(\"Nombre moyen\")\n",
    "else:\n",
    "    print(\"Grand nombre\")"
   ]
  },
  {
   "cell_type": "markdown",
   "metadata": {},
   "source": [
    "# 7."
   ]
  },
  {
   "cell_type": "code",
   "execution_count": 42,
   "metadata": {
    "scrolled": true
   },
   "outputs": [
    {
     "name": "stdout",
     "output_type": "stream",
     "text": [
      "Entrer un nombre : -3\n",
      "Oh, non pas vous\n"
     ]
    }
   ],
   "source": [
    "test6 = int(input(\"Entrer un nombre : \"))\n",
    "if test6 < 0:\n",
    "    test6*=3\n",
    "    if test6 == 9:\n",
    "        print(\"hello, mon ami\")\n",
    "    else:\n",
    "        print(\"Oh, non pas vous\")"
   ]
  },
  {
   "cell_type": "markdown",
   "metadata": {},
   "source": [
    "# 8."
   ]
  },
  {
   "cell_type": "code",
   "execution_count": 56,
   "metadata": {},
   "outputs": [
    {
     "name": "stdout",
     "output_type": "stream",
     "text": [
      "Entrer un nombre 1 à 7 : 7\n",
      "Week-end\n"
     ]
    }
   ],
   "source": [
    "dict ={\"Lundi\":1,\"Mardi\":2,\"Mercredi\":3,\"Jeudi\":4,\"Vendredi\":5,\"Samedi\":6,\"Dimanche\":7}\n",
    "n = int(input(\"Entrer un nombre 1 à 7 : \"))\n",
    "if n == 7 or n == 6:\n",
    "    print(\"Week-end\")\n",
    "else:\n",
    "    print(list(dict.keys())[list(dict.values()).index(n)])"
   ]
  },
  {
   "cell_type": "markdown",
   "metadata": {},
   "source": [
    "# 9."
   ]
  },
  {
   "cell_type": "code",
   "execution_count": 5,
   "metadata": {},
   "outputs": [
    {
     "name": "stdout",
     "output_type": "stream",
     "text": [
      "Entrer un nombre de 1 à 12 : 8\n",
      "Le nombre de jours du mois Aout est 31 \n"
     ]
    }
   ],
   "source": [
    "dict ={\"Janvier\":1,\"Février\":2,\"Mars\":3,\"Avril\":4,\"Mai\":5,\n",
    "       \"Juin\":6,\"Juillet\":7,\"Aout\":8,\"Septembre\":9,\"Octobre\":10,\n",
    "       \"Novembre\":11,\"Decembre\":12}\n",
    "n = int(input(\"Entrer un nombre de 1 à 12 : \"))\n",
    "month = list(dict.keys())[list(dict.values()).index(n)]\n",
    "if n==1 or n==3 or n==5 or n==7 or n==8 or n==10 or n==12:\n",
    "    day = 31\n",
    "    print(f\"Le nombre de jours du mois {month} est {day} \")\n",
    "elif n == 2:\n",
    "    day = 28\n",
    "    print(f\"Le nombre de jours du mois {month} est {day} \")                                              \n",
    "else:\n",
    "    day = 30\n",
    "    print(f\"Le nombre de jours du mois {month} est {day} \")"
   ]
  },
  {
   "cell_type": "markdown",
   "metadata": {},
   "source": [
    "# 10."
   ]
  },
  {
   "cell_type": "code",
   "execution_count": 33,
   "metadata": {},
   "outputs": [
    {
     "name": "stdout",
     "output_type": "stream",
     "text": [
      "Entrer un nombre : 4\n",
      "1 4 9 16 \n",
      "la somme est  30\n"
     ]
    }
   ],
   "source": [
    "n =  int(input(\"Entrer un nombre : \"))\n",
    "somme = 0\n",
    "for i in range(1,n+1):\n",
    "    print(i**2,end=\" \")\n",
    "    somme+=i**2\n",
    "print(\"\\nla somme est \",somme)"
   ]
  },
  {
   "cell_type": "markdown",
   "metadata": {},
   "source": [
    "# 11."
   ]
  },
  {
   "cell_type": "code",
   "execution_count": 39,
   "metadata": {},
   "outputs": [
    {
     "name": "stdout",
     "output_type": "stream",
     "text": [
      "Entrer un nombre : 5\n",
      "Entrer la limite de la table : 9\n",
      "La table de multiplication de 5 est : \n",
      "5 * 1 = 5\n",
      "5 * 2 = 10\n",
      "5 * 3 = 15\n",
      "5 * 4 = 20\n",
      "5 * 5 = 25\n",
      "5 * 6 = 30\n",
      "5 * 7 = 35\n",
      "5 * 8 = 40\n",
      "5 * 9 = 45\n"
     ]
    }
   ],
   "source": [
    "n = int(input(\"Entrer un nombre : \"))\n",
    "N = int(input(\"Entrer la limite de la table : \"))\n",
    "print(f\"La table de multiplication de {n} est : \")\n",
    "for i in range(1,N+1):\n",
    "    print(f\"{n} * {i} = {n*i}\")"
   ]
  },
  {
   "cell_type": "markdown",
   "metadata": {},
   "source": [
    "# 12."
   ]
  },
  {
   "cell_type": "code",
   "execution_count": 40,
   "metadata": {},
   "outputs": [
    {
     "name": "stdout",
     "output_type": "stream",
     "text": [
      "0 3 6 7 9 11 12 14 15 18 21 22 24 27 28 30 33 35 36 39 "
     ]
    }
   ],
   "source": [
    "for i in range(40):\n",
    "    if i%3 == 0 or i%7 == 0 or i%11 ==0:\n",
    "        print(i,end=\" \")"
   ]
  },
  {
   "cell_type": "markdown",
   "metadata": {},
   "source": [
    "# 13."
   ]
  },
  {
   "cell_type": "code",
   "execution_count": 44,
   "metadata": {},
   "outputs": [
    {
     "name": "stdout",
     "output_type": "stream",
     "text": [
      "Entrer un entier : 4\n",
      "la somme est 5 et le produit est 15\n"
     ]
    }
   ],
   "source": [
    "n = int(input(\"Entrer un entier : \"))\n",
    "for i in range(n):\n",
    "    if i%2==0:\n",
    "        s = i + 3\n",
    "        for j in range(n):\n",
    "            if j%3==0:\n",
    "                p = j**2 + 2*j\n",
    "                \n",
    "print(f\"la somme est {s} et le produit est {p}\")"
   ]
  },
  {
   "cell_type": "markdown",
   "metadata": {},
   "source": [
    "# 14."
   ]
  },
  {
   "cell_type": "code",
   "execution_count": 45,
   "metadata": {},
   "outputs": [
    {
     "name": "stdout",
     "output_type": "stream",
     "text": [
      "0 3 5 6 9 10 12 15 18 20 21 24 25 27 30 33 35 36 39 40 42 45 48 50 51 54 55 57 60 63 65 66 69 70 72 75 78 80 81 84 85 87 90 93 95 96 99 100 102 105 108 110 111 114 115 117 120 123 125 126 129 130 132 135 138 140 141 144 145 147 150 153 155 156 159 160 162 165 168 170 171 174 175 177 180 183 185 186 189 190 192 195 198 \n",
      "La somme est 9168\n"
     ]
    }
   ],
   "source": [
    "somm = 0\n",
    "for i in range(200):\n",
    "    if i%3==0 or i%5==0:\n",
    "        print(i,end=\" \")\n",
    "        somm+=i\n",
    "print(f\"\\nLa somme est {somm}\")"
   ]
  },
  {
   "cell_type": "markdown",
   "metadata": {},
   "source": [
    "## Exercice 2"
   ]
  },
  {
   "cell_type": "markdown",
   "metadata": {},
   "source": [
    "### Partie 1"
   ]
  },
  {
   "cell_type": "markdown",
   "metadata": {},
   "source": [
    "# 1."
   ]
  },
  {
   "cell_type": "code",
   "execution_count": 2,
   "metadata": {
    "scrolled": false
   },
   "outputs": [
    {
     "name": "stdout",
     "output_type": "stream",
     "text": [
      "{'A': 0, 'B': 1, 'C': 2, 'D': 3, 'E': 4, 'F': 5, 'G': 6, 'H': 7, 'I': 8, 'J': 9, 'K': 10, 'L': 11, 'M': 12, 'N': 13, 'O': 14, 'P': 15, 'Q': 16, 'R': 17, 'S': 18, 'T': 19, 'U': 20, 'V': 21, 'W': 22, 'X': 23, 'Y': 24, 'Z': 25}\n"
     ]
    }
   ],
   "source": [
    "import string\n",
    "\n",
    "j=0\n",
    "dict = {}\n",
    "for i in string.ascii_uppercase:\n",
    "    dict[i] = j\n",
    "    j+=1\n",
    "print(dict)\n",
    "    "
   ]
  },
  {
   "cell_type": "code",
   "execution_count": null,
   "metadata": {},
   "outputs": [],
   "source": []
  },
  {
   "cell_type": "code",
   "execution_count": 3,
   "metadata": {},
   "outputs": [
    {
     "name": "stdout",
     "output_type": "stream",
     "text": [
      "{0: 'A', 1: 'B', 2: 'C', 3: 'D', 4: 'E', 5: 'F', 6: 'G', 7: 'H', 8: 'I', 9: 'J', 10: 'K', 11: 'L', 12: 'M', 13: 'N', 14: 'O', 15: 'P', 16: 'Q', 17: 'R', 18: 'S', 19: 'T', 20: 'U', 21: 'V', 22: 'W', 23: 'X', 24: 'Y', 25: 'Z'}\n"
     ]
    }
   ],
   "source": [
    "import string\n",
    "j=0\n",
    "dict_inv = {}\n",
    "for i in string.ascii_uppercase:\n",
    "    dict_inv[j] = i\n",
    "    j+=1\n",
    "print(dict_inv)"
   ]
  },
  {
   "cell_type": "markdown",
   "metadata": {},
   "source": [
    "\n",
    "# 2."
   ]
  },
  {
   "cell_type": "code",
   "execution_count": 24,
   "metadata": {
    "scrolled": true
   },
   "outputs": [
    {
     "name": "stdout",
     "output_type": "stream",
     "text": [
      "Entrer l'index de la lettre : 3\n",
      "la letter à la position 3 est D\n"
     ]
    }
   ],
   "source": [
    "n = int(input(\"Entrer l'index de la lettre : \"))\n",
    "dict\n",
    "i = list(dict.keys())[list(dict.values()).index(n)]\n",
    "print(f\"la letter à la position {n} est {i}\")"
   ]
  },
  {
   "cell_type": "markdown",
   "metadata": {},
   "source": [
    "# 3."
   ]
  },
  {
   "cell_type": "code",
   "execution_count": 25,
   "metadata": {},
   "outputs": [
    {
     "name": "stdout",
     "output_type": "stream",
     "text": [
      "Entrer votre message à chiffrer : Djibba\n",
      "['D', 'J', 'I', 'B', 'B', 'A']\n"
     ]
    }
   ],
   "source": [
    "message = str(input(\"Entrer votre message à chiffrer : \")).upper()\n",
    "caract_message = list(message)\n",
    "for i in caract_message:\n",
    "    if i==\",\" or i==\"!\" or i==\".\" or i==\"'\" or i==\"?\" or i == \" \" :\n",
    "        del(caract_message[caract_message.index(i)])\n",
    "    else:\n",
    "        i\n",
    "print(caract_message)"
   ]
  },
  {
   "cell_type": "markdown",
   "metadata": {},
   "source": [
    "# 4."
   ]
  },
  {
   "cell_type": "code",
   "execution_count": 20,
   "metadata": {},
   "outputs": [
    {
     "name": "stdout",
     "output_type": "stream",
     "text": [
      "Entrer une clé de chiffrement : 3\n"
     ]
    }
   ],
   "source": [
    "k = int(input(\"Entrer une clé de chiffrement : \"))\n",
    "while k>25:\n",
    "    k = int(input(\"Entrer une clé de chiffrement : \"))"
   ]
  },
  {
   "cell_type": "markdown",
   "metadata": {},
   "source": [
    "# 5. 6."
   ]
  },
  {
   "cell_type": "code",
   "execution_count": 26,
   "metadata": {
    "scrolled": false
   },
   "outputs": [
    {
     "name": "stdout",
     "output_type": "stream",
     "text": [
      "Le chiffré est  GMLEED\n"
     ]
    }
   ],
   "source": [
    "chiffre = []\n",
    "cc = []\n",
    "for i in caract_message:\n",
    "    c = (dict.get(i,i) + k)%26\n",
    "    cc.append(c)\n",
    "    #chiffre.append(list(dict.keys())[list(dict.values()).index(c)])\n",
    "r = list(dict.keys())\n",
    "p = list(dict.values())\n",
    "for i in cc:\n",
    "    d = r[p.index(i)]\n",
    "    chiffre.append(d)\n",
    "print(f\"Le chiffré est \",\"\".join(chiffre))\n"
   ]
  },
  {
   "cell_type": "markdown",
   "metadata": {},
   "source": [
    "### Partie 2"
   ]
  },
  {
   "cell_type": "code",
   "execution_count": null,
   "metadata": {},
   "outputs": [],
   "source": []
  },
  {
   "cell_type": "code",
   "execution_count": 104,
   "metadata": {},
   "outputs": [
    {
     "name": "stdout",
     "output_type": "stream",
     "text": [
      "CESTMOI"
     ]
    }
   ],
   "source": [
    "for j in chiffre:\n",
    "    d = dict.get(j,j) - k\n",
    "    dechiffre = list(dict.keys())[list(dict.values()).index(d)]\n",
    "    print(dechiffre,end=\"\")"
   ]
  },
  {
   "cell_type": "markdown",
   "metadata": {},
   "source": [
    "## Exercice 3"
   ]
  },
  {
   "cell_type": "markdown",
   "metadata": {},
   "source": [
    "# 1."
   ]
  },
  {
   "cell_type": "code",
   "execution_count": 109,
   "metadata": {},
   "outputs": [
    {
     "data": {
      "text/plain": [
       "False"
      ]
     },
     "execution_count": 109,
     "metadata": {},
     "output_type": "execute_result"
    }
   ],
   "source": [
    "age = {\"Djibba\":22,\"Ami\":20,\"Aicha\":16}\n",
    "# Opération d'addition\n",
    "age[\"Djibba\"] = 22 + 5\n",
    "# Opération de suppression\n",
    "del(age[\"Aicha\"])\n",
    "# Opération de soustraction\n",
    "age[\"Ami\"] == 20-7\n",
    "# Opération de recherche\n",
    "\"Aicha\" in age\n"
   ]
  },
  {
   "cell_type": "markdown",
   "metadata": {},
   "source": [
    "# 2."
   ]
  },
  {
   "cell_type": "markdown",
   "metadata": {},
   "source": [
    "for utilise des itérations\n",
    "while untilise une condition"
   ]
  },
  {
   "cell_type": "markdown",
   "metadata": {},
   "source": [
    "# 3."
   ]
  },
  {
   "cell_type": "markdown",
   "metadata": {},
   "source": [
    "Le mot clé continue permet de continuer l'execution du code lorsque la condition qu'on lui a affecté est vérifiée.\n",
    "Le mot clé break permet d'arreter l'execution du code lorsque la condition qu'on lui a affecté est vérifiée"
   ]
  },
  {
   "cell_type": "markdown",
   "metadata": {},
   "source": [
    "# 4."
   ]
  },
  {
   "cell_type": "markdown",
   "metadata": {},
   "source": [
    "Enumerate : permet d'énumerer une liste d'elements\n",
    "zip : \n",
    "min : revoit l'element le plus petit \n",
    "max : revoit l'element le plus grand\n",
    "sum : revit la somme entre deux ou plusieurs element\n",
    "sorted : permet d'ordonner une liste d'element"
   ]
  },
  {
   "cell_type": "code",
   "execution_count": 146,
   "metadata": {},
   "outputs": [],
   "source": [
    "def diviseur(n):\n",
    "    return [i for i in range(1,n+1) if n%i==0]\n",
    "\n",
    "def isprime(n):\n",
    "    return len(diviseur(n))==2"
   ]
  },
  {
   "cell_type": "code",
   "execution_count": 147,
   "metadata": {},
   "outputs": [
    {
     "name": "stdout",
     "output_type": "stream",
     "text": [
      "[1, 2, 5, 10]\n"
     ]
    }
   ],
   "source": [
    "print(diviseur(10))"
   ]
  },
  {
   "cell_type": "code",
   "execution_count": 162,
   "metadata": {},
   "outputs": [],
   "source": [
    "def dictio(dic1,dic2):\n",
    "    return {**dic1, **dic2}"
   ]
  },
  {
   "cell_type": "code",
   "execution_count": 163,
   "metadata": {},
   "outputs": [
    {
     "data": {
      "text/plain": [
       "{'A': 2, 'B': 4}"
      ]
     },
     "execution_count": 163,
     "metadata": {},
     "output_type": "execute_result"
    }
   ],
   "source": [
    "dictio({'A': 2},{'B':4})"
   ]
  },
  {
   "cell_type": "code",
   "execution_count": 165,
   "metadata": {},
   "outputs": [
    {
     "data": {
      "text/plain": [
       "12"
      ]
     },
     "execution_count": 165,
     "metadata": {},
     "output_type": "execute_result"
    }
   ],
   "source": [
    "def mes(m,k):\n",
    "    return m+k %26\n",
    "mes(3,9)"
   ]
  },
  {
   "cell_type": "code",
   "execution_count": 29,
   "metadata": {},
   "outputs": [
    {
     "name": "stdout",
     "output_type": "stream",
     "text": [
      "Entrer la taille : 10\n",
      "          \n",
      "         ^ \n",
      "        ^ ^ \n",
      "       ^ ^ ^ \n",
      "      ^ ^ ^ ^ \n",
      "     ^ ^ ^ ^ ^ \n",
      "    ^ ^ ^ ^ ^ ^ \n",
      "   ^ ^ ^ ^ ^ ^ ^ \n",
      "  ^ ^ ^ ^ ^ ^ ^ ^ \n",
      " ^ ^ ^ ^ ^ ^ ^ ^ ^ \n"
     ]
    }
   ],
   "source": [
    "n = int(input(\"Entrer la taille : \"))\n",
    "for i in range(n):\n",
    "    for j in range(n-i):\n",
    "        print(\" \",end=\"\")\n",
    "    for k in range(i):\n",
    "        print(\"^\",end=\" \")\n",
    "    print(\"\")\n"
   ]
  },
  {
   "cell_type": "markdown",
   "metadata": {},
   "source": [
    "# Calcul Formel"
   ]
  },
  {
   "cell_type": "code",
   "execution_count": 1,
   "metadata": {},
   "outputs": [
    {
     "name": "stdout",
     "output_type": "stream",
     "text": [
      "Entrer un nombre premier : 1\n",
      "1 n'est pas premier !\n",
      "Entrer un nombre premier : 5\n",
      "Entrer un nombre : 4\n",
      "L'ordre de 4 est 2\n"
     ]
    }
   ],
   "source": [
    "def isprime(n):\n",
    "    return len([i for i in range(1,n+1) if n%i==0])==2\n",
    "\n",
    "n = int(input(\"Entrer un nombre premier : \"))\n",
    "while not isprime(n):\n",
    "    print(f\"{n} n'est pas premier !\")\n",
    "    n = int(input(\"Entrer un nombre premier : \"))\n",
    "x = int(input(\"Entrer un nombre : \"))\n",
    "i = 1\n",
    "while True:\n",
    "    if (x**i)%n == 1:\n",
    "        print(f\"L'ordre de {x} est {i}\")\n",
    "        break\n",
    "    i+=1"
   ]
  },
  {
   "cell_type": "code",
   "execution_count": 18,
   "metadata": {},
   "outputs": [
    {
     "name": "stdout",
     "output_type": "stream",
     "text": [
      "Entrer un nombre premier : 1\n",
      "1 n'est pas premier !\n",
      "Entrer un nombre premier : 17\n",
      "[3, 5, 6, 7, 10, 11, 12, 14]\n"
     ]
    }
   ],
   "source": [
    "def isprime(n):\n",
    "    return len([i for i in range(1,n+1) if n%i==0])==2\n",
    "\n",
    "liste = [1,2,3,4]\n",
    "l = []\n",
    "a = []\n",
    "k = 0\n",
    "n = int(input(\"Entrer un nombre premier : \"))\n",
    "while not isprime(n):\n",
    "    print(f\"{n} n'est pas premier !\")\n",
    "    n = int(input(\"Entrer un nombre premier : \"))\n",
    "\n",
    "for i in range(2,n):\n",
    "    for j in range(1,n):\n",
    "        if (i**j)%n in liste:\n",
    "            l.append((i**j)%n)\n",
    "            k+=1\n",
    "    if (len(liste)==k):\n",
    "        a.append(i)\n",
    "    k = 0\n",
    "print(a)"
   ]
  },
  {
   "cell_type": "markdown",
   "metadata": {},
   "source": [
    "# Statistique"
   ]
  },
  {
   "cell_type": "code",
   "execution_count": 4,
   "metadata": {},
   "outputs": [
    {
     "name": "stdout",
     "output_type": "stream",
     "text": [
      "-n*log(x) + n*log(2.5/x) + n*polygamma(0, x)\n"
     ]
    },
    {
     "ename": "TypeError",
     "evalue": "'Add' object is not callable",
     "output_type": "error",
     "traceback": [
      "\u001b[1;31m---------------------------------------------------------------------------\u001b[0m",
      "\u001b[1;31mTypeError\u001b[0m                                 Traceback (most recent call last)",
      "\u001b[1;32m<ipython-input-4-d2e31b2ca970>\u001b[0m in \u001b[0;36m<module>\u001b[1;34m\u001b[0m\n\u001b[0;32m     31\u001b[0m     \u001b[1;32mreturn\u001b[0m \u001b[0mm\u001b[0m\u001b[1;33m\u001b[0m\u001b[1;33m\u001b[0m\u001b[0m\n\u001b[0;32m     32\u001b[0m \u001b[1;33m\u001b[0m\u001b[0m\n\u001b[1;32m---> 33\u001b[1;33m \u001b[0mNewton\u001b[0m\u001b[1;33m(\u001b[0m\u001b[0mfx\u001b[0m\u001b[1;33m,\u001b[0m\u001b[1;36m5\u001b[0m\u001b[1;33m,\u001b[0m\u001b[1;36m2\u001b[0m\u001b[1;33m)\u001b[0m\u001b[1;33m\u001b[0m\u001b[1;33m\u001b[0m\u001b[0m\n\u001b[0m",
      "\u001b[1;32m<ipython-input-4-d2e31b2ca970>\u001b[0m in \u001b[0;36mNewton\u001b[1;34m(f, p, m)\u001b[0m\n\u001b[0;32m     26\u001b[0m     \u001b[1;31m#f(m)\u001b[0m\u001b[1;33m\u001b[0m\u001b[1;33m\u001b[0m\u001b[1;33m\u001b[0m\u001b[0m\n\u001b[0;32m     27\u001b[0m     \u001b[0mi\u001b[0m \u001b[1;33m=\u001b[0m \u001b[1;36m0\u001b[0m\u001b[1;33m\u001b[0m\u001b[1;33m\u001b[0m\u001b[0m\n\u001b[1;32m---> 28\u001b[1;33m     \u001b[1;32mwhile\u001b[0m\u001b[1;33m(\u001b[0m\u001b[0mabs\u001b[0m\u001b[1;33m(\u001b[0m\u001b[0mf\u001b[0m\u001b[1;33m(\u001b[0m\u001b[0mm\u001b[0m\u001b[1;33m)\u001b[0m\u001b[1;33m/\u001b[0m\u001b[0mdiff\u001b[0m\u001b[1;33m(\u001b[0m\u001b[0mf\u001b[0m\u001b[1;33m(\u001b[0m\u001b[0mm\u001b[0m\u001b[1;33m)\u001b[0m\u001b[1;33m)\u001b[0m\u001b[1;33m)\u001b[0m \u001b[1;33m>=\u001b[0m \u001b[1;36m10\u001b[0m\u001b[1;33m**\u001b[0m\u001b[1;33m(\u001b[0m\u001b[1;33m-\u001b[0m\u001b[0mp\u001b[0m\u001b[1;33m)\u001b[0m \u001b[1;32mand\u001b[0m  \u001b[0mi\u001b[0m \u001b[1;33m<=\u001b[0m \u001b[1;36m10\u001b[0m \u001b[1;33m)\u001b[0m\u001b[1;33m:\u001b[0m\u001b[1;33m\u001b[0m\u001b[1;33m\u001b[0m\u001b[0m\n\u001b[0m\u001b[0;32m     29\u001b[0m         \u001b[0mm\u001b[0m \u001b[1;33m=\u001b[0m \u001b[0mm\u001b[0m \u001b[1;33m-\u001b[0m \u001b[0mf\u001b[0m\u001b[1;33m(\u001b[0m\u001b[0mm\u001b[0m\u001b[1;33m)\u001b[0m\u001b[1;33m/\u001b[0m\u001b[0mdiff\u001b[0m\u001b[1;33m(\u001b[0m\u001b[0mf\u001b[0m\u001b[1;33m(\u001b[0m\u001b[0mm\u001b[0m\u001b[1;33m)\u001b[0m\u001b[1;33m)\u001b[0m\u001b[1;33m\u001b[0m\u001b[1;33m\u001b[0m\u001b[0m\n\u001b[0;32m     30\u001b[0m         \u001b[0mi\u001b[0m\u001b[1;33m+=\u001b[0m\u001b[1;36m1\u001b[0m\u001b[1;33m\u001b[0m\u001b[1;33m\u001b[0m\u001b[0m\n",
      "\u001b[1;31mTypeError\u001b[0m: 'Add' object is not callable"
     ]
    }
   ],
   "source": [
    "from sympy import summation, lambdify, symbols, log,gamma,diff,symbol\n",
    "\n",
    "\n",
    "def somme(n):\n",
    "    return sum(n)/len(n)\n",
    "\n",
    "def logA(n,Alpha):\n",
    "    return log(somme(n)/Alpha)\n",
    "\n",
    "def gammaA(alpha):\n",
    "    return diff(gamma(alpha))/gamma(alpha)\n",
    "def sommeLog(n):\n",
    "    i,x, n = symbols('i x n', integer=True)\n",
    "    return summation(log(x), (i, 1, n))\n",
    "\n",
    "def ValuesX(fonc,n):\n",
    "    return lambdify(fonc, n)\n",
    "\n",
    "n,x = symbols('n x')\n",
    "X = [1,2,3,4]\n",
    "fx = n*gammaA(x) + n * logA(X,x) - sommeLog(n)\n",
    "print(fx)\n",
    "\n",
    "\n",
    "def Newton(f,p,m):\n",
    "    #f(m)\n",
    "    i = 0\n",
    "    while(abs(f(m)/diff(f(m))) >= 10**(-p) and  i <= 10 ):\n",
    "        m = m - f(m)/diff(f(m))\n",
    "        i+=1\n",
    "    return m\n",
    "\n",
    "Newton(fx,5,2)"
   ]
  },
  {
   "cell_type": "code",
   "execution_count": null,
   "metadata": {},
   "outputs": [],
   "source": []
  },
  {
   "cell_type": "code",
   "execution_count": 7,
   "metadata": {},
   "outputs": [
    {
     "data": {
      "text/latex": [
       "$\\displaystyle \\frac{\\sum_{i=1}^{n} \\log{\\left(\\frac{m}{i} \\right)}}{n}$"
      ],
      "text/plain": [
       "Sum(log(m/i), (i, 1, n))/n"
      ]
     },
     "execution_count": 7,
     "metadata": {},
     "output_type": "execute_result"
    }
   ],
   "source": [
    "from sympy import summation, oo, symbols, log\n",
    "i, n, m = symbols('i n m', integer=True)\n",
    "(1/n)*summation(log(m/i), (i, 1, n))"
   ]
  },
  {
   "cell_type": "code",
   "execution_count": 74,
   "metadata": {},
   "outputs": [
    {
     "name": "stdout",
     "output_type": "stream",
     "text": [
      "Help on function lambdify in module sympy.utilities.lambdify:\n",
      "\n",
      "lambdify(args, expr, modules=None, printer=None, use_imps=True, dummify=False)\n",
      "    Translates a SymPy expression into an equivalent numeric function\n",
      "    \n",
      "    For example, to convert the SymPy expression ``sin(x) + cos(x)`` to an\n",
      "    equivalent NumPy function that numerically evaluates it:\n",
      "    \n",
      "    >>> from sympy import sin, cos, symbols, lambdify\n",
      "    >>> import numpy as np\n",
      "    >>> x = symbols('x')\n",
      "    >>> expr = sin(x) + cos(x)\n",
      "    >>> expr\n",
      "    sin(x) + cos(x)\n",
      "    >>> f = lambdify(x, expr, 'numpy')\n",
      "    >>> a = np.array([1, 2])\n",
      "    >>> f(a)\n",
      "    [1.38177329 0.49315059]\n",
      "    \n",
      "    The primary purpose of this function is to provide a bridge from SymPy\n",
      "    expressions to numerical libraries such as NumPy, SciPy, NumExpr, mpmath,\n",
      "    and tensorflow. In general, SymPy functions do not work with objects from\n",
      "    other libraries, such as NumPy arrays, and functions from numeric\n",
      "    libraries like NumPy or mpmath do not work on SymPy expressions.\n",
      "    ``lambdify`` bridges the two by converting a SymPy expression to an\n",
      "    equivalent numeric function.\n",
      "    \n",
      "    The basic workflow with ``lambdify`` is to first create a SymPy expression\n",
      "    representing whatever mathematical function you wish to evaluate. This\n",
      "    should be done using only SymPy functions and expressions. Then, use\n",
      "    ``lambdify`` to convert this to an equivalent function for numerical\n",
      "    evaluation. For instance, above we created ``expr`` using the SymPy symbol\n",
      "    ``x`` and SymPy functions ``sin`` and ``cos``, then converted it to an\n",
      "    equivalent NumPy function ``f``, and called it on a NumPy array ``a``.\n",
      "    \n",
      "    .. warning::\n",
      "       This function uses ``exec``, and thus shouldn't be used on unsanitized\n",
      "       input.\n",
      "    \n",
      "    Arguments\n",
      "    =========\n",
      "    \n",
      "    The first argument of ``lambdify`` is a variable or list of variables in\n",
      "    the expression. Variable lists may be nested. Variables can be Symbols,\n",
      "    undefined functions, or matrix symbols. The order and nesting of the\n",
      "    variables corresponds to the order and nesting of the parameters passed to\n",
      "    the lambdified function. For instance,\n",
      "    \n",
      "    >>> from sympy.abc import x, y, z\n",
      "    >>> f = lambdify([x, (y, z)], x + y + z)\n",
      "    >>> f(1, (2, 3))\n",
      "    6\n",
      "    \n",
      "    The second argument of ``lambdify`` is the expression, list of\n",
      "    expressions, or matrix to be evaluated. Lists may be nested. If the\n",
      "    expression is a list, the output will also be a list.\n",
      "    \n",
      "    >>> f = lambdify(x, [x, [x + 1, x + 2]])\n",
      "    >>> f(1)\n",
      "    [1, [2, 3]]\n",
      "    \n",
      "    If it is a matrix, an array will be returned (for the NumPy module).\n",
      "    \n",
      "    >>> from sympy import Matrix\n",
      "    >>> f = lambdify(x, Matrix([x, x + 1]))\n",
      "    >>> f(1)\n",
      "    [[1]\n",
      "     [2]]\n",
      "    \n",
      "    Note that the argument order here, variables then expression, is used to\n",
      "    emulate the Python ``lambda`` keyword. ``lambdify(x, expr)`` works\n",
      "    (roughly) like ``lambda x: expr`` (see :ref:`lambdify-how-it-works` below).\n",
      "    \n",
      "    The third argument, ``modules`` is optional. If not specified, ``modules``\n",
      "    defaults to ``[\"scipy\", \"numpy\"]`` if SciPy is installed, ``[\"numpy\"]`` if\n",
      "    only NumPy is installed, and ``[\"math\", \"mpmath\", \"sympy\"]`` if neither is\n",
      "    installed. That is, SymPy functions are replaced as far as possible by\n",
      "    either ``scipy`` or ``numpy`` functions if available, and Python's\n",
      "    standard library ``math``, or ``mpmath`` functions otherwise.\n",
      "    \n",
      "    ``modules`` can be one of the following types\n",
      "    \n",
      "     - the strings ``\"math\"``, ``\"mpmath\"``, ``\"numpy\"``, ``\"numexpr\"``,\n",
      "       ``\"scipy\"``, ``\"sympy\"``, or ``\"tensorflow\"``. This uses the\n",
      "       corresponding printer and namespace mapping for that module.\n",
      "     - a module (e.g., ``math``). This uses the global namespace of the\n",
      "       module. If the module is one of the above known modules, it will also\n",
      "       use the corresponding printer and namespace mapping (i.e.,\n",
      "       ``modules=numpy`` is equivalent to ``modules=\"numpy\"``).\n",
      "     - a dictionary that maps names of SymPy functions to arbitrary functions\n",
      "       (e.g., ``{'sin': custom_sin}``).\n",
      "     - a list that contains a mix of the arguments above, with higher priority\n",
      "       given to entries appearing first (e.g., to use the NumPy module but\n",
      "       override the ``sin`` function with a custom version, you can use\n",
      "       ``[{'sin': custom_sin}, 'numpy']``).\n",
      "    \n",
      "    The ``dummify`` keyword argument controls whether or not the variables in\n",
      "    the provided expression that are not valid Python identifiers are\n",
      "    substituted with dummy symbols. This allows for undefined functions like\n",
      "    ``Function('f')(t)`` to be supplied as arguments. By default, the\n",
      "    variables are only dummified if they are not valid Python identifiers. Set\n",
      "    ``dummify=True`` to replace all arguments with dummy symbols (if ``args``\n",
      "    is not a string) - for example, to ensure that the arguments do not\n",
      "    redefine any built-in names.\n",
      "    \n",
      "    .. _lambdify-how-it-works:\n",
      "    \n",
      "    How it works\n",
      "    ============\n",
      "    \n",
      "    When using this function, it helps a great deal to have an idea of what it\n",
      "    is doing. At its core, lambdify is nothing more than a namespace\n",
      "    translation, on top of a special printer that makes some corner cases work\n",
      "    properly.\n",
      "    \n",
      "    To understand lambdify, first we must properly understand how Python\n",
      "    namespaces work. Say we had two files. One called ``sin_cos_sympy.py``,\n",
      "    with\n",
      "    \n",
      "    .. code:: python\n",
      "    \n",
      "        # sin_cos_sympy.py\n",
      "    \n",
      "        from sympy import sin, cos\n",
      "    \n",
      "        def sin_cos(x):\n",
      "            return sin(x) + cos(x)\n",
      "    \n",
      "    \n",
      "    and one called ``sin_cos_numpy.py`` with\n",
      "    \n",
      "    .. code:: python\n",
      "    \n",
      "        # sin_cos_numpy.py\n",
      "    \n",
      "        from numpy import sin, cos\n",
      "    \n",
      "        def sin_cos(x):\n",
      "            return sin(x) + cos(x)\n",
      "    \n",
      "    The two files define an identical function ``sin_cos``. However, in the\n",
      "    first file, ``sin`` and ``cos`` are defined as the SymPy ``sin`` and\n",
      "    ``cos``. In the second, they are defined as the NumPy versions.\n",
      "    \n",
      "    If we were to import the first file and use the ``sin_cos`` function, we\n",
      "    would get something like\n",
      "    \n",
      "    >>> from sin_cos_sympy import sin_cos # doctest: +SKIP\n",
      "    >>> sin_cos(1) # doctest: +SKIP\n",
      "    cos(1) + sin(1)\n",
      "    \n",
      "    On the other hand, if we imported ``sin_cos`` from the second file, we\n",
      "    would get\n",
      "    \n",
      "    >>> from sin_cos_numpy import sin_cos # doctest: +SKIP\n",
      "    >>> sin_cos(1) # doctest: +SKIP\n",
      "    1.38177329068\n",
      "    \n",
      "    In the first case we got a symbolic output, because it used the symbolic\n",
      "    ``sin`` and ``cos`` functions from SymPy. In the second, we got a numeric\n",
      "    result, because ``sin_cos`` used the numeric ``sin`` and ``cos`` functions\n",
      "    from NumPy. But notice that the versions of ``sin`` and ``cos`` that were\n",
      "    used was not inherent to the ``sin_cos`` function definition. Both\n",
      "    ``sin_cos`` definitions are exactly the same. Rather, it was based on the\n",
      "    names defined at the module where the ``sin_cos`` function was defined.\n",
      "    \n",
      "    The key point here is that when function in Python references a name that\n",
      "    is not defined in the function, that name is looked up in the \"global\"\n",
      "    namespace of the module where that function is defined.\n",
      "    \n",
      "    Now, in Python, we can emulate this behavior without actually writing a\n",
      "    file to disk using the ``exec`` function. ``exec`` takes a string\n",
      "    containing a block of Python code, and a dictionary that should contain\n",
      "    the global variables of the module. It then executes the code \"in\" that\n",
      "    dictionary, as if it were the module globals. The following is equivalent\n",
      "    to the ``sin_cos`` defined in ``sin_cos_sympy.py``:\n",
      "    \n",
      "    >>> import sympy\n",
      "    >>> module_dictionary = {'sin': sympy.sin, 'cos': sympy.cos}\n",
      "    >>> exec('''\n",
      "    ... def sin_cos(x):\n",
      "    ...     return sin(x) + cos(x)\n",
      "    ... ''', module_dictionary)\n",
      "    >>> sin_cos = module_dictionary['sin_cos']\n",
      "    >>> sin_cos(1)\n",
      "    cos(1) + sin(1)\n",
      "    \n",
      "    and similarly with ``sin_cos_numpy``:\n",
      "    \n",
      "    >>> import numpy\n",
      "    >>> module_dictionary = {'sin': numpy.sin, 'cos': numpy.cos}\n",
      "    >>> exec('''\n",
      "    ... def sin_cos(x):\n",
      "    ...     return sin(x) + cos(x)\n",
      "    ... ''', module_dictionary)\n",
      "    >>> sin_cos = module_dictionary['sin_cos']\n",
      "    >>> sin_cos(1)\n",
      "    1.38177329068\n",
      "    \n",
      "    So now we can get an idea of how ``lambdify`` works. The name \"lambdify\"\n",
      "    comes from the fact that we can think of something like ``lambdify(x,\n",
      "    sin(x) + cos(x), 'numpy')`` as ``lambda x: sin(x) + cos(x)``, where\n",
      "    ``sin`` and ``cos`` come from the ``numpy`` namespace. This is also why\n",
      "    the symbols argument is first in ``lambdify``, as opposed to most SymPy\n",
      "    functions where it comes after the expression: to better mimic the\n",
      "    ``lambda`` keyword.\n",
      "    \n",
      "    ``lambdify`` takes the input expression (like ``sin(x) + cos(x)``) and\n",
      "    \n",
      "    1. Converts it to a string\n",
      "    2. Creates a module globals dictionary based on the modules that are\n",
      "       passed in (by default, it uses the NumPy module)\n",
      "    3. Creates the string ``\"def func({vars}): return {expr}\"``, where ``{vars}`` is the\n",
      "       list of variables separated by commas, and ``{expr}`` is the string\n",
      "       created in step 1., then ``exec``s that string with the module globals\n",
      "       namespace and returns ``func``.\n",
      "    \n",
      "    In fact, functions returned by ``lambdify`` support inspection. So you can\n",
      "    see exactly how they are defined by using ``inspect.getsource``, or ``??`` if you\n",
      "    are using IPython or the Jupyter notebook.\n",
      "    \n",
      "    >>> f = lambdify(x, sin(x) + cos(x))\n",
      "    >>> import inspect\n",
      "    >>> print(inspect.getsource(f))\n",
      "    def _lambdifygenerated(x):\n",
      "        return (sin(x) + cos(x))\n",
      "    \n",
      "    This shows us the source code of the function, but not the namespace it\n",
      "    was defined in. We can inspect that by looking at the ``__globals__``\n",
      "    attribute of ``f``:\n",
      "    \n",
      "    >>> f.__globals__['sin']\n",
      "    <ufunc 'sin'>\n",
      "    >>> f.__globals__['cos']\n",
      "    <ufunc 'cos'>\n",
      "    >>> f.__globals__['sin'] is numpy.sin\n",
      "    True\n",
      "    \n",
      "    This shows us that ``sin`` and ``cos`` in the namespace of ``f`` will be\n",
      "    ``numpy.sin`` and ``numpy.cos``.\n",
      "    \n",
      "    Note that there are some convenience layers in each of these steps, but at\n",
      "    the core, this is how ``lambdify`` works. Step 1 is done using the\n",
      "    ``LambdaPrinter`` printers defined in the printing module (see\n",
      "    :mod:`sympy.printing.lambdarepr`). This allows different SymPy expressions\n",
      "    to define how they should be converted to a string for different modules.\n",
      "    You can change which printer ``lambdify`` uses by passing a custom printer\n",
      "    in to the ``printer`` argument.\n",
      "    \n",
      "    Step 2 is augmented by certain translations. There are default\n",
      "    translations for each module, but you can provide your own by passing a\n",
      "    list to the ``modules`` argument. For instance,\n",
      "    \n",
      "    >>> def mysin(x):\n",
      "    ...     print('taking the sin of', x)\n",
      "    ...     return numpy.sin(x)\n",
      "    ...\n",
      "    >>> f = lambdify(x, sin(x), [{'sin': mysin}, 'numpy'])\n",
      "    >>> f(1)\n",
      "    taking the sin of 1\n",
      "    0.8414709848078965\n",
      "    \n",
      "    The globals dictionary is generated from the list by merging the\n",
      "    dictionary ``{'sin': mysin}`` and the module dictionary for NumPy. The\n",
      "    merging is done so that earlier items take precedence, which is why\n",
      "    ``mysin`` is used above instead of ``numpy.sin``.\n",
      "    \n",
      "    If you want to modify the way ``lambdify`` works for a given function, it\n",
      "    is usually easiest to do so by modifying the globals dictionary as such.\n",
      "    In more complicated cases, it may be necessary to create and pass in a\n",
      "    custom printer.\n",
      "    \n",
      "    Finally, step 3 is augmented with certain convenience operations, such as\n",
      "    the addition of a docstring.\n",
      "    \n",
      "    Understanding how ``lambdify`` works can make it easier to avoid certain\n",
      "    gotchas when using it. For instance, a common mistake is to create a\n",
      "    lambdified function for one module (say, NumPy), and pass it objects from\n",
      "    another (say, a SymPy expression).\n",
      "    \n",
      "    For instance, say we create\n",
      "    \n",
      "    >>> from sympy.abc import x\n",
      "    >>> f = lambdify(x, x + 1, 'numpy')\n",
      "    \n",
      "    Now if we pass in a NumPy array, we get that array plus 1\n",
      "    \n",
      "    >>> import numpy\n",
      "    >>> a = numpy.array([1, 2])\n",
      "    >>> f(a)\n",
      "    [2 3]\n",
      "    \n",
      "    But what happens if you make the mistake of passing in a SymPy expression\n",
      "    instead of a NumPy array:\n",
      "    \n",
      "    >>> f(x + 1)\n",
      "    x + 2\n",
      "    \n",
      "    This worked, but it was only by accident. Now take a different lambdified\n",
      "    function:\n",
      "    \n",
      "    >>> from sympy import sin\n",
      "    >>> g = lambdify(x, x + sin(x), 'numpy')\n",
      "    \n",
      "    This works as expected on NumPy arrays:\n",
      "    \n",
      "    >>> g(a)\n",
      "    [1.84147098 2.90929743]\n",
      "    \n",
      "    But if we try to pass in a SymPy expression, it fails\n",
      "    \n",
      "    >>> g(x + 1)\n",
      "    Traceback (most recent call last):\n",
      "    ...\n",
      "    AttributeError: 'Add' object has no attribute 'sin'\n",
      "    \n",
      "    Now, let's look at what happened. The reason this fails is that ``g``\n",
      "    calls ``numpy.sin`` on the input expression, and ``numpy.sin`` does not\n",
      "    know how to operate on a SymPy object. **As a general rule, NumPy\n",
      "    functions do not know how to operate on SymPy expressions, and SymPy\n",
      "    functions do not know how to operate on NumPy arrays. This is why lambdify\n",
      "    exists: to provide a bridge between SymPy and NumPy.**\n",
      "    \n",
      "    However, why is it that ``f`` did work? That's because ``f`` doesn't call\n",
      "    any functions, it only adds 1. So the resulting function that is created,\n",
      "    ``def _lambdifygenerated(x): return x + 1`` does not depend on the globals\n",
      "    namespace it is defined in. Thus it works, but only by accident. A future\n",
      "    version of ``lambdify`` may remove this behavior.\n",
      "    \n",
      "    Be aware that certain implementation details described here may change in\n",
      "    future versions of SymPy. The API of passing in custom modules and\n",
      "    printers will not change, but the details of how a lambda function is\n",
      "    created may change. However, the basic idea will remain the same, and\n",
      "    understanding it will be helpful to understanding the behavior of\n",
      "    lambdify.\n",
      "    \n",
      "    **In general: you should create lambdified functions for one module (say,\n",
      "    NumPy), and only pass it input types that are compatible with that module\n",
      "    (say, NumPy arrays).** Remember that by default, if the ``module``\n",
      "    argument is not provided, ``lambdify`` creates functions using the NumPy\n",
      "    and SciPy namespaces.\n",
      "    \n",
      "    Examples\n",
      "    ========\n",
      "    \n",
      "    >>> from sympy.utilities.lambdify import implemented_function\n",
      "    >>> from sympy import sqrt, sin, Matrix\n",
      "    >>> from sympy import Function\n",
      "    >>> from sympy.abc import w, x, y, z\n",
      "    \n",
      "    >>> f = lambdify(x, x**2)\n",
      "    >>> f(2)\n",
      "    4\n",
      "    >>> f = lambdify((x, y, z), [z, y, x])\n",
      "    >>> f(1,2,3)\n",
      "    [3, 2, 1]\n",
      "    >>> f = lambdify(x, sqrt(x))\n",
      "    >>> f(4)\n",
      "    2.0\n",
      "    >>> f = lambdify((x, y), sin(x*y)**2)\n",
      "    >>> f(0, 5)\n",
      "    0.0\n",
      "    >>> row = lambdify((x, y), Matrix((x, x + y)).T, modules='sympy')\n",
      "    >>> row(1, 2)\n",
      "    Matrix([[1, 3]])\n",
      "    \n",
      "    ``lambdify`` can be used to translate SymPy expressions into mpmath\n",
      "    functions. This may be preferable to using ``evalf`` (which uses mpmath on\n",
      "    the backend) in some cases.\n",
      "    \n",
      "    >>> import mpmath\n",
      "    >>> f = lambdify(x, sin(x), 'mpmath')\n",
      "    >>> f(1)\n",
      "    0.8414709848078965\n",
      "    \n",
      "    Tuple arguments are handled and the lambdified function should\n",
      "    be called with the same type of arguments as were used to create\n",
      "    the function:\n",
      "    \n",
      "    >>> f = lambdify((x, (y, z)), x + y)\n",
      "    >>> f(1, (2, 4))\n",
      "    3\n",
      "    \n",
      "    The ``flatten`` function can be used to always work with flattened\n",
      "    arguments:\n",
      "    \n",
      "    >>> from sympy.utilities.iterables import flatten\n",
      "    >>> args = w, (x, (y, z))\n",
      "    >>> vals = 1, (2, (3, 4))\n",
      "    >>> f = lambdify(flatten(args), w + x + y + z)\n",
      "    >>> f(*flatten(vals))\n",
      "    10\n",
      "    \n",
      "    Functions present in ``expr`` can also carry their own numerical\n",
      "    implementations, in a callable attached to the ``_imp_`` attribute. This\n",
      "    can be used with undefined functions using the ``implemented_function``\n",
      "    factory:\n",
      "    \n",
      "    >>> f = implemented_function(Function('f'), lambda x: x+1)\n",
      "    >>> func = lambdify(x, f(x))\n",
      "    >>> func(4)\n",
      "    5\n",
      "    \n",
      "    ``lambdify`` always prefers ``_imp_`` implementations to implementations\n",
      "    in other namespaces, unless the ``use_imps`` input parameter is False.\n",
      "    \n",
      "    Usage with Tensorflow:\n",
      "    \n",
      "    >>> import tensorflow as tf\n",
      "    >>> from sympy import Max, sin\n",
      "    >>> f = Max(x, sin(x))\n",
      "    >>> func = lambdify(x, f, 'tensorflow')\n",
      "    >>> result = func(tf.constant(1.0))\n",
      "    >>> print(result) # a tf.Tensor representing the result of the calculation\n",
      "    Tensor(\"Maximum:0\", shape=(), dtype=float32)\n",
      "    >>> sess = tf.Session()\n",
      "    >>> sess.run(result) # compute result\n",
      "    1.0\n",
      "    >>> var = tf.Variable(1.0)\n",
      "    >>> sess.run(tf.global_variables_initializer())\n",
      "    >>> sess.run(func(var)) # also works for tf.Variable and tf.Placeholder\n",
      "    1.0\n",
      "    >>> tensor = tf.constant([[1.0, 2.0], [3.0, 4.0]]) # works with any shape tensor\n",
      "    >>> sess.run(func(tensor))\n",
      "    [[1. 2.]\n",
      "     [3. 4.]]\n",
      "    \n",
      "    Notes\n",
      "    =====\n",
      "    \n",
      "    - For functions involving large array calculations, numexpr can provide a\n",
      "      significant speedup over numpy. Please note that the available functions\n",
      "      for numexpr are more limited than numpy but can be expanded with\n",
      "      ``implemented_function`` and user defined subclasses of Function. If\n",
      "      specified, numexpr may be the only option in modules. The official list\n",
      "      of numexpr functions can be found at:\n",
      "      https://numexpr.readthedocs.io/en/latest/user_guide.html#supported-functions\n",
      "    \n",
      "    - In previous versions of SymPy, ``lambdify`` replaced ``Matrix`` with\n",
      "      ``numpy.matrix`` by default. As of SymPy 1.0 ``numpy.array`` is the\n",
      "      default. To get the old default behavior you must pass in\n",
      "      ``[{'ImmutableDenseMatrix':  numpy.matrix}, 'numpy']`` to the\n",
      "      ``modules`` kwarg.\n",
      "    \n",
      "      >>> from sympy import lambdify, Matrix\n",
      "      >>> from sympy.abc import x, y\n",
      "      >>> import numpy\n",
      "      >>> array2mat = [{'ImmutableDenseMatrix': numpy.matrix}, 'numpy']\n",
      "      >>> f = lambdify((x, y), Matrix([x, y]), modules=array2mat)\n",
      "      >>> f(1, 2)\n",
      "      [[1]\n",
      "       [2]]\n",
      "    \n",
      "    - In the above examples, the generated functions can accept scalar\n",
      "      values or numpy arrays as arguments.  However, in some cases\n",
      "      the generated function relies on the input being a numpy array:\n",
      "    \n",
      "      >>> from sympy import Piecewise\n",
      "      >>> from sympy.utilities.pytest import ignore_warnings\n",
      "      >>> f = lambdify(x, Piecewise((x, x <= 1), (1/x, x > 1)), \"numpy\")\n",
      "    \n",
      "      >>> with ignore_warnings(RuntimeWarning):\n",
      "      ...     f(numpy.array([-1, 0, 1, 2]))\n",
      "      [-1.   0.   1.   0.5]\n",
      "    \n",
      "      >>> f(0)\n",
      "      Traceback (most recent call last):\n",
      "          ...\n",
      "      ZeroDivisionError: division by zero\n",
      "    \n",
      "      In such cases, the input should be wrapped in a numpy array:\n",
      "    \n",
      "      >>> with ignore_warnings(RuntimeWarning):\n",
      "      ...     float(f(numpy.array([0])))\n",
      "      0.0\n",
      "    \n",
      "      Or if numpy functionality is not required another module can be used:\n",
      "    \n",
      "      >>> f = lambdify(x, Piecewise((x, x <= 1), (1/x, x > 1)), \"math\")\n",
      "      >>> f(0)\n",
      "      0\n",
      "\n"
     ]
    }
   ],
   "source": [
    "import sympy\n",
    "help(sympy.lambdify)"
   ]
  },
  {
   "cell_type": "code",
   "execution_count": null,
   "metadata": {},
   "outputs": [],
   "source": [
    " \n"
   ]
  },
  {
   "cell_type": "code",
   "execution_count": null,
   "metadata": {},
   "outputs": [],
   "source": []
  }
 ],
 "metadata": {
  "kernelspec": {
   "display_name": "Python 3",
   "language": "python",
   "name": "python3"
  },
  "language_info": {
   "codemirror_mode": {
    "name": "ipython",
    "version": 3
   },
   "file_extension": ".py",
   "mimetype": "text/x-python",
   "name": "python",
   "nbconvert_exporter": "python",
   "pygments_lexer": "ipython3",
   "version": "3.7.4"
  }
 },
 "nbformat": 4,
 "nbformat_minor": 2
}
