{
 "cells": [
  {
   "cell_type": "markdown",
   "metadata": {},
   "source": [
    "### Un generateur de code Hamming qui créera une matrice de Parité et matrice génératrice sous systématique etant donnee du code Hamming Hr"
   ]
  },
  {
   "cell_type": "code",
   "execution_count": 1,
   "metadata": {},
   "outputs": [
    {
     "data": {
      "text/plain": [
       "array([[0, 1, 1, 1, 1, 0, 0],\n",
       "       [1, 0, 1, 1, 0, 1, 0],\n",
       "       [1, 1, 0, 1, 0, 0, 1]])"
      ]
     },
     "execution_count": 1,
     "metadata": {},
     "output_type": "execute_result"
    }
   ],
   "source": [
    "import numpy\n",
    "import sys\n",
    "import random\n",
    "\n",
    "def dec_to_bin(n, param):\n",
    "    res = [0 for i in range(param - len(bin(n)[2:]))] + list(bin(n)[2:])\n",
    "    for i in range(len(res)):\n",
    "        res[i] = int(res[i])\n",
    "    return res\n",
    "\n",
    "\n",
    "def matrix_control(param):\n",
    "    L = [2**i for i in range(param)]\n",
    "    L.reverse()\n",
    "    liste = []\n",
    "    for i in range(1,2**param):\n",
    "        if i not in L:\n",
    "            liste.append(i)\n",
    "    liste = liste + L\n",
    "    for i in range(len(liste)):\n",
    "        liste[i] = dec_to_bin(liste[i],param)\n",
    "    H = numpy.asarray(liste)\n",
    "    return H.transpose()\n",
    "H = matrix_control(3)\n",
    "H"
   ]
  },
  {
   "cell_type": "markdown",
   "metadata": {},
   "source": [
    "### Matrice Generatrice à partir de H"
   ]
  },
  {
   "cell_type": "code",
   "execution_count": 2,
   "metadata": {},
   "outputs": [
    {
     "data": {
      "text/plain": [
       "array([[1, 0, 0, 0, 0, 0, 0, 0, 0, 0, 0, 0, 0, 1, 1],\n",
       "       [0, 1, 0, 0, 0, 0, 0, 0, 0, 0, 0, 0, 1, 0, 1],\n",
       "       [0, 0, 1, 0, 0, 0, 0, 0, 0, 0, 0, 0, 1, 1, 0],\n",
       "       [0, 0, 0, 1, 0, 0, 0, 0, 0, 0, 0, 0, 1, 1, 1],\n",
       "       [0, 0, 0, 0, 1, 0, 0, 0, 0, 0, 0, 1, 0, 0, 1],\n",
       "       [0, 0, 0, 0, 0, 1, 0, 0, 0, 0, 0, 1, 0, 1, 0],\n",
       "       [0, 0, 0, 0, 0, 0, 1, 0, 0, 0, 0, 1, 0, 1, 1],\n",
       "       [0, 0, 0, 0, 0, 0, 0, 1, 0, 0, 0, 1, 1, 0, 0],\n",
       "       [0, 0, 0, 0, 0, 0, 0, 0, 1, 0, 0, 1, 1, 0, 1],\n",
       "       [0, 0, 0, 0, 0, 0, 0, 0, 0, 1, 0, 1, 1, 1, 0],\n",
       "       [0, 0, 0, 0, 0, 0, 0, 0, 0, 0, 1, 1, 1, 1, 1]])"
      ]
     },
     "execution_count": 2,
     "metadata": {},
     "output_type": "execute_result"
    }
   ],
   "source": [
    "def matrix_Gen(param):\n",
    "    H = matrix_control(param)\n",
    "    P = H[0:param,0:2**param - param -1]\n",
    "    I = numpy.eye(2**param-1 - param, dtype = int)\n",
    "    P = numpy.concatenate((I,P.transpose()), axis = 1)\n",
    "    \n",
    "    return P\n",
    "matrix_Gen(4)"
   ]
  },
  {
   "cell_type": "markdown",
   "metadata": {},
   "source": [
    "### Creation d'un message"
   ]
  },
  {
   "cell_type": "code",
   "execution_count": 3,
   "metadata": {},
   "outputs": [],
   "source": [
    "def create_message(length):\n",
    "    msg = []\n",
    "    for i in range(length):\n",
    "        letter = random.choice([0,1])\n",
    "        msg.append(letter)\n",
    "    return numpy.array(msg, dtype=int)"
   ]
  },
  {
   "cell_type": "markdown",
   "metadata": {},
   "source": [
    "### Encodage"
   ]
  },
  {
   "cell_type": "code",
   "execution_count": 4,
   "metadata": {},
   "outputs": [],
   "source": [
    "def encode(m, g):\n",
    "    enc = numpy.dot(m,g)%2\n",
    "    return enc\n",
    "\n",
    "def encode(m,g,param):\n",
    "    res = numpy.zeros(2**param - 1, dtype=int)\n",
    "    for i in range(len(m)):\n",
    "        if m[i] != 0:\n",
    "            res = (res + g[i]) %2\n",
    "    \n",
    "    return res\n"
   ]
  },
  {
   "cell_type": "markdown",
   "metadata": {},
   "source": [
    "### algorithme"
   ]
  },
  {
   "cell_type": "markdown",
   "metadata": {},
   "source": [
    "Entrée : H , y tel que y = c + e\n",
    "Sortie : C\n",
    "1. s = H . y**t\n",
    "2. Si s = 0 alors return y\n",
    "3. Sinon i <-- somme(l=0 allant à r-1) S[(r-1)l en indice] * 2**l\n",
    "4. return (y - e) où e = (0...10....0)"
   ]
  },
  {
   "cell_type": "markdown",
   "metadata": {},
   "source": [
    "### Message erreur"
   ]
  },
  {
   "cell_type": "code",
   "execution_count": 5,
   "metadata": {},
   "outputs": [],
   "source": [
    "def Error_message(m, i,param):\n",
    "    if m[i] == 0:\n",
    "        m[i] = 1\n",
    "    else:\n",
    "        m[i] = 0"
   ]
  },
  {
   "cell_type": "markdown",
   "metadata": {},
   "source": [
    "### Décodage"
   ]
  },
  {
   "cell_type": "code",
   "execution_count": 6,
   "metadata": {},
   "outputs": [
    {
     "ename": "SyntaxError",
     "evalue": "invalid syntax (<ipython-input-6-694248030718>, line 7)",
     "output_type": "error",
     "traceback": [
      "\u001b[0;36m  File \u001b[0;32m\"<ipython-input-6-694248030718>\"\u001b[0;36m, line \u001b[0;32m7\u001b[0m\n\u001b[0;31m    if (synd == H[])\u001b[0m\n\u001b[0m                  ^\u001b[0m\n\u001b[0;31mSyntaxError\u001b[0m\u001b[0;31m:\u001b[0m invalid syntax\n"
     ]
    }
   ],
   "source": [
    "def decoder(H,y):\n",
    "    synd = numpy.dot(y, H.transpose())%2\n",
    "    if (synd == numpy.zeros(param, dtype=int)).all():\n",
    "        return y\n",
    "    else:\n",
    "        for i in range(2**param-1):\n",
    "            if (synd == H[])"
   ]
  },
  {
   "cell_type": "code",
   "execution_count": 136,
   "metadata": {},
   "outputs": [],
   "source": [
    "# -*- coding: utf-8 -*-\n",
    "\"\"\"\n",
    "Spyder Editor\n",
    "\n",
    "This is a temporary script file.\n",
    "\"\"\"\n",
    "import numpy\n",
    "import random\n",
    "import sys\n",
    "\n",
    "\n",
    "def decToBin(n,param):\n",
    "    \"\"\"Convertit un nombre en binaire\"\"\"\n",
    "    res = [0 for i in range(param - len(bin(n)[2:]))] + list(bin(n)[2:])\n",
    "    for i in range(len(res)):\n",
    "        res[i] = int(res[i])    \n",
    "    return res\n",
    "\n",
    "\n",
    "def matrixControl(param):\n",
    "    L = [2**i for i in range(param)]\n",
    "    L.reverse()\n",
    "    liste = []\n",
    "    for i in range(1,2**param):\n",
    "        if i not in L:\n",
    "            liste.append(i)\n",
    "    liste = liste + L\n",
    "    for i in range(len(liste)):\n",
    "        liste[i] = decToBin(liste[i],param)\n",
    "    H = numpy.asarray(liste)\n",
    "    H = H.transpose() \n",
    "    \n",
    "    return H\n",
    "\n",
    "def matrixGen(param):\n",
    "    H = matrixControl(param)\n",
    "    P = H[0:param,0:2**param - param-1]\n",
    "    I = numpy.eye(2**param-1- param,dtype=int)\n",
    "    P = numpy.concatenate (( I, P.transpose()),axis = 1)\n",
    "    \n",
    "    return P\n",
    "    \n",
    "    \n",
    "\n",
    "\n",
    "def createMessage(length):\n",
    "    msg = []\n",
    "    for i in range(length):\n",
    "        letter = random.choice([0,1])\n",
    "        msg.append(letter)\n",
    "    return numpy.array(msg, dtype = int)\n",
    "\n",
    "\n",
    "def encode(m, g):\n",
    "    enc = numpy.dot(m, g)%2\n",
    "    return enc\n",
    "\n",
    "def encode1(m, g,param):\n",
    "    res = numpy.zeros(2**param -1, dtype=int)\n",
    "    for i in range(len(m)):\n",
    "        if m[i] != 0:\n",
    "            res = res^g[i]\n",
    "        \n",
    "    return res\n",
    "\n",
    "def flip(m,i):\n",
    "    if m[i]==0:\n",
    "        m[i] = 1\n",
    "    else:\n",
    "        m[i] = 0\n",
    "        \n",
    "    return m\n",
    "\n",
    "def decoder(H,y,param):\n",
    "    \n",
    "    synd = numpy.dot(y, H.transpose())%2\n",
    "    if (synd == numpy.zeros(param,dtype= int)).all():\n",
    "        return y\n",
    "    else:\n",
    "        for i in range(2**param-1):\n",
    "            if (synd == H[:,i]).all():\n",
    "                c = flip(y,i)\n",
    "        return c\n",
    "    \n",
    "    return synd\n",
    "     \n",
    "    \n",
    "    \n",
    "\n",
    "    \n",
    "\n"
   ]
  },
  {
   "cell_type": "markdown",
   "metadata": {},
   "source": [
    "### Codage des données du fichier ... On fixe r = 3 donc n = 7 et k = 4"
   ]
  },
  {
   "cell_type": "code",
   "execution_count": 140,
   "metadata": {
    "scrolled": true
   },
   "outputs": [],
   "source": [
    "import numpy as np\n",
    "\n",
    "########## fonction permettant de decouper une liste en un taille donné #########\n",
    "def divide_by_chain_of_n_bits(chains,n):\n",
    "    r = len(chains)%n\n",
    "    if r != 0:\n",
    "        chains =chains+\"0\"*(n-r)\n",
    "    chains=list(chains)\n",
    "    list_of_n_bits=list()\n",
    "    for i in range(0,len(chains),n):\n",
    "        list_of_n_bits.append(chains[i:i+n])\n",
    "    return list_of_n_bits\n",
    "\n",
    "\n",
    "with open(r\"/home/djibba/Desktop/code correcteur/source.txt\", 'r', encoding = 'utf8') as f:\n",
    "    message = []\n",
    "    for line in f:\n",
    "         for i in line.replace('\\n',''):\n",
    "            message.append(int(i))\n",
    "message_decoupe = divide_by_chain_of_n_bits(message,4)\n",
    "\n",
    "G = matrix_Gen(3)\n",
    "H = matrix_control(3)\n",
    "\n",
    "######## encodage #########\"\n",
    "list_encode = []\n",
    "for i in message_decoupe:\n",
    "    list_encode.append(encode(i, G))\n",
    "list_encode\n",
    "emis = open(r\"/home/djibba/Desktop/code correcteur/emis.txt\", 'w', encoding = 'utf8')\n",
    "l = []\n",
    "final = []\n",
    "for i in list_encode:\n",
    "    l.append(list(i))\n",
    "for j in l:\n",
    "    for k in range(7):\n",
    "        m = ''.join(str(j[k]))\n",
    "        final.append(m)\n",
    "for p in final:\n",
    "    emis.write(p)\n",
    "emis.close()\n",
    "\n"
   ]
  },
  {
   "cell_type": "markdown",
   "metadata": {},
   "source": [
    "### Décodage du codage qui est dans le fichier emis.txt"
   ]
  },
  {
   "cell_type": "code",
   "execution_count": null,
   "metadata": {},
   "outputs": [],
   "source": []
  },
  {
   "cell_type": "code",
   "execution_count": null,
   "metadata": {},
   "outputs": [],
   "source": []
  },
  {
   "cell_type": "code",
   "execution_count": null,
   "metadata": {},
   "outputs": [],
   "source": []
  },
  {
   "cell_type": "code",
   "execution_count": 27,
   "metadata": {},
   "outputs": [
    {
     "data": {
      "text/plain": [
       "227.375"
      ]
     },
     "execution_count": 27,
     "metadata": {},
     "output_type": "execute_result"
    }
   ],
   "source": [
    "1819/8"
   ]
  },
  {
   "cell_type": "code",
   "execution_count": null,
   "metadata": {},
   "outputs": [],
   "source": []
  }
 ],
 "metadata": {
  "kernelspec": {
   "display_name": "Python 3",
   "language": "python",
   "name": "python3"
  },
  "language_info": {
   "codemirror_mode": {
    "name": "ipython",
    "version": 3
   },
   "file_extension": ".py",
   "mimetype": "text/x-python",
   "name": "python",
   "nbconvert_exporter": "python",
   "pygments_lexer": "ipython3",
   "version": "3.7.4"
  }
 },
 "nbformat": 4,
 "nbformat_minor": 2
}
