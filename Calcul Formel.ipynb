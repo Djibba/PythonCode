{
 "cells": [
  {
   "cell_type": "code",
   "execution_count": 1,
   "metadata": {},
   "outputs": [
    {
     "name": "stdout",
     "output_type": "stream",
     "text": [
      "\n",
      "1--Ordre d'un element\n",
      "2--Elements generateurs d'un groupe\n",
      "2\n",
      "\n",
      "Entrer un nombre premier499\n",
      "Les elements generateurs de Z/499Z sont : [7, 10, 11, 15, 17, 19, 23, 28, 35, 40, 41, 42, 44, 50, 53, 58, 60, 61, 63, 65, 66, 68, 71, 75, 76, 79, 85, 86, 87, 89, 90, 92, 94, 95, 98, 99, 102, 112, 113, 114, 129, 135, 138, 141, 146, 147, 153, 157, 160, 163, 164, 168, 171, 173, 176, 179, 182, 185, 193, 200, 202, 205, 206, 207, 210, 212, 214, 217, 218, 219, 223, 229, 232, 238, 240, 241, 242, 244, 246, 252, 260, 262, 264, 266, 271, 272, 273, 274, 275, 278, 284, 286, 295, 300, 301, 302, 303, 304, 309, 310, 311, 315, 316, 318, 319, 321, 325, 327, 329, 340, 341, 344, 347, 348, 349, 356, 357, 362, 363, 366, 367, 368, 369, 373, 376, 377, 378, 379, 380, 383, 390, 392, 393, 394, 396, 398, 399, 408, 411, 415, 417, 419, 426, 429, 430, 442, 443, 448, 450, 452, 453, 454, 456, 461, 465, 466, 469, 470, 474, 477, 478, 479, 485, 494]\n"
     ]
    }
   ],
   "source": [
    "import os,math\n",
    "\n",
    "def ListelFp(p):\n",
    "#Fonction qui les elements de Z/pZ    \n",
    "    lisfp=[]\n",
    "    for i in range(p):\n",
    "        if(math.gcd(i,p)==1):\n",
    "            lisfp.append(i)\n",
    "    return lisfp\n",
    "def premier(p):\n",
    "#Fonction qui permet de savoir si p est premier ou non    \n",
    "    bol,j=True,0\n",
    "    for i in range(2,int(p)+1):\n",
    "        a=p%i\n",
    "        if(a==0):\n",
    "            j+=1\n",
    "    if(j>=2):\n",
    "        return False \n",
    "    else:\n",
    "        return True\n",
    "def ordre(p,x):\n",
    "#Fonction qui calcule l'ordre de x dans le sous-groupe Z/pZ    \n",
    "    i=1\n",
    "    while(True):\n",
    "        reste=x**i%p\n",
    "        if(reste==1):\n",
    "           \n",
    "            return \"L'ordre de {} par rapport au groupe Z/{}Z est : {} \".format(x,p,i)\n",
    "            break        \n",
    "        i+=1\n",
    "\n",
    "def eltgenerateur(p):\n",
    "#Fonction qui affiche les elements generateurs du sous-groupe Z/pZ    \n",
    "    lisgen,compteur=[],0\n",
    "    for i in range(2,p):\n",
    "        lisele=[]\n",
    "        for j in range(1,p):\n",
    "            a=i**j%p\n",
    "            if(a in ListelFp(p) and a not in lisele ):\n",
    "                lisele.append(a)\n",
    "                compteur+=1\n",
    "                \n",
    "        if(len(ListelFp(p))==compteur):\n",
    "               lisgen.append(i)\n",
    "        compteur=0    \n",
    "    return \"Les elements generateurs de Z/{}Z sont : {}\".format(p,lisgen)\n",
    "\n",
    "######## Partie pour les tests #############\n",
    "chx=eval(input(\"\\n1--Ordre d'un element\\n2--Elements generateurs d'un groupe\\n\"))\n",
    "if(chx==1):\n",
    "    np=eval(input(\"\\nVeuillez entrer un nombre premier\"))\n",
    "    while(not(premier(np))):\n",
    "    \n",
    "      np=eval(input(\"\\nVous devez entrer un nombre premier : \"))\n",
    "    eltx=\"dmfl\"  \n",
    "    while(not(isinstance(eltx,int)) ):\n",
    "        try:\n",
    "            eltx=input(\"Veuillez entrer un element de Z/{}Z\".format(np))     \n",
    "            eltx=int(eltx)\n",
    "        except ValueError:\n",
    "             print(\"Vous n'avez pas saisi de nombre\")        \n",
    "\n",
    "    print(ordre(np,eltx))        \n",
    "\n",
    "\n",
    "elif(chx==2):\n",
    "    eltx='sdd'\n",
    "    while(not(isinstance(eltx,int)) or not(premier(eltx)) ):\n",
    "        try:\n",
    "            eltx=input(\"\\nEntrer un nombre premier\")     \n",
    "            eltx=int(eltx)\n",
    "        except ValueError:\n",
    "             print(\"\\nVous n'avez pas saisi de nombre\")\n",
    "    print(eltgenerateur(eltx))    \n",
    "else:\n",
    "    print(\"Vous devez entrer un nombre positif\")\n",
    "   "
   ]
  },
  {
   "cell_type": "code",
   "execution_count": 3,
   "metadata": {},
   "outputs": [
    {
     "data": {
      "text/plain": [
       "True"
      ]
     },
     "execution_count": 3,
     "metadata": {},
     "output_type": "execute_result"
    }
   ],
   "source": [
    "premier(499)"
   ]
  },
  {
   "cell_type": "code",
   "execution_count": null,
   "metadata": {},
   "outputs": [],
   "source": []
  }
 ],
 "metadata": {
  "kernelspec": {
   "display_name": "Python 3",
   "language": "python",
   "name": "python3"
  },
  "language_info": {
   "codemirror_mode": {
    "name": "ipython",
    "version": 3
   },
   "file_extension": ".py",
   "mimetype": "text/x-python",
   "name": "python",
   "nbconvert_exporter": "python",
   "pygments_lexer": "ipython3",
   "version": "3.7.4"
  }
 },
 "nbformat": 4,
 "nbformat_minor": 4
}
