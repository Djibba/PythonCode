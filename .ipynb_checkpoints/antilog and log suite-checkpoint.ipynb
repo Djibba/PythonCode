{
 "cells": [
  {
   "cell_type": "markdown",
   "metadata": {},
   "source": [
    "## IMPLEMENTATION DES TABLES LOGARITHMIQUES "
   ]
  },
  {
   "cell_type": "markdown",
   "metadata": {},
   "source": [
    "### Noms des exposants\n",
    "- Khadim Niass\n",
    "- Mourtalla Ndjitté\n",
    "- Abdou Niane\n",
    "- Abdallah Lodiane \n",
    "- Cheikh Tidiane Thiam\n",
    "- Saliou Seck\n"
   ]
  },
  {
   "cell_type": "code",
   "execution_count": 1,
   "metadata": {},
   "outputs": [
    {
     "data": {
      "text/plain": [
       "[1, 3, 7, 11, 19, 37, 67, 131, 285, 545, 1033]"
      ]
     },
     "execution_count": 1,
     "metadata": {},
     "output_type": "execute_result"
    }
   ],
   "source": [
    "#poly_primitif=[01,03,07,013,023,045,0103,0203,0435,01041,02011]#liste de polynome primitif de degré 0 a degré 10\n",
    "poly_primitif=[1,3,7,13,23,45,103,203,435,1041,2011]\n",
    "def conversion(x:int):\n",
    "    x=str(x)\n",
    "    chaine=''\n",
    "    for i in x :\n",
    "        chaine+= bin(int(i))[2:].zfill(3)\n",
    "    chaine_finale=int(chaine,2)\n",
    "    return chaine_finale\n",
    "\n",
    "def gen_poly_primi():\n",
    "    return [conversion(i) for i in poly_primitif]\n",
    "\n",
    "gen_poly_primi()"
   ]
  },
  {
   "cell_type": "markdown",
   "metadata": {},
   "source": [
    "###  IMPLÉMENTATIONS DE LA FONCTION ANTILOG"
   ]
  },
  {
   "cell_type": "code",
   "execution_count": 2,
   "metadata": {},
   "outputs": [
    {
     "data": {
      "text/plain": [
       "[1, 2, 4, 8, 3, 6, 12, 11, 5, 10, 7, 14, 15, 13, 9, 1]"
      ]
     },
     "execution_count": 2,
     "metadata": {},
     "output_type": "execute_result"
    }
   ],
   "source": [
    "\n",
    "poly_primitif=gen_poly_primi()\n",
    "extension_degree = 4\n",
    "gf_cardinality= 2**extension_degree\n",
    "gf_ord =gf_cardinality-1\n",
    "gf_Antilog = [0 for i in range(gf_cardinality)]\n",
    "gf_Log =[0 for i in range(gf_cardinality)]\n",
    "\n",
    "def gf_antilog(extension_degree):    \n",
    "    \"\"\" Fonction renvoyant la table exponentielle de Fp de degré d \"\"\"\n",
    "    poly, liste=poly_primitif[extension_degree], [0]*2**extension_degree\n",
    "    liste[0] = liste[2**extension_degree-1] = 1 \n",
    "    for i in range(1, 2**extension_degree):\n",
    "        liste[i]=liste[i-1]<<1 # equivaut  poly_ini = poly_ini << 1\n",
    "        if liste[i] & 1<<extension_degree:\n",
    "            liste[i] ^=poly \n",
    "    return liste\n",
    "gf_antilog(4)"
   ]
  },
  {
   "cell_type": "code",
   "execution_count": 3,
   "metadata": {},
   "outputs": [
    {
     "data": {
      "text/plain": [
       "[1, 2, 4, 3, 6, 7, 5, 1]"
      ]
     },
     "execution_count": 3,
     "metadata": {},
     "output_type": "execute_result"
    }
   ],
   "source": [
    "gf_antilog(3)"
   ]
  },
  {
   "cell_type": "code",
   "execution_count": 4,
   "metadata": {
    "scrolled": true
   },
   "outputs": [
    {
     "data": {
      "text/plain": [
       "{1: 0,\n",
       " 2: 1,\n",
       " 4: 2,\n",
       " 8: 3,\n",
       " 3: 4,\n",
       " 6: 5,\n",
       " 12: 6,\n",
       " 11: 7,\n",
       " 5: 8,\n",
       " 10: 9,\n",
       " 7: 10,\n",
       " 14: 11,\n",
       " 15: 12,\n",
       " 13: 13,\n",
       " 9: 14}"
      ]
     },
     "execution_count": 4,
     "metadata": {},
     "output_type": "execute_result"
    }
   ],
   "source": [
    "def gf_log(d):\n",
    "    return {key: value for (key, value) in zip(gf_antilog(d), range(15))}\n",
    "gf_log(4)"
   ]
  },
  {
   "cell_type": "code",
   "execution_count": 5,
   "metadata": {},
   "outputs": [],
   "source": [
    "def gf_logplus(i):\n",
    "    return {key: value for (key, value) in zip(gf_antilog_all(poly_ini, poly, p), range(15))}[i] \n",
    "#gf_log(10)"
   ]
  },
  {
   "cell_type": "markdown",
   "metadata": {},
   "source": [
    "### inverse modulo"
   ]
  },
  {
   "cell_type": "code",
   "execution_count": 6,
   "metadata": {},
   "outputs": [],
   "source": [
    "def bezout(p,gf_ord): #fct récursive qui renvoie (g,x,y) tq ax+by=g (=pgcd(a,b))\n",
    "    if p==0:\n",
    "        return (gf_ord,0,1)\n",
    "    else:\n",
    "        g,y,x=bezout(gf_ord%p,p)\n",
    "        return (g,x-(gf_ord//p)*y,y)\n",
    "    \n",
    "def invmod(a): #inverse modulaire de a modulo gf_ord\n",
    "    g,x,y=bezout(a,gf_ord)\n",
    "    if g!=1:\n",
    "        raise Exception('pas inversible')\n",
    "    else:\n",
    "        return x%gf_ord\n"
   ]
  },
  {
   "cell_type": "markdown",
   "metadata": {},
   "source": [
    "### Récupération des tables log et antilog"
   ]
  },
  {
   "cell_type": "code",
   "execution_count": 7,
   "metadata": {},
   "outputs": [],
   "source": [
    "gf_Log=gf_log(4)\n",
    "gf_Antilog = gf_antilog(4)"
   ]
  },
  {
   "cell_type": "markdown",
   "metadata": {},
   "source": [
    "### implémentation de ${{x^2}}$ "
   ]
  },
  {
   "cell_type": "code",
   "execution_count": 8,
   "metadata": {},
   "outputs": [
    {
     "data": {
      "text/plain": [
       "12"
      ]
     },
     "execution_count": 8,
     "metadata": {},
     "output_type": "execute_result"
    }
   ],
   "source": [
    "def carre(x):\n",
    "    return gf_Antilog[(gf_Log[x]<<1) % gf_ord ]\n",
    "carre(8)"
   ]
  },
  {
   "cell_type": "markdown",
   "metadata": {},
   "source": [
    "### implémentation de ${{x^n}}$ "
   ]
  },
  {
   "cell_type": "code",
   "execution_count": 9,
   "metadata": {},
   "outputs": [
    {
     "data": {
      "text/plain": [
       "2"
      ]
     },
     "execution_count": 9,
     "metadata": {},
     "output_type": "execute_result"
    }
   ],
   "source": [
    "def xpow(x,pow):\n",
    "    return gf_Antilog[(gf_Log[x]*pow) % gf_ord]\n",
    "xpow(5,2)"
   ]
  },
  {
   "cell_type": "markdown",
   "metadata": {},
   "source": [
    "### Racine carré de  $\\sqrt x$"
   ]
  },
  {
   "cell_type": "code",
   "execution_count": 10,
   "metadata": {},
   "outputs": [
    {
     "data": {
      "text/plain": [
       "5"
      ]
     },
     "execution_count": 10,
     "metadata": {},
     "output_type": "execute_result"
    }
   ],
   "source": [
    "def square_x(x):\n",
    "    return gf_Antilog[(invmod(2)*(gf_Log[x]))%gf_ord]\n",
    "square_x(2)"
   ]
  },
  {
   "cell_type": "markdown",
   "metadata": {},
   "source": [
    "### inverse $\\frac{1}{x}$"
   ]
  },
  {
   "cell_type": "code",
   "execution_count": 11,
   "metadata": {},
   "outputs": [
    {
     "data": {
      "text/plain": [
       "13"
      ]
     },
     "execution_count": 11,
     "metadata": {},
     "output_type": "execute_result"
    }
   ],
   "source": [
    "def inverse(x):\n",
    "    return invmod(gf_Antilog[(gf_Log[x])%gf_ord])\n",
    "inverse(7)"
   ]
  },
  {
   "cell_type": "markdown",
   "metadata": {},
   "source": [
    "### division $\\frac{x}{y}$"
   ]
  },
  {
   "cell_type": "code",
   "execution_count": 12,
   "metadata": {},
   "outputs": [
    {
     "data": {
      "text/plain": [
       "13"
      ]
     },
     "execution_count": 12,
     "metadata": {},
     "output_type": "execute_result"
    }
   ],
   "source": [
    "def rapport(x,y):\n",
    "     return (x*inverse(y))%gf_ord\n",
    "rapport(1,7)"
   ]
  },
  {
   "cell_type": "code",
   "execution_count": null,
   "metadata": {},
   "outputs": [],
   "source": []
  }
 ],
 "metadata": {
  "kernelspec": {
   "display_name": "Python 3",
   "language": "python",
   "name": "python3"
  },
  "language_info": {
   "codemirror_mode": {
    "name": "ipython",
    "version": 3
   },
   "file_extension": ".py",
   "mimetype": "text/x-python",
   "name": "python",
   "nbconvert_exporter": "python",
   "pygments_lexer": "ipython3",
   "version": "3.7.4"
  }
 },
 "nbformat": 4,
 "nbformat_minor": 2
}
