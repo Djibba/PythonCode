{
 "cells": [
  {
   "cell_type": "code",
   "execution_count": 42,
   "metadata": {},
   "outputs": [
    {
     "name": "stdout",
     "output_type": "stream",
     "text": [
      "n*log(2.5/x) - n*log(x) + 1\n"
     ]
    },
    {
     "ename": "SyntaxError",
     "evalue": "invalid syntax (<lambdifygenerated-3>, line 1)",
     "output_type": "error",
     "traceback": [
      "Traceback \u001b[1;36m(most recent call last)\u001b[0m:\n",
      "  File \u001b[0;32m\"C:\\Users\\EliteBook\\Anaconda3\\lib\\site-packages\\IPython\\core\\interactiveshell.py\"\u001b[0m, line \u001b[0;32m3326\u001b[0m, in \u001b[0;35mrun_code\u001b[0m\n    exec(code_obj, self.user_global_ns, self.user_ns)\n",
      "  File \u001b[0;32m\"<ipython-input-42-4792f641b43f>\"\u001b[0m, line \u001b[0;32m33\u001b[0m, in \u001b[0;35m<module>\u001b[0m\n    Newton(ValuesX(fo,5),10,6)\n",
      "  File \u001b[0;32m\"<ipython-input-42-4792f641b43f>\"\u001b[0m, line \u001b[0;32m17\u001b[0m, in \u001b[0;35mValuesX\u001b[0m\n    return lambdify(fonc, r)\n",
      "\u001b[1;36m  File \u001b[1;32m\"C:\\Users\\EliteBook\\AppData\\Roaming\\Python\\Python37\\site-packages\\sympy\\utilities\\lambdify.py\"\u001b[1;36m, line \u001b[1;32m802\u001b[1;36m, in \u001b[1;35mlambdify\u001b[1;36m\u001b[0m\n\u001b[1;33m    c = compile(funcstr, filename, 'exec')\u001b[0m\n",
      "\u001b[1;36m  File \u001b[1;32m\"<lambdifygenerated-3>\"\u001b[1;36m, line \u001b[1;32m1\u001b[0m\n\u001b[1;33m    def _lambdifygenerated(n*log(2.5/x) - n*log(x) + 1):\u001b[0m\n\u001b[1;37m                            ^\u001b[0m\n\u001b[1;31mSyntaxError\u001b[0m\u001b[1;31m:\u001b[0m invalid syntax\n"
     ]
    }
   ],
   "source": [
    "from sympy import summation, lambdify, symbols, log,gamma,diff,symbol\n",
    "\n",
    "\n",
    "def somme(n):\n",
    "    return sum(n)/len(n)\n",
    "\n",
    "def logA(n,Alpha):\n",
    "    return log(somme(n)/Alpha)\n",
    "\n",
    "def gammaA(alpha):\n",
    "    return diff(gamma(alpha))/gamma(alpha)\n",
    "def sommeLog(n):\n",
    "    i, n,x = symbols('i n x', integer=True)\n",
    "    return summation(log(x), (i, 1, n))\n",
    "\n",
    "def ValuesX(fonc,r):\n",
    "    return lambdify(fonc, r)\n",
    "\n",
    "x,n = symbols('x n',integer = True)\n",
    "\n",
    "X = [1,2,3,4]\n",
    "fo = n*gammaA(x) + n * logA(X,x) - sommeLog(n)\n",
    "print(fo)\n",
    "\n",
    "def Newton(f,p,m):\n",
    "    i = 0\n",
    "    \n",
    "    while(abs(f(m)/diff(f(m))) >= 10**(-p) and  i <= 10 ):\n",
    "        m = m - f(m)/diff(f(m))\n",
    "        i+=1\n",
    "    return m,i\n",
    "    \n",
    "Newton(ValuesX(fo,5),10,6)"
   ]
  },
  {
   "cell_type": "code",
   "execution_count": 33,
   "metadata": {},
   "outputs": [
    {
     "data": {
      "text/plain": [
       "2.5"
      ]
     },
     "execution_count": 33,
     "metadata": {},
     "output_type": "execute_result"
    }
   ],
   "source": [
    "from sympy import summation, lambdify, symbols, log,gamma,diff,symbol\n",
    "\n",
    "def somme(n):\n",
    "    return sum(n)/len(n)\n",
    "somme([1,2,3,4])"
   ]
  },
  {
   "cell_type": "code",
   "execution_count": 37,
   "metadata": {},
   "outputs": [
    {
     "data": {
      "text/latex": [
       "$\\displaystyle \\log{\\left(5 \\right)} + 2$"
      ],
      "text/plain": [
       "log(5) + 2"
      ]
     },
     "execution_count": 37,
     "metadata": {},
     "output_type": "execute_result"
    }
   ],
   "source": [
    "import sympy\n",
    "def sommeLog(x):\n",
    "    return sympy.ln(x)\n",
    "sommeLog(5)+2"
   ]
  },
  {
   "cell_type": "code",
   "execution_count": 24,
   "metadata": {},
   "outputs": [
    {
     "data": {
      "text/plain": [
       "<function _lambdifygenerated(x)>"
      ]
     },
     "execution_count": 24,
     "metadata": {},
     "output_type": "execute_result"
    }
   ],
   "source": [
    "def ValuesX(fonc,r):\n",
    "    return lambdify(fonc, r)\n",
    "ValuesX(x,2)"
   ]
  },
  {
   "cell_type": "code",
   "execution_count": null,
   "metadata": {},
   "outputs": [],
   "source": []
  }
 ],
 "metadata": {
  "kernelspec": {
   "display_name": "Python 3",
   "language": "python",
   "name": "python3"
  },
  "language_info": {
   "codemirror_mode": {
    "name": "ipython",
    "version": 3
   },
   "file_extension": ".py",
   "mimetype": "text/x-python",
   "name": "python",
   "nbconvert_exporter": "python",
   "pygments_lexer": "ipython3",
   "version": "3.7.4"
  }
 },
 "nbformat": 4,
 "nbformat_minor": 2
}
