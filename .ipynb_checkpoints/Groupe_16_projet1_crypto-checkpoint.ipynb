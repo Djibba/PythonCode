{
 "cells": [
  {
   "cell_type": "markdown",
   "metadata": {},
   "source": [
    "## Impléméntation des schémas cryptographiques\n"
   ]
  },
  {
   "cell_type": "markdown",
   "metadata": {},
   "source": [
    "# Membre du groupe : \n",
    "Djibril Ba <br>\n",
    "Ndeye Gatou Sow"
   ]
  },
  {
   "cell_type": "markdown",
   "metadata": {},
   "source": [
    "Ce projet nous a permis de mieux comprendre les schémas de la cryptographie classique. Il nous a permis aussi à mieux s'améliorer au langage python lors de l'implémentation.\n",
    "Pour chaque schéma cryptographique on a une fonction qui génére une clé de chiffrement et de déchiffrement, une fonction de chiffrement qui prend en argument le message clair et la clé de chiffrement et une fonction de déchiffrement qui prend aussi en argument le message chiffré et la clé de déchiffrement. "
   ]
  },
  {
   "cell_type": "markdown",
   "metadata": {},
   "source": [
    "# Perspective"
   ]
  },
  {
   "cell_type": "markdown",
   "metadata": {},
   "source": [
    "On n'a pas pu faire le chiffrement de Hill par cintrainte de temps et on n'a pas pu finir la cryptanalyse"
   ]
  },
  {
   "cell_type": "markdown",
   "metadata": {},
   "source": [
    "## Cesar"
   ]
  },
  {
   "cell_type": "code",
   "execution_count": 35,
   "metadata": {},
   "outputs": [
    {
     "name": "stdout",
     "output_type": "stream",
     "text": [
      "{'A': 0, 'B': 1, 'C': 2, 'D': 3, 'E': 4, 'F': 5, 'G': 6, 'H': 7, 'I': 8, 'J': 9, 'K': 10, 'L': 11, 'M': 12, 'N': 13, 'O': 14, 'P': 15, 'Q': 16, 'R': 17, 'S': 18, 'T': 19, 'U': 20, 'V': 21, 'W': 22, 'X': 23, 'Y': 24, 'Z': 25}\n"
     ]
    }
   ],
   "source": [
    "import string\n",
    "\n",
    "j=0\n",
    "dict = {}\n",
    "for i in string.ascii_uppercase:\n",
    "    dict[i] = j\n",
    "    j+=1\n",
    "print(dict)"
   ]
  },
  {
   "cell_type": "code",
   "execution_count": 36,
   "metadata": {},
   "outputs": [],
   "source": [
    "import random\n",
    "def genkey_Cesar():\n",
    "    return random.randint(1,25)"
   ]
  },
  {
   "cell_type": "code",
   "execution_count": 37,
   "metadata": {},
   "outputs": [
    {
     "name": "stdout",
     "output_type": "stream",
     "text": [
      "Entrer votre message à chiffrer : je me nomme djibril ba\n"
     ]
    }
   ],
   "source": [
    "message = str(input(\"Entrer votre message à chiffrer : \").upper()).replace(\" \",\"\")\n",
    "caract_message = list(message)"
   ]
  },
  {
   "cell_type": "code",
   "execution_count": 38,
   "metadata": {},
   "outputs": [
    {
     "name": "stdout",
     "output_type": "stream",
     "text": [
      "Le message chiffré est :  PKSKTUSSKJPOHXORHG\n"
     ]
    }
   ],
   "source": [
    "def cipher_Cesar(caract_message,k):\n",
    "    chiffre = []\n",
    "    mot_chiffre= []\n",
    "    cc = []\n",
    "    for i in caract_message:\n",
    "        c = (dict.get(i,i) + k) %26\n",
    "        chiffre.append(list(dict.keys())[list(dict.values()).index(c)])\n",
    "    return \"\".join(chiffre)\n",
    "k = genkey_Cesar()\n",
    "print(\"Le message chiffré est : \",cipher_Cesar(caract_message,k))"
   ]
  },
  {
   "cell_type": "code",
   "execution_count": 39,
   "metadata": {},
   "outputs": [
    {
     "name": "stdout",
     "output_type": "stream",
     "text": [
      "Le message déchiffré est :  JEMENOMMEDJIBRILBA\n"
     ]
    }
   ],
   "source": [
    "d=list(cipher_Cesar(caract_message,k))\n",
    "def decipher_Cesar(d,k):\n",
    "    dechiffre = []\n",
    "    mot_dechiffre= []\n",
    "    dd = []\n",
    "    for i in d:\n",
    "        dd = (dict.get(i,i) - k) %26\n",
    "        dechiffre.append(list(dict.keys())[list(dict.values()).index(dd)])\n",
    "    return \"\".join(dechiffre)\n",
    "print(\"Le message déchiffré est : \",decipher_Cesar(d,k))"
   ]
  },
  {
   "cell_type": "markdown",
   "metadata": {},
   "source": [
    "## Affine"
   ]
  },
  {
   "cell_type": "code",
   "execution_count": 54,
   "metadata": {},
   "outputs": [
    {
     "name": "stdout",
     "output_type": "stream",
     "text": [
      "les clés sont : k1 = 11 et k2 = 6\n"
     ]
    }
   ],
   "source": [
    "import  random\n",
    "def genkey_Affine():\n",
    "    for i in range(1,25):\n",
    "        return random.randint(1,25)\n",
    "k1 = genkey_Affine()\n",
    "k2 = genkey_Affine()\n",
    "print(f\"les clés sont : k1 = {k1} et k2 = {k2}\")"
   ]
  },
  {
   "cell_type": "code",
   "execution_count": 55,
   "metadata": {},
   "outputs": [
    {
     "name": "stdout",
     "output_type": "stream",
     "text": [
      "Entrer votre message à chiffrer : je suis a la TDSI\n"
     ]
    }
   ],
   "source": [
    "message = str(input(\"Entrer votre message à chiffrer : \").upper()).replace(\" \",\"\")\n",
    "caract_message = list(message)"
   ]
  },
  {
   "cell_type": "code",
   "execution_count": 56,
   "metadata": {},
   "outputs": [
    {
     "name": "stdout",
     "output_type": "stream",
     "text": [
      "Le chiffré est : BYWSQWGXGHNWQ\n"
     ]
    }
   ],
   "source": [
    "def cipher_Affine(caract_message,k1,k2):\n",
    "    return [list(dict.keys())[list(dict.values()).index(j)] for j in [((dict.get(i, i)*k1)+k2) % 26 for i in caract_message if i in dict.keys()] ]\n",
    "print(\"Le chiffré est : \"+\"\".join(cipher_Affine(caract_message,k1,k2)))"
   ]
  },
  {
   "cell_type": "code",
   "execution_count": 60,
   "metadata": {},
   "outputs": [
    {
     "name": "stdout",
     "output_type": "stream",
     "text": [
      "L'inverse de k1 est :  19\n"
     ]
    }
   ],
   "source": [
    "import math\n",
    "def inverse(k):\n",
    "    return [i%26 for i in range(1,25) for j in range(1,25) if math.gcd(i,j)==1 if (k1*i)%26==1]\n",
    "inv = inverse(k)[0]\n",
    "print(\"L'inverse de k1 est : \",inv)"
   ]
  },
  {
   "cell_type": "code",
   "execution_count": 61,
   "metadata": {},
   "outputs": [
    {
     "name": "stdout",
     "output_type": "stream",
     "text": [
      "Le déchiffré est : JESUISALATDSI\n"
     ]
    }
   ],
   "source": [
    "d = cipher_Affine(caract_message,k1,k2)\n",
    "def decipher_Affine(d,inv,k):\n",
    "    return [list(dict.keys())[list(dict.values()).index(j)] for j in [(inv * (dict.get(i,i)-k)) % 26 for i in d]]\n",
    "print(\"Le déchiffré est : \"+\"\".join(decipher_Affine(d,inv,k2)))"
   ]
  },
  {
   "cell_type": "markdown",
   "metadata": {},
   "source": [
    "## Vigenére"
   ]
  },
  {
   "cell_type": "code",
   "execution_count": 62,
   "metadata": {},
   "outputs": [
    {
     "name": "stdout",
     "output_type": "stream",
     "text": [
      "Entrer la taille de la clé : 2\n",
      "la clé est [19, 3]\n"
     ]
    }
   ],
   "source": [
    "import random\n",
    "n= int(input(\"Entrer la taille de la clé : \"))\n",
    "def genkey_Vigenere(k):\n",
    "    keygenn = []\n",
    "    for i in range(0,k):\n",
    "        keygenn.append(random.randint(1,25))\n",
    "    return keygenn\n",
    "k = genkey_Vigenere(n)\n",
    "print(f\"la clé est {k}\")"
   ]
  },
  {
   "cell_type": "code",
   "execution_count": 63,
   "metadata": {},
   "outputs": [
    {
     "name": "stdout",
     "output_type": "stream",
     "text": [
      "Entrer votre message à chiffrer : je suis en licence\n"
     ]
    }
   ],
   "source": [
    "m = str(input(\"Entrer votre message à chiffrer : \").upper()).replace(\" \",\"\")\n",
    "message = list(m)"
   ]
  },
  {
   "cell_type": "code",
   "execution_count": 64,
   "metadata": {},
   "outputs": [
    {
     "name": "stdout",
     "output_type": "stream",
     "text": [
      "le chiffré est :  CHLXBVXQELVHGFX\n"
     ]
    }
   ],
   "source": [
    "def cipher_Vigenere(message,k):\n",
    "    lettre_chiffre = []\n",
    "    lettre_clair = []\n",
    "    message_chiffre = []\n",
    "    message_c= []\n",
    "    d = 0\n",
    "    for i in message:\n",
    "        lettre_chiffre = (dict.get(i, i) + k[d%len(k)])%26\n",
    "        d+=1\n",
    "        message_chiffre.append(lettre_chiffre)\n",
    "    for b in message_chiffre:\n",
    "        message_c.append(list(dict.keys())[list(dict.values()).index(b)])\n",
    "    return \"\".join(message_c)    \n",
    "print(\"le chiffré est : \",cipher_Vigenere(message,k))"
   ]
  },
  {
   "cell_type": "code",
   "execution_count": 65,
   "metadata": {},
   "outputs": [
    {
     "name": "stdout",
     "output_type": "stream",
     "text": [
      "Le déchiffré est :  JESUISENLICENCE\n"
     ]
    }
   ],
   "source": [
    "message_chiffré = cipher_Vigenere(message,k)\n",
    "def decipher_Vigenere(message_chiffré,k):\n",
    "    lettred = []\n",
    "    messaged = []\n",
    "    dechiffre = []\n",
    "    d=0\n",
    "    for j in message_chiffré:\n",
    "        lettred = (dict.get(j,j) - k[d%len(k)])%26\n",
    "        d+=1\n",
    "        messaged.append(lettred)\n",
    "    for t in messaged:\n",
    "        dechiffre.append(list(dict.keys())[list(dict.values()).index(t)])\n",
    "    return \"\".join(dechiffre)\n",
    "print(\"Le déchiffré est : \",decipher_Vigenere(message_chiffré,k))"
   ]
  },
  {
   "cell_type": "markdown",
   "metadata": {},
   "source": [
    "## Substitution"
   ]
  },
  {
   "cell_type": "code",
   "execution_count": 66,
   "metadata": {},
   "outputs": [
    {
     "name": "stdout",
     "output_type": "stream",
     "text": [
      "la clé est : \n",
      "{'A': 'M', 'B': 'F', 'C': 'Y', 'D': 'K', 'E': 'Q', 'F': 'O', 'G': 'Z', 'H': 'U', 'I': 'N', 'J': 'W', 'K': 'G', 'L': 'A', 'M': 'T', 'N': 'V', 'O': 'R', 'P': 'C', 'Q': 'S', 'R': 'P', 'S': 'H', 'T': 'J', 'U': 'X', 'V': 'D', 'W': 'I', 'X': 'E', 'Y': 'L', 'Z': 'B'}\n"
     ]
    }
   ],
   "source": [
    "import string\n",
    "\n",
    "j=0\n",
    "dict = {}\n",
    "for i in string.ascii_uppercase:\n",
    "    dict[i] = j\n",
    "    j+=1\n",
    "\n",
    "def genkey_Subs():\n",
    "    pi = []\n",
    "    t= []\n",
    "    dic=[]\n",
    "    for i in range(26):\n",
    "        pi.append(i)\n",
    "    k = list(pi)\n",
    "    random.shuffle(k)\n",
    "    for i in k:\n",
    "        dic.append(dict.get(i,i))\n",
    "    for j in dic:\n",
    "        t.append(list(dict.keys())[list(dict.values()).index(j)])\n",
    "    for i,j in enumerate(dict):\n",
    "        dict[j] = t[i]\n",
    "    return dict\n",
    "k=genkey_Subs()\n",
    "print(f\"la clé est : \\n{k}\")"
   ]
  },
  {
   "cell_type": "code",
   "execution_count": 67,
   "metadata": {},
   "outputs": [
    {
     "name": "stdout",
     "output_type": "stream",
     "text": [
      "Entrer votre message à chiffrer : ceci est un chiffrement par substitution\n"
     ]
    }
   ],
   "source": [
    "m = str(input(\"Entrer votre message à chiffrer : \").upper()).replace(\" \",\"\")\n",
    "message = list(m)"
   ]
  },
  {
   "cell_type": "code",
   "execution_count": 68,
   "metadata": {},
   "outputs": [
    {
     "name": "stdout",
     "output_type": "stream",
     "text": [
      "Le chiffré est :  YQYNQHJXVYUNOOPQTQVJCMPHXFHJNJXJNRV\n"
     ]
    }
   ],
   "source": [
    "def cipher_Subs(message,k):\n",
    "    chiffre  =[]\n",
    "    for i in message:\n",
    "        c = dict[i]\n",
    "        chiffre.append(c)\n",
    "    return \"\".join(chiffre)\n",
    "print(\"Le chiffré est : \",cipher_Subs(message,k))"
   ]
  },
  {
   "cell_type": "code",
   "execution_count": 70,
   "metadata": {},
   "outputs": [
    {
     "name": "stdout",
     "output_type": "stream",
     "text": [
      "Le déchiffré est :  CECIESTUNCHIFFREMENTPARSUBSTITUTION\n"
     ]
    }
   ],
   "source": [
    "import string\n",
    "def decipher_Subs(messag,k1):\n",
    "    d= {}\n",
    "    dech= []\n",
    "    chiffre = []\n",
    "    for i,j in zip(k1.values(),string.ascii_uppercase):\n",
    "        d[i]=j\n",
    "    for i in messag:\n",
    "        d1 =  d[i]\n",
    "        dech.append(d1)\n",
    "    return \"\".join(dech)\n",
    "print(\"Le déchiffré est : \",decipher_Subs(cipher_Subs(message,k),k))"
   ]
  },
  {
   "cell_type": "markdown",
   "metadata": {},
   "source": [
    "## Permutation"
   ]
  },
  {
   "cell_type": "code",
   "execution_count": 35,
   "metadata": {},
   "outputs": [],
   "source": [
    "import string\n",
    "\n",
    "j=0\n",
    "dict = {}\n",
    "for i in string.ascii_uppercase:\n",
    "    dict[i] = j\n",
    "    j+=1"
   ]
  },
  {
   "cell_type": "code",
   "execution_count": 58,
   "metadata": {},
   "outputs": [
    {
     "name": "stdout",
     "output_type": "stream",
     "text": [
      "Entrer votre message à chiffrer : DJIBSON\n"
     ]
    }
   ],
   "source": [
    "m = str(input(\"Entrer votre message à chiffrer : \").upper()).replace(\" \",\"\")"
   ]
  },
  {
   "cell_type": "code",
   "execution_count": 59,
   "metadata": {},
   "outputs": [
    {
     "data": {
      "text/plain": [
       "{0: 1, 1: 0, 2: 6, 3: 2, 4: 3, 5: 4, 6: 5}"
      ]
     },
     "execution_count": 59,
     "metadata": {},
     "output_type": "execute_result"
    }
   ],
   "source": [
    "import random\n",
    "\n",
    "def genkey_Perm():\n",
    "    dic = {}\n",
    "    j = 0\n",
    "    liste = random.sample(range(0,len(m)),len(m))\n",
    "    for i in liste:\n",
    "        dic[j ] = i\n",
    "        j+=1\n",
    "    return dic\n",
    "k=genkey_Perm()\n",
    "k"
   ]
  },
  {
   "cell_type": "code",
   "execution_count": 60,
   "metadata": {},
   "outputs": [
    {
     "name": "stdout",
     "output_type": "stream",
     "text": [
      "Le chiffré est :  JDNIBSO\n"
     ]
    }
   ],
   "source": [
    "def cipher_Permutation(m,k):\n",
    "    b=[]\n",
    "    for i in range(len(m)):\n",
    "        for j in k:\n",
    "            b.append(m[k[j]])\n",
    "        return \"\".join(b)\n",
    "print(\"Le chiffré est : \",cipher_Permutation(m,k))"
   ]
  },
  {
   "cell_type": "code",
   "execution_count": 61,
   "metadata": {},
   "outputs": [
    {
     "data": {
      "text/plain": [
       "{1: 0, 0: 1, 6: 2, 2: 3, 3: 4, 4: 5, 5: 6}"
      ]
     },
     "execution_count": 61,
     "metadata": {},
     "output_type": "execute_result"
    }
   ],
   "source": [
    "def inversek(l):\n",
    "    dic1 = {}\n",
    "    for i,j in l.items():\n",
    "        dic1[j] = i\n",
    "    return dic1\n",
    "inv = inversek(k)\n",
    "inv\n",
    "    "
   ]
  },
  {
   "cell_type": "code",
   "execution_count": 62,
   "metadata": {},
   "outputs": [
    {
     "data": {
      "text/plain": [
       "'DJIBSON'"
      ]
     },
     "execution_count": 62,
     "metadata": {},
     "output_type": "execute_result"
    }
   ],
   "source": [
    "def decipher_Perm(d,o):\n",
    "    b=[]\n",
    "    for i in range(len(d)):\n",
    "        b.append(d[o[i]])\n",
    "    return \"\".join(b)\n",
    "decipher_Perm(cipher_Permutation(m,k),inv)"
   ]
  },
  {
   "cell_type": "markdown",
   "metadata": {},
   "source": [
    "## Vernam"
   ]
  },
  {
   "cell_type": "code",
   "execution_count": 77,
   "metadata": {},
   "outputs": [],
   "source": [
    "import string\n",
    "j=0\n",
    "dict = {}\n",
    "for i in string.ascii_uppercase:\n",
    "    dict[i] = j\n",
    "    j+=1"
   ]
  },
  {
   "cell_type": "code",
   "execution_count": 78,
   "metadata": {},
   "outputs": [
    {
     "name": "stdout",
     "output_type": "stream",
     "text": [
      "Entrer un message : je me surnomme djibba\n"
     ]
    }
   ],
   "source": [
    "m = str(input(\"Entrer un message : \").upper()).replace(\" \",\"\")\n",
    "message = list(m)"
   ]
  },
  {
   "cell_type": "code",
   "execution_count": 79,
   "metadata": {},
   "outputs": [
    {
     "data": {
      "text/plain": [
       "['C',\n",
       " 'G',\n",
       " 'M',\n",
       " 'B',\n",
       " 'L',\n",
       " 'A',\n",
       " 'K',\n",
       " 'P',\n",
       " 'R',\n",
       " 'Q',\n",
       " 'O',\n",
       " 'I',\n",
       " 'H',\n",
       " 'E',\n",
       " 'N',\n",
       " 'D',\n",
       " 'J',\n",
       " 'F']"
      ]
     },
     "execution_count": 79,
     "metadata": {},
     "output_type": "execute_result"
    }
   ],
   "source": [
    "import random\n",
    "def genkey_Vernam(m):\n",
    "    a = []\n",
    "    for i in range(len(m)):\n",
    "        c = dict.get(i,i)\n",
    "        a.append(list(dict.keys())[list(dict.values()).index(c)])\n",
    "        random.shuffle(a)\n",
    "    return a\n",
    "k = \"\".join(genkey_Vernam(m))\n",
    "k = list(k)\n",
    "k"
   ]
  },
  {
   "cell_type": "code",
   "execution_count": 80,
   "metadata": {},
   "outputs": [
    {
     "name": "stdout",
     "output_type": "stream",
     "text": [
      "Le chiffré est :  LKYFDUBCFCAMKNVEKF\n"
     ]
    }
   ],
   "source": [
    "def cipher_Vernam(message,k):\n",
    "    chiffré = int\n",
    "    c = []\n",
    "    cc = []\n",
    "    a = []\n",
    "    for i,j in zip(message,k):\n",
    "        chiffré = (dict[i]+dict[j])%26\n",
    "        cc.append(chiffré)\n",
    "    for i in cc:\n",
    "        a.append(list(dict.keys())[list(dict.values()).index(i)])\n",
    "    return \"\".join(a)   \n",
    "print(\"Le chiffré est : \",cipher_Vernam(message,k))"
   ]
  },
  {
   "cell_type": "code",
   "execution_count": 81,
   "metadata": {},
   "outputs": [
    {
     "name": "stdout",
     "output_type": "stream",
     "text": [
      "le déchiffré est : JEMESURNOMMEDJIBBA\n"
     ]
    }
   ],
   "source": [
    "def decipher_Vernam(d,l):\n",
    "    dechiffré = int\n",
    "    cd = []\n",
    "    ad = []\n",
    "    for i,j in zip(d,l):\n",
    "        dechiffré = (dict[i]-dict[j])%26\n",
    "        cd.append(dechiffré)\n",
    "    for i in cd:\n",
    "        ad.append(list(dict.keys())[list(dict.values()).index(i)])\n",
    "    return \"\".join(ad)\n",
    "print(\"le déchiffré est :\",decipher_Vernam(cipher_Vernam(message,k),k))"
   ]
  },
  {
   "cell_type": "markdown",
   "metadata": {},
   "source": [
    "## Hill"
   ]
  },
  {
   "cell_type": "code",
   "execution_count": null,
   "metadata": {},
   "outputs": [],
   "source": [
    "\n",
    "    "
   ]
  },
  {
   "cell_type": "markdown",
   "metadata": {},
   "source": [
    "## Cryptanalyse"
   ]
  },
  {
   "cell_type": "markdown",
   "metadata": {},
   "source": [
    "# 1.la fréquence des lettres dans ciph"
   ]
  },
  {
   "cell_type": "code",
   "execution_count": 290,
   "metadata": {},
   "outputs": [
    {
     "name": "stdout",
     "output_type": "stream",
     "text": [
      "{'A': 15, 'B': 8, 'C': 0, 'D': 53, 'E': 0, 'F': 3, 'G': 91, 'H': 33, 'I': 75, 'J': 59, 'K': 196, 'L': 0, 'M': 71, 'N': 10, 'O': 7, 'P': 89, 'Q': 54, 'R': 113, 'S': 7, 'T': 0, 'U': 74, 'V': 22, 'W': 47, 'X': 33, 'Y': 7, 'Z': 48}\n"
     ]
    }
   ],
   "source": [
    "import string\n",
    "ciph = \"\"\"DKR XKPGWKR MPIKUPKR WJPRIMIQKPI QP ZKR HDQR VUJR UMRSQKR HJQU\n",
    "IJQIKR DKR JUVGPMRGIMJPR N WJXHUMR WKDDKR GQ RKPKVGD DKR KXHDJNKR\n",
    "ZKR JUVGPMRGIMJPR GNGPI GWWKR GQY RNRIKXKR KI GQY ZJPPKKR\n",
    "WUMIMSQKR RJPI KQYXKXKR QPK XKPGWK WGU HJQAGPI WGQRKU ZKR\n",
    "ZJXXGVKR BMPGPWMKUR KI ZKR ZJXXGVKR G DG UKHQIGIMJP G IUGAKUR DK\n",
    "AJD ZK ZJPPKKR RKPRMODKR WKR KXHDJNKR HKQAKPI KVGDKXKPI QIMDMRKU\n",
    "DKQU WJPPGMRRGPWK ZK DJUVGPMRGIMJP ZGPR DK OQI ZK HKUXKIIUK\n",
    "JQ ZK HKUHKIUKU QPK GIIGSQK AMRGPI G HKUIQUOKU DK OJP BJPWIMJPPKXKPI\n",
    "ZK DKQU JUVGPMRGIMJP JQIUK WKR GWIKR ZKDMOKUKR DKR\n",
    "KXHDJNKR HKQAKPI WGQRKU ZKR ZJXXGVKR HGU MPGZAKUIGPWK ZQ BGMI\n",
    "ZK DKQU MVPJUGPWK ZKR HUJWKZQUKR ZK RKWQUMIK ZK DJUVGPMRGIMJP\n",
    "PJIGXXKPI HGU DK IKDKWFGUVKXKPI ZKR WJPIKPQR PJP RQUR DQRGVK ZK\n",
    "HKUMHFKUMSQKR MPBKWIKR JQ KP JQAUGPI ZQ WJQUUMKD ZFGXKWJPPGVK\n",
    "WKR KXHDJNKR HKQAKPI KVGDKXKPI ZKAKPMU ZKR AMWIMXKR ZGWIKR\n",
    "ZMPVKPMKUMK RJWMGDK G IUGAKUR DKRSQKDR MDR ZJPPKPI GDJUR HGU\n",
    "MVPJUGPWK GWWKR G DKQUR UKRKGQY JQ KYKWQIKPI ZKR MPRIUQWIMJPR\n",
    "GQY GHHGUKPWKR MPJBBKPRMAKR XGMR HUJBMIGPI GQY WNOKUWUMXMPKDR\n",
    "G WKI KVGUZ DG HUKRMZKPWK ZK DG UKHQODMSQK GVMRRGPI HGU\n",
    "DMPIKUXKZMGMUK ZK DG WJXXMRRMJP PGIMJPGDK ZK WUNHIJDJVMK WPW G\n",
    "HUMR DKR ZKAGPIR KI G HUKRWUMI ZKR XKRQUKR ZKIGMDDKKR UKDGIMAKR\n",
    "G DG HJDMIMSQK ZK RKWQUMIK ZKR RNRIKXKR ZMPBJUXGIMJP ZK DKIGI ZQ\n",
    "RKPKVGD HRRMKR\"\"\".replace(\" \",\"\")\n",
    "\n",
    "dict = {}\n",
    "for i in string.ascii_uppercase:\n",
    "    dict[i] = ciph.count(i)\n",
    "print(dict)"
   ]
  },
  {
   "cell_type": "code",
   "execution_count": 292,
   "metadata": {},
   "outputs": [
    {
     "name": "stdout",
     "output_type": "stream",
     "text": [
      "{'A': 1.3204225352112675, 'B': 0.7042253521126761, 'C': 0.0, 'D': 4.665492957746479, 'E': 0.0, 'F': 0.2640845070422535, 'G': 8.01056338028169, 'H': 2.9049295774647885, 'I': 6.602112676056338, 'J': 5.193661971830986, 'K': 17.253521126760564, 'L': 0.0, 'M': 6.25, 'N': 0.8802816901408451, 'O': 0.6161971830985915, 'P': 7.834507042253522, 'Q': 4.753521126760563, 'R': 9.94718309859155, 'S': 0.6161971830985915, 'T': 0.0, 'U': 6.514084507042253, 'V': 1.936619718309859, 'W': 4.137323943661972, 'X': 2.9049295774647885, 'Y': 0.6161971830985915, 'Z': 4.225352112676056}\n"
     ]
    }
   ],
   "source": [
    "for i in string.ascii_uppercase:\n",
    "    dict[i] = (ciph.count(i)/len(ciph))*100\n",
    "print(dict)"
   ]
  },
  {
   "cell_type": "markdown",
   "metadata": {},
   "source": [
    "# 2. Determinons la lettre correspondant à E dans ciph"
   ]
  },
  {
   "cell_type": "markdown",
   "metadata": {},
   "source": [
    "La lettre E correspond à la lettre K dans ciph"
   ]
  },
  {
   "cell_type": "markdown",
   "metadata": {},
   "source": [
    "# 3. Determinons une possible correspondance dans l'alphabet de chaque lettre chiffré dans ciph"
   ]
  },
  {
   "cell_type": "code",
   "execution_count": null,
   "metadata": {},
   "outputs": [],
   "source": [
    "freq_alph =\\\n",
    "{'A': 8.2/100,\n",
    "'B': 1.5/100,\n",
    "'C': 2.8/100,\n",
    "'D': 4.18/100,\n",
    "'E': 17.3/100,\n",
    "'F': 1.12/100,\n",
    "'G': 1.27/100,\n",
    "'H': 0.92/100,\n",
    "'I': 7.34/100,\n",
    "'J': 0.31/100,\n",
    "'K': 0.05/100,\n",
    "'L': 6.01/100,\n",
    "'M': 2.96/100,\n",
    "'N': 7.13/100,\n",
    "'O': 5.26/100,\n",
    "'P': 3.01/100,\n",
    "'Q': 0.99/100,\n",
    "'R': 6.55/100,\n",
    "'S': 8.1/100,\n",
    "'T': 7.07/100,\n",
    "'U': 5.74/100,\n",
    "'V': 1.32/100,\n",
    "'W': 0.04/100,\n",
    "'X': 0.45/100,\n",
    "'Y': 0.30/100,\n",
    "'Z': 0.12/100}"
   ]
  }
 ],
 "metadata": {
  "kernelspec": {
   "display_name": "Python 3",
   "language": "python",
   "name": "python3"
  },
  "language_info": {
   "codemirror_mode": {
    "name": "ipython",
    "version": 3
   },
   "file_extension": ".py",
   "mimetype": "text/x-python",
   "name": "python",
   "nbconvert_exporter": "python",
   "pygments_lexer": "ipython3",
   "version": "3.7.4"
  }
 },
 "nbformat": 4,
 "nbformat_minor": 2
}
