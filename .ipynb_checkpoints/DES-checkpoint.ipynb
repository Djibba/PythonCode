{
 "cells": [
  {
   "cell_type": "markdown",
   "metadata": {},
   "source": [
    "<h1>GENERATION DE CLE</h1>\n"
   ]
  },
  {
   "cell_type": "code",
   "execution_count": 1,
   "metadata": {},
   "outputs": [
    {
     "data": {
      "text/plain": [
       "'0101000101011110100100110001110011111000111010110011000110001111'"
      ]
     },
     "execution_count": 1,
     "metadata": {},
     "output_type": "execute_result"
    }
   ],
   "source": [
    "#k Clé initiale 64 bits\n",
    "import random\n",
    "def  gen_keyinitial ():\n",
    "    k = random.getrandbits(64)\n",
    "    k = bin(k)[2:].zfill(64)\n",
    "    \n",
    "    return k\n",
    "gen_keyinitial ()"
   ]
  },
  {
   "cell_type": "code",
   "execution_count": 52,
   "metadata": {},
   "outputs": [
    {
     "data": {
      "text/plain": [
       "'10111110011000001000000101111001000101100101110010010000'"
      ]
     },
     "execution_count": 52,
     "metadata": {},
     "output_type": "execute_result"
    }
   ],
   "source": [
    "# k_prime Clé 56 bits permutée grace a PC1\n",
    "import random\n",
    "def  permute_keyinitial ():\n",
    "    pc1  = [ 57 , 49 , 41 , 33 , 25 , 17 ,   9 ,\n",
    "            1 , 58 , 50 , 42 , 34 , 26 , 18 ,\n",
    "           10 ,   2 , 59 , 51 , 43 , 35 , 27 ,\n",
    "           19 , 11 ,   3 , 60 , 52 , 44 , 36 ,\n",
    "           63 , 55 , 47 , 39 , 31 , 23 , 15 ,\n",
    "            7 , 62 , 54 , 46 , 38 , 30 , 22 ,\n",
    "           14 ,   6 , 61 , 53 , 45 , 37 , 29 ,\n",
    "           21 , 13 ,   5 , 28 , 20 , 12 ,   4 ]\n",
    "    \n",
    "    k = random.getrandbits(64)\n",
    "    k = bin(k)[2:].zfill(64)\n",
    "    k_prime = \"\"\n",
    "    for number in pc1:\n",
    "        k_prime += k[number-1]\n",
    "    return k_prime\n",
    "permute_keyinitial ()\n",
    "\n",
    "    \n"
   ]
  },
  {
   "cell_type": "code",
   "execution_count": 53,
   "metadata": {},
   "outputs": [
    {
     "data": {
      "text/plain": [
       "'0110010100101000100111111001'"
      ]
     },
     "execution_count": 53,
     "metadata": {},
     "output_type": "execute_result"
    }
   ],
   "source": [
    "#c0 28bits La moitié gauche de k_prime\n",
    "import random\n",
    "def  moitie_a_gauche ():\n",
    "    pc1  = [ 57 , 49 , 41 , 33 , 25 , 17 ,   9 ,\n",
    "            1 , 58 , 50 , 42 , 34 , 26 , 18 ,\n",
    "           10 ,   2 , 59 , 51 , 43 , 35 , 27 ,\n",
    "           19 , 11 ,   3 , 60 , 52 , 44 , 36 ,\n",
    "           63 , 55 , 47 , 39 , 31 , 23 , 15 ,\n",
    "            7 , 62 , 54 , 46 , 38 , 30 , 22 ,\n",
    "           14 ,   6 , 61 , 53 , 45 , 37 , 29 ,\n",
    "           21 , 13 ,   5 , 28 , 20 , 12 ,   4 ]\n",
    "    \n",
    "    k = random.getrandbits(64)\n",
    "    k = bin(k)[2:].zfill(64)\n",
    "    k_prime = \"\"\n",
    "    for number in pc1:\n",
    "        k_prime += k[number-1]\n",
    "        c0 = k_prime[:28]\n",
    "    return c0\n",
    "moitie_a_gauche ()\n",
    "\n",
    "\n"
   ]
  },
  {
   "cell_type": "code",
   "execution_count": 55,
   "metadata": {},
   "outputs": [
    {
     "data": {
      "text/plain": [
       "'0100101100100100000110010110'"
      ]
     },
     "execution_count": 55,
     "metadata": {},
     "output_type": "execute_result"
    }
   ],
   "source": [
    "#D0 28bits La moitié a Droite de k_prime\n",
    "import random\n",
    "def  moitie_a_droite ():\n",
    "    pc1  = [ 57 , 49 , 41 , 33 , 25 , 17 ,   9 ,\n",
    "            1 , 58 , 50 , 42 , 34 , 26 , 18 ,\n",
    "           10 ,   2 , 59 , 51 , 43 , 35 , 27 ,\n",
    "           19 , 11 ,   3 , 60 , 52 , 44 , 36 ,\n",
    "           63 , 55 , 47 , 39 , 31 , 23 , 15 ,\n",
    "            7 , 62 , 54 , 46 , 38 , 30 , 22 ,\n",
    "           14 ,   6 , 61 , 53 , 45 , 37 , 29 ,\n",
    "           21 , 13 ,   5 , 28 , 20 , 12 ,   4 ]\n",
    "    \n",
    "    k = random.getrandbits(64)\n",
    "    k = bin(k)[2:].zfill(64)\n",
    "    k_prime = \"\"\n",
    "    for number in pc1:\n",
    "        k_prime += k[number-1]\n",
    "        D0 = k_prime[28:]\n",
    "    return D0\n",
    "moitie_a_droite ()"
   ]
  },
  {
   "cell_type": "code",
   "execution_count": 60,
   "metadata": {},
   "outputs": [
    {
     "data": {
      "text/plain": [
       "['0100000100010111101100101111',\n",
       " '1000001000101111011001011110',\n",
       " '0000100010111101100101111010',\n",
       " '0010001011110110010111101000',\n",
       " '1000101111011001011110100000',\n",
       " '0010111101100101111010000010',\n",
       " '1011110110010111101000001000',\n",
       " '1111011001011110100000100010',\n",
       " '1110110010111101000001000101',\n",
       " '1011001011110100000100010111',\n",
       " '1100101111010000010001011110',\n",
       " '0010111101000001000101111011',\n",
       " '1011110100000100010111101100',\n",
       " '1111010000010001011110110010',\n",
       " '1101000001000101111011001011',\n",
       " '1010000010001011110110010111']"
      ]
     },
     "execution_count": 60,
     "metadata": {},
     "output_type": "execute_result"
    }
   ],
   "source": [
    "#c_keys 16 permutations de 28 bits de c0 à l'aide de lrt\n",
    "import random\n",
    "def  C0_16tour ():\n",
    "    pc1  = [ 57 , 49 , 41 , 33 , 25 , 17 ,   9 ,\n",
    "            1 , 58 , 50 , 42 , 34 , 26 , 18 ,\n",
    "           10 ,   2 , 59 , 51 , 43 , 35 , 27 ,\n",
    "           19 , 11 ,   3 , 60 , 52 , 44 , 36 ,\n",
    "           63 , 55 , 47 , 39 , 31 , 23 , 15 ,\n",
    "            7 , 62 , 54 , 46 , 38 , 30 , 22 ,\n",
    "           14 ,   6 , 61 , 53 , 45 , 37 , 29 ,\n",
    "           21 , 13 ,   5 , 28 , 20 , 12 ,   4 ]\n",
    "    lrt = [1, 1, 2, 2, 2, 2, 2, 2, 1, 2, 2, 2, 2, 2, 2, 1]\n",
    "    \n",
    "    k = random.getrandbits(64)\n",
    "    k = bin(k)[2:].zfill(64)\n",
    "    k_prime = \"\"\n",
    "    for number in pc1:\n",
    "        k_prime += k[number-1]\n",
    "        c0 = k_prime[:28]\n",
    "        c_keys=[]\n",
    "    for i in range(16):\n",
    "        num = lrt[i]\n",
    "        \n",
    "        temp = c0[0:num]\n",
    "        c0 = c0[num:] + temp\n",
    "        c_keys.append(c0)\n",
    "        \n",
    "        \n",
    "    return c_keys\n",
    "C0_16tour ()\n"
   ]
  },
  {
   "cell_type": "code",
   "execution_count": 62,
   "metadata": {},
   "outputs": [
    {
     "data": {
      "text/plain": [
       "['0001011100111100010111000110',\n",
       " '0010111001111000101110001100',\n",
       " '1011100111100010111000110000',\n",
       " '1110011110001011100011000010',\n",
       " '1001111000101110001100001011',\n",
       " '0111100010111000110000101110',\n",
       " '1110001011100011000010111001',\n",
       " '1000101110001100001011100111',\n",
       " '0001011100011000010111001111',\n",
       " '0101110001100001011100111100',\n",
       " '0111000110000101110011110001',\n",
       " '1100011000010111001111000101',\n",
       " '0001100001011100111100010111',\n",
       " '0110000101110011110001011100',\n",
       " '1000010111001111000101110001',\n",
       " '0000101110011110001011100011']"
      ]
     },
     "execution_count": 62,
     "metadata": {},
     "output_type": "execute_result"
    }
   ],
   "source": [
    "#c_keys 16 permutations de 28 bits de D0 à l'aide de lrt\n",
    "import random\n",
    "def  D0_16tour ():\n",
    "    pc1  = [ 57 , 49 , 41 , 33 , 25 , 17 ,   9 ,\n",
    "            1 , 58 , 50 , 42 , 34 , 26 , 18 ,\n",
    "           10 ,   2 , 59 , 51 , 43 , 35 , 27 ,\n",
    "           19 , 11 ,   3 , 60 , 52 , 44 , 36 ,\n",
    "           63 , 55 , 47 , 39 , 31 , 23 , 15 ,\n",
    "            7 , 62 , 54 , 46 , 38 , 30 , 22 ,\n",
    "           14 ,   6 , 61 , 53 , 45 , 37 , 29 ,\n",
    "           21 , 13 ,   5 , 28 , 20 , 12 ,   4 ]\n",
    "    lrt = [1, 1, 2, 2, 2, 2, 2, 2, 1, 2, 2, 2, 2, 2, 2, 1]\n",
    "    \n",
    "    k = random.getrandbits(64)\n",
    "    k = bin(k)[2:].zfill(64)\n",
    "    k_prime = \"\"\n",
    "    for number in pc1:\n",
    "        k_prime += k[number-1]\n",
    "        D0 = k_prime[28:]\n",
    "        D_keys=[]\n",
    "    for i in range(16):\n",
    "        num = lrt[i]\n",
    "        \n",
    "        temp = D0[0:num]\n",
    "        D0 = D0[num:] + temp\n",
    "        D_keys.append(D0)\n",
    "        \n",
    "        \n",
    "    return D_keys\n",
    "D0_16tour ()\n",
    "\n",
    "        \n",
    "    \n",
    "    \n",
    "    \n",
    "\n"
   ]
  },
  {
   "cell_type": "code",
   "execution_count": 63,
   "metadata": {},
   "outputs": [
    {
     "data": {
      "text/plain": [
       "['110000000100110101010001100010101110010110111011',\n",
       " '010111100100000001110010101101010111110100111011',\n",
       " '101011101100000100101100001011110001101001110010',\n",
       " '100010100000001100001111110101011110100101110110',\n",
       " '001010010001101000111001001001011000111011011100',\n",
       " '100001010011100011101000110110011011010011010111',\n",
       " '100100100110111011010000001011111100011010101101',\n",
       " '010111000111111100000000000110100111110111000111',\n",
       " '001001110010100100100100011111000011100100110111',\n",
       " '100010100010010010110101101001110110100011111010',\n",
       " '110111010000011000111000011001011011101101010011',\n",
       " '110001101001001010101000101101111000010001111110',\n",
       " '100110101001101001000110010011011001111111000110',\n",
       " '001010000111101001001010000111001110010011111101',\n",
       " '001000000111010101101100011010111101110011000101',\n",
       " '000101101001010011010100011010101011101010111010']"
      ]
     },
     "execution_count": 63,
     "metadata": {},
     "output_type": "execute_result"
    }
   ],
   "source": [
    "# Liste de cles finale de 16 clés 48 bits grace a pc2\n",
    "import random\n",
    "def  keys_final ():\n",
    "    pc2 = [14, 17, 11, 24,  1,  5,\n",
    "           3,  28, 15,  6, 21, 10,\n",
    "           23, 19, 12,  4, 26,  8,\n",
    "           16,  7, 27, 20, 13,  2,\n",
    "           41, 52, 31, 37, 47, 55,\n",
    "           30, 40, 51, 45, 33, 48,\n",
    "           44, 49, 39, 56, 34, 53,\n",
    "           46, 42, 50, 36, 29, 32]\n",
    "     \n",
    "    lrt = [1, 1, 2, 2, 2, 2, 2, 2, 1, 2, 2, 2, 2, 2, 2, 1]\n",
    "    pc1  = [ 57 , 49 , 41 , 33 , 25 , 17 ,   9 ,\n",
    "            1 , 58 , 50 , 42 , 34 , 26 , 18 ,\n",
    "           10 ,   2 , 59 , 51 , 43 , 35 , 27 ,\n",
    "           19 , 11 ,   3 , 60 , 52 , 44 , 36 ,\n",
    "           63 , 55 , 47 , 39 , 31 , 23 , 15 ,\n",
    "            7 , 62 , 54 , 46 , 38 , 30 , 22 ,\n",
    "           14 ,   6 , 61 , 53 , 45 , 37 , 29 ,\n",
    "           21 , 13 ,   5 , 28 , 20 , 12 ,   4 ]\n",
    "     \n",
    "        \n",
    "    \n",
    "    \n",
    "    \n",
    "    k = random.getrandbits(64)\n",
    "    k = bin(k)[2:].zfill(64)\n",
    "    k_prime = \"\"\n",
    "    for number in pc1:\n",
    "        k_prime += k[number-1]\n",
    "        c0 = k_prime[:28]\n",
    "        d0 = k_prime[28:]\n",
    "        c_keys = []\n",
    "        d_keys = []\n",
    "    for i in range(16):\n",
    "        num = lrt[i]\n",
    "        \n",
    "        temp = c0[0:num]\n",
    "        c0 = c0[num:] + temp\n",
    "        c_keys.append(c0)\n",
    "\n",
    "        temp = d0[0:num]\n",
    "        d0 = d0[num:] + temp\n",
    "        d_keys.append(d0)\n",
    "        \n",
    "        keys = []\n",
    "\n",
    "    for i in range(16):\n",
    "        cat = c_keys[i] + d_keys[i]\n",
    "        temp = \"\"\n",
    "        for number in pc2:\n",
    "            temp += cat[number-1]\n",
    "        keys.append(temp)\n",
    "    return keys\n",
    "        \n",
    "def  keys_final ()\n",
    "\n",
    "\n",
    "    \n",
    " \n",
    "    \n",
    "\n",
    "\n"
   ]
  },
  {
   "cell_type": "markdown",
   "metadata": {},
   "source": [
    "<h1>chiffrement DES</h1>"
   ]
  },
  {
   "cell_type": "code",
   "execution_count": 80,
   "metadata": {},
   "outputs": [
    {
     "data": {
      "text/plain": [
       "'1101011111110101001110010101010111000010111100111100101111101110'"
      ]
     },
     "execution_count": 80,
     "metadata": {},
     "output_type": "execute_result"
    }
   ],
   "source": [
    "import random\n",
    "def  gen_ciffer ():\n",
    "    c = random.getrandbits(64)\n",
    "    c = bin(c)[2:].zfill(64)\n",
    "    \n",
    "    return c\n",
    "gen_ciffer ()"
   ]
  },
  {
   "cell_type": "code",
   "execution_count": 85,
   "metadata": {},
   "outputs": [
    {
     "data": {
      "text/plain": [
       "'1011001001000001100110011111010001001101001010011111100011111001'"
      ]
     },
     "execution_count": 85,
     "metadata": {},
     "output_type": "execute_result"
    }
   ],
   "source": [
    "import random\n",
    "def  gen_cifferpermute ():\n",
    "    ip = [58, 50, 42, 34, 26, 18, 10, 2,\n",
    "          60, 52, 44, 36, 28, 20, 12, 4,\n",
    "          62, 54, 46, 38, 30, 22, 14, 6,\n",
    "          64, 56, 48, 40, 32, 24, 16, 8,\n",
    "          57, 49, 41, 33, 25, 17,  9, 1,\n",
    "          59, 51, 43, 35, 27, 19, 11, 3,\n",
    "          61, 53, 45, 37, 29, 21, 13, 5,\n",
    "          63, 55, 47, 39, 31, 23, 15, 7]\n",
    "    \n",
    "    c = random.getrandbits(64)\n",
    "    c = bin(c)[2:].zfill(64)\n",
    "    p = \"\"\n",
    "    for number in ip:\n",
    "        p += c[number-1]\n",
    "    return p\n",
    "gen_cifferpermute ()\n",
    "    \n",
    "\n",
    "\n",
    "\n",
    "    "
   ]
  },
  {
   "cell_type": "code",
   "execution_count": 88,
   "metadata": {},
   "outputs": [
    {
     "data": {
      "text/plain": [
       "'10111101000011101010101000101001'"
      ]
     },
     "execution_count": 88,
     "metadata": {},
     "output_type": "execute_result"
    }
   ],
   "source": [
    "import random\n",
    "def  gen_C0 ():\n",
    "    ip = [58, 50, 42, 34, 26, 18, 10, 2,\n",
    "          60, 52, 44, 36, 28, 20, 12, 4,\n",
    "          62, 54, 46, 38, 30, 22, 14, 6,\n",
    "          64, 56, 48, 40, 32, 24, 16, 8,\n",
    "          57, 49, 41, 33, 25, 17,  9, 1,\n",
    "          59, 51, 43, 35, 27, 19, 11, 3,\n",
    "          61, 53, 45, 37, 29, 21, 13, 5,\n",
    "          63, 55, 47, 39, 31, 23, 15, 7]\n",
    "    \n",
    "    c = random.getrandbits(64)\n",
    "    c = bin(c)[2:].zfill(64)\n",
    "    p = \"\"\n",
    "    for number in ip:\n",
    "        p += c[number-1]\n",
    "        C0 = p[:32]\n",
    "    return C0\n",
    "\n",
    "gen_C0 ()"
   ]
  },
  {
   "cell_type": "code",
   "execution_count": 89,
   "metadata": {},
   "outputs": [
    {
     "data": {
      "text/plain": [
       "'11011101100011111100101010100101'"
      ]
     },
     "execution_count": 89,
     "metadata": {},
     "output_type": "execute_result"
    }
   ],
   "source": [
    "import random\n",
    "def  gen_D0 ():\n",
    "    ip = [58, 50, 42, 34, 26, 18, 10, 2,\n",
    "          60, 52, 44, 36, 28, 20, 12, 4,\n",
    "          62, 54, 46, 38, 30, 22, 14, 6,\n",
    "          64, 56, 48, 40, 32, 24, 16, 8,\n",
    "          57, 49, 41, 33, 25, 17,  9, 1,\n",
    "          59, 51, 43, 35, 27, 19, 11, 3,\n",
    "          61, 53, 45, 37, 29, 21, 13, 5,\n",
    "          63, 55, 47, 39, 31, 23, 15, 7]\n",
    "    \n",
    "    c = random.getrandbits(64)\n",
    "    c = bin(c)[2:].zfill(64)\n",
    "    p = \"\"\n",
    "    for number in ip:\n",
    "        p += c[number-1]\n",
    "        D0 = p[32:]\n",
    "    return D0\n",
    "\n",
    "gen_D0 ()"
   ]
  },
  {
   "cell_type": "code",
   "execution_count": 6,
   "metadata": {},
   "outputs": [
    {
     "ename": "NameError",
     "evalue": "name 'bit32' is not defined",
     "output_type": "error",
     "traceback": [
      "\u001b[1;31m---------------------------------------------------------------------------\u001b[0m",
      "\u001b[1;31mNameError\u001b[0m                                 Traceback (most recent call last)",
      "\u001b[1;32m<ipython-input-6-032fced686c3>\u001b[0m in \u001b[0;36m<module>\u001b[1;34m\u001b[0m\n\u001b[0;32m      5\u001b[0m     \u001b[0mbit32\u001b[0m \u001b[1;33m=\u001b[0m \u001b[0m_Sbox\u001b[0m\u001b[1;33m(\u001b[0m\u001b[0mbit48\u001b[0m\u001b[1;33m)\u001b[0m\u001b[1;33m\u001b[0m\u001b[1;33m\u001b[0m\u001b[0m\n\u001b[0;32m      6\u001b[0m     \u001b[1;32mreturn\u001b[0m \u001b[0mbit32\u001b[0m\u001b[1;33m\u001b[0m\u001b[1;33m\u001b[0m\u001b[0m\n\u001b[1;32m----> 7\u001b[1;33m \u001b[0mf\u001b[0m\u001b[1;33m(\u001b[0m\u001b[0mbit32\u001b[0m\u001b[1;33m,\u001b[0m \u001b[0mkey\u001b[0m\u001b[1;33m)\u001b[0m\u001b[1;33m\u001b[0m\u001b[1;33m\u001b[0m\u001b[0m\n\u001b[0m",
      "\u001b[1;31mNameError\u001b[0m: name 'bit32' is not defined"
     ]
    }
   ],
   "source": [
    "def f(bit32, key):\n",
    "    bit48 = int(_expansion(bit32), 2)\n",
    "    bit48 ^= int(key, 2)\n",
    "    bit48 = bin(bit48)[2:].zfill(48)\n",
    "    bit32 = _Sbox(bit48)\n",
    "    return bit32\n",
    "f(bit32, key)"
   ]
  },
  {
   "cell_type": "code",
   "execution_count": 68,
   "metadata": {},
   "outputs": [
    {
     "ename": "ModuleNotFoundError",
     "evalue": "No module named 'f_function'",
     "output_type": "error",
     "traceback": [
      "\u001b[1;31m---------------------------------------------------------------------------\u001b[0m",
      "\u001b[1;31mModuleNotFoundError\u001b[0m                       Traceback (most recent call last)",
      "\u001b[1;32m<ipython-input-68-1e72c047443a>\u001b[0m in \u001b[0;36m<module>\u001b[1;34m\u001b[0m\n\u001b[0;32m     99\u001b[0m \u001b[1;33m\u001b[0m\u001b[0m\n\u001b[0;32m    100\u001b[0m     \u001b[1;32mreturn\u001b[0m \u001b[0mout\u001b[0m\u001b[1;33m\u001b[0m\u001b[1;33m\u001b[0m\u001b[0m\n\u001b[1;32m--> 101\u001b[1;33m \u001b[1;32mfrom\u001b[0m \u001b[0mf_function\u001b[0m \u001b[1;32mimport\u001b[0m \u001b[0mf\u001b[0m\u001b[1;33m\u001b[0m\u001b[1;33m\u001b[0m\u001b[0m\n\u001b[0m\u001b[0;32m    102\u001b[0m \u001b[1;33m\u001b[0m\u001b[0m\n\u001b[0;32m    103\u001b[0m \u001b[1;32mdef\u001b[0m \u001b[0mencrypt\u001b[0m\u001b[1;33m(\u001b[0m\u001b[0mtext\u001b[0m\u001b[1;33m,\u001b[0m \u001b[0mkeys\u001b[0m\u001b[1;33m)\u001b[0m\u001b[1;33m:\u001b[0m\u001b[1;33m\u001b[0m\u001b[1;33m\u001b[0m\u001b[0m\n",
      "\u001b[1;31mModuleNotFoundError\u001b[0m: No module named 'f_function'"
     ]
    }
   ],
   "source": [
    "def f(bit32, key):\n",
    "    bit48 = int(_expansion(bit32), 2)\n",
    "    bit48 ^= int(key, 2)\n",
    "    bit48 = bin(bit48)[2:].zfill(48)\n",
    "    bit32 = _Sbox(bit48)\n",
    "    return bit32\n",
    "def _expansion(bit32):\n",
    "\n",
    "    # Expansion table\n",
    "    e = [32,  1,  2,  3,  4,  5,\n",
    "          4,  5,  6,  7,  8,  9,\n",
    "          8,  9, 10, 11, 12, 13,\n",
    "         12, 13, 14, 15, 16, 17,\n",
    "         16, 17, 18, 19, 20, 21,\n",
    "         20, 21, 22, 23, 24, 25,\n",
    "         24, 25, 26, 27, 28, 29,\n",
    "         28, 29, 30, 31, 32,  1]\n",
    "    out = \"\"\n",
    "    for number in e:\n",
    "        out += bit32[number-1]\n",
    "\n",
    "    return out\n",
    "def _Sbox(bit48):\n",
    "\n",
    "    s = [\n",
    "         # s1\n",
    "         [[14,  4, 13,  1,  2, 15, 11,  8,  3, 10,  6, 12,  5,  9,  0,  7],\n",
    "          [ 0, 15,  7,  4, 14,  2, 13,  1, 10,  6, 12, 11,  9,  5,  3,  8],\n",
    "          [ 4,  1, 14,  8, 13,  6,  2, 11, 15, 12,  9,  7,  3, 10,  5,  0],\n",
    "          [15, 12,  8,  2,  4,  9,  1,  7,  5, 11,  3, 14, 10,  0,  6, 13]],\n",
    "         # s2\n",
    "         [[15,  1,  8, 14,  6, 11,  3,  4,  9,  7,  2, 13, 12,  0,  5, 10],\n",
    "          [ 3, 13,  4,  7, 15,  2,  8, 14, 12,  0,  1, 10,  6,  9, 11,  5],\n",
    "          [ 0, 14,  7, 11, 10,  4, 13,  1,  5,  8, 12,  6,  9,  3,  2, 15],\n",
    "          [13,  8, 10,  1,  3, 15,  4,  2, 11,  6,  7, 12,  0,  5, 14,  9]],\n",
    "         # s3\n",
    "         [[10,  0,  9, 14,  6,  3, 15,  5,  1, 13, 12,  7, 11,  4,  2,  8],\n",
    "          [13,  7,  0,  9,  3,  4,  6, 10,  2,  8,  5, 14, 12, 11, 15,  1],\n",
    "          [13,  6,  4,  9,  8, 15,  3,  0, 11,  1,  2, 12,  5, 10, 14,  7],\n",
    "          [ 1, 10, 13,  0,  6,  9,  8,  7,  4, 15, 14,  3, 11,  5,  2, 12]],\n",
    "         # s4\n",
    "         [[ 7, 13, 14,  3,  0,  6,  9, 10,  1,  2,  8,  5, 11, 12,  4, 15],\n",
    "          [13,  8, 11,  5,  6, 15,  0,  3,  4,  7,  2, 12,  1, 10, 14,  9],\n",
    "          [10,  6,  9,  0, 12, 11,  7, 13, 15,  1,  3, 14,  5,  2,  8,  4],\n",
    "          [ 3, 15,  0,  6, 10,  1, 13,  8,  9,  4,  5, 11, 12,  7,  2, 14]],\n",
    "         # s5\n",
    "         [[ 2, 12,  4,  1,  7, 10, 11,  6,  8,  5,  3, 15, 13,  0, 14,  9],\n",
    "          [14, 11,  2, 12,  4,  7, 13,  1,  5,  0, 15, 10,  3,  9,  8,  6],\n",
    "          [ 4,  2,  1, 11, 10, 13,  7,  8, 15,  9, 12,  5,  6,  3,  0, 14],\n",
    "          [11,  8, 12,  7,  1, 14,  2, 13,  6, 15,  0,  9, 10,  4,  5,  3]],\n",
    "         # s6\n",
    "         [[12,  1, 10, 15,  9,  2,  6,  8,  0, 13,  3,  4, 14,  7,  5, 11],\n",
    "          [10, 15,  4,  2,  7, 12,  9,  5,  6,  1, 13, 14,  0, 11,  3,  8],\n",
    "          [ 9, 14, 15,  5,  2,  8, 12,  3,  7,  0,  4, 10,  1, 13, 11,  6],\n",
    "          [ 4,  3,  2, 12,  9,  5, 15, 10, 11, 14,  1,  7,  6,  0,  8, 13]],\n",
    "         # s7\n",
    "         [[ 4, 11,  2, 14, 15,  0,  8, 13,  3, 12,  9,  7,  5, 10,  6,  1],\n",
    "          [13,  0, 11,  7,  4,  9,  1, 10, 14,  3,  5, 12,  2, 15,  8,  6],\n",
    "          [ 1,  4, 11, 13, 12,  3,  7, 14, 10, 15,  6,  8,  0,  5,  9,  2],\n",
    "          [ 6, 11, 13,  8,  1,  4, 10,  7,  9,  5,  0, 15, 14,  2,  3, 12]],\n",
    "         # s8\n",
    "         [[13,  2,  8,  4,  6, 15, 11,  1, 10,  9,  3, 14,  5,  0, 12,  7],\n",
    "          [ 1, 15, 13,  8, 10,  3,  7,  4, 12,  5,  6, 11,  0, 14,  9,  2],\n",
    "          [ 7, 11,  4,  1,  9, 12, 14,  2,  0,  6, 10, 13, 15,  3,  5,  8],\n",
    "          [ 2,  1, 14,  7,  4, 10,  8, 13, 15, 12,  9,  0,  3,  5,  6, 11]]\n",
    "        ]\n",
    "    \n",
    "    # Break up 48-bit input into 8 6-bit chunks\n",
    "    bit6_list = []\n",
    "    for i in range(0, 48, 6):\n",
    "        bit6_list.append(bit48[i:i+6])\n",
    "\n",
    "\n",
    "    # Perform 8 Sbox substitutions using the 8 6-bit chunks\n",
    "    # and the 8 Sbox tables s1-s8\n",
    "    out = \"\"\n",
    "    for i in range(8):\n",
    "        chunk = bit6_list[i]\n",
    "        row = int(chunk[0]+chunk[5], 2)\n",
    "        col = int(chunk[1:5], 2)\n",
    "\n",
    "        out += (bin(s[i][row][col])[2:].zfill(4))\n",
    "\n",
    "    return out\n",
    "def _permute(bit32):\n",
    "\n",
    "    # Permutation table\n",
    "    p = [16,  7, 20, 21,\n",
    "         29, 12, 28, 17,\n",
    "          1, 15, 23, 26,\n",
    "          5, 18, 31, 10,\n",
    "          2,  8, 24, 14,\n",
    "         32, 27,  3,  9,\n",
    "         19, 13, 30,  6,\n",
    "         22, 11,  4, 25]\n",
    "    out = \"\"\n",
    "    for number in p:\n",
    "        out += bit32[number-1]\n",
    "\n",
    "    return out\n",
    "from f_function import f\n",
    "\n",
    "def encrypt(text, keys):\n",
    "\n",
    "    # Split text up into 64-bit chunks\n",
    "    blocks = []\n",
    "    for i in range(0, len(text), 8):\n",
    "        blocks.append(text[i:i+8])\n",
    "\n",
    "\n",
    "    # Encrypt chunks\n",
    "    e_list = []\n",
    "    for block in blocks:\n",
    "        e_list.append(_cipher(_ascii_to_bin(block), keys))\n",
    "\n",
    "\n",
    "    # Combine chunks back into a single string\n",
    "    out = \"\"\n",
    "    for block in e_list:\n",
    "        #out += _bin_to_ascii(block)    # ASCII output\n",
    "        #out += hex(int(block, 2))      # Hex output\n",
    "        out += block                    # Binary output\n",
    "\n",
    "\n",
    "    return out\n",
    "\n",
    "\n",
    "\n",
    "def _cipher(bit64, keys):\n",
    "\n",
    "    # Initial permutation table\n",
    "    ip = [58, 50, 42, 34, 26, 18, 10, 2,\n",
    "          60, 52, 44, 36, 28, 20, 12, 4,\n",
    "          62, 54, 46, 38, 30, 22, 14, 6,\n",
    "          64, 56, 48, 40, 32, 24, 16, 8,\n",
    "          57, 49, 41, 33, 25, 17,  9, 1,\n",
    "          59, 51, 43, 35, 27, 19, 11, 3,\n",
    "          61, 53, 45, 37, 29, 21, 13, 5,\n",
    "          63, 55, 47, 39, 31, 23, 15, 7]\n",
    "\n",
    "    # Final permutation\n",
    "    fp = [40,  8, 48, 16, 56, 24, 64, 32,\n",
    "          39,  7, 47, 15, 55, 23, 63, 31,\n",
    "          38,  6, 46, 14, 54, 22, 62, 30,\n",
    "          37,  5, 45, 13, 53, 21, 61, 29,\n",
    "          36,  4, 44, 12, 52, 20, 60, 28,\n",
    "          35,  3, 43, 11, 51, 19, 59, 27,\n",
    "          34,  2, 42, 10, 50, 18, 58, 26,\n",
    "          33,  1, 41,  9, 49, 17, 57, 25]\n",
    "    \n",
    "\n",
    "    # Perform initial permutation on block\n",
    "    p = \"\"\n",
    "    for number in ip:\n",
    "        p += bit64[number-1]\n",
    "\n",
    "\n",
    "    # Split block into two halves\n",
    "    ln = p[:32]\n",
    "    rn = p[32:]\n",
    "\n",
    "    # 16 rounds of encryption, rotating and XORing each half after each round\n",
    "    for i in range(16):\n",
    "        temp = rn\n",
    "        rn = bin(int(ln, 2) ^ int(f(rn, keys[i]), 2))[2:].zfill(32)\n",
    "        ln = temp\n",
    "\n",
    "\n",
    "    # Combine left and right halves and perform final permutation\n",
    "    combined = ln + rn\n",
    "    out = \"\"\n",
    "    for number in fp:\n",
    "        out += combined[number-1]\n",
    "\n",
    "\n",
    "    return out\n",
    "\n",
    "\n",
    "\n",
    "\n",
    "\n",
    "\n",
    "# Convert ASCII text to binary\n",
    "def _ascii_to_bin(text):\n",
    "\n",
    "    out = \"\"\n",
    "    for letter in text:\n",
    "        out += bin(ord(letter))[2:].zfill(8)\n",
    "\n",
    "    # Pad block with 0s if necessary\n",
    "    for i in range(64-(len(out))):\n",
    "        out += \"0\"\n",
    "\n",
    "    return out\n",
    "\n",
    "\n",
    "\n",
    "# Convert binary to ASCII text\n",
    "def _bin_to_ascii(bit64):\n",
    "\n",
    "    out = \"\"\n",
    "    for i in range(0, 64, 8):\n",
    "        out += chr(int(bit64[i:i+8], 2))\n",
    "\n",
    "    #out.replace(\"\\x00\", \"\")\n",
    "    return out\n",
    "    \n",
    "    \n",
    "\n",
    "\n"
   ]
  },
  {
   "cell_type": "code",
   "execution_count": null,
   "metadata": {},
   "outputs": [],
   "source": [
    "import random\n",
    "def _cipher(bit64, keys):\n",
    "\n",
    "    # Initial permutation table\n",
    "    ip = [58, 50, 42, 34, 26, 18, 10, 2,\n",
    "          60, 52, 44, 36, 28, 20, 12, 4,\n",
    "          62, 54, 46, 38, 30, 22, 14, 6,\n",
    "          64, 56, 48, 40, 32, 24, 16, 8,\n",
    "          57, 49, 41, 33, 25, 17,  9, 1,\n",
    "          59, 51, 43, 35, 27, 19, 11, 3,\n",
    "          61, 53, 45, 37, 29, 21, 13, 5,\n",
    "          63, 55, 47, 39, 31, 23, 15, 7]\n"
   ]
  }
 ],
 "metadata": {
  "kernelspec": {
   "display_name": "Python 3",
   "language": "python",
   "name": "python3"
  },
  "language_info": {
   "codemirror_mode": {
    "name": "ipython",
    "version": 3
   },
   "file_extension": ".py",
   "mimetype": "text/x-python",
   "name": "python",
   "nbconvert_exporter": "python",
   "pygments_lexer": "ipython3",
   "version": "3.7.4"
  }
 },
 "nbformat": 4,
 "nbformat_minor": 2
}
