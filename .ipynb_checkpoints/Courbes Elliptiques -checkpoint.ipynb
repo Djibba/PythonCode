{
 "cells": [
  {
   "cell_type": "markdown",
   "metadata": {},
   "source": [
    "### Résidu quadratique & Symbole de Legendre & Symbole de Jacobi"
   ]
  },
  {
   "cell_type": "code",
   "execution_count": 1,
   "metadata": {},
   "outputs": [
    {
     "name": "stdout",
     "output_type": "stream",
     "text": [
      "[7, 11, 13]\n"
     ]
    },
    {
     "data": {
      "text/plain": [
       "-1"
      ]
     },
     "execution_count": 1,
     "metadata": {},
     "output_type": "execute_result"
    }
   ],
   "source": [
    "######## Fonction qui permet de savoir si p est premier ou non #######\n",
    "def premier(p):    \n",
    "    bol,j=True,0\n",
    "    for i in range(2,int(p)+1):\n",
    "        a=p%i\n",
    "        if(a==0):\n",
    "            j+=1\n",
    "    if(j>=2):\n",
    "        return False \n",
    "    else:\n",
    "        return True\n",
    "\n",
    "######## Résidu quadratique #########\n",
    "def residu_quadratique(m,p):\n",
    "    while not premier(p):\n",
    "        print(\"Entrer un p premier\")\n",
    "    return [i for i in range(p) if(i**2)%p==m]\n",
    "\n",
    "####### Symbole de Legendre ########\n",
    "def legendre(a,p):\n",
    "    while not premier(p):\n",
    "        print(\"Entrer un p premier\")\n",
    "    if residu_quadratique(a,p):\n",
    "        return 1\n",
    "    elif residu_quadratique(a,p)==0:\n",
    "        return 0\n",
    "    else:\n",
    "        return -1\n",
    "\n",
    "######## Symbole de Jacobi #########\n",
    "def jacobi(a,m):\n",
    "    #Décompostion de m\n",
    "    diviseur = []\n",
    "    jacobi = 1\n",
    "    for i in range(2,m):\n",
    "        if (m%i) == 0:\n",
    "            diviseur.append(i)\n",
    "    decomp = []\n",
    "    prod = 1\n",
    "    for j in range(len(diviseur)):\n",
    "        prod  *= diviseur[j]\n",
    "        if prod == m:\n",
    "            decomp = diviseur[:j+1]\n",
    "    print(decomp)\n",
    "    \n",
    "    for k in range(len(decomp)):\n",
    "        Legendre_k = legendre(a,decomp[k])\n",
    "        jacobi *= Legendre_k\n",
    "    return jacobi\n",
    "    \n",
    "jacobi(6, 1001)"
   ]
  },
  {
   "cell_type": "markdown",
   "metadata": {},
   "source": [
    "### Addition de P et Q & Multiplication des P"
   ]
  },
  {
   "cell_type": "code",
   "execution_count": 24,
   "metadata": {},
   "outputs": [
    {
     "data": {
      "text/plain": [
       "(0, 0)"
      ]
     },
     "execution_count": 24,
     "metadata": {},
     "output_type": "execute_result"
    }
   ],
   "source": [
    "######### Fonction qui calcule l'inverse modulo d'un nombre ########\n",
    "def inverse(n, m):\n",
    "    return [i for i in range(m) if (n*i%m) == 1][0]\n",
    "\n",
    "######## Fonction qui convertit un nombre decimal en binaire ##########\"\"\n",
    "def dec_to_bin(n):\n",
    "    res =list(bin(n)[2:])\n",
    "    for i in range(len(res)):\n",
    "        res[i] = int(res[i])\n",
    "    return res\n",
    "\n",
    "\n",
    "####### Addition de P et Q ############\n",
    "def addition_P_Q(P:tuple(), Q:tuple(), a,b,p):\n",
    "    while not premier(p):\n",
    "        print(\"Entrer un p qui est premier\")\n",
    "    num = (Q[1]-P[1])%p\n",
    "    denom = (Q[0]-P[0])%p\n",
    "    lamda = (num * inverse(denom, p)) % p\n",
    "    x3 = (lamda**2 - P[0] - Q[0])%p\n",
    "    y3 = ((lamda*(P[0]-x3)) - P[1])%p\n",
    "    return x3,y3\n",
    "\n",
    "\n",
    "\n",
    "######### Multipilication P ############\n",
    "def multiplication_P(k,P:tuple(),a,b,p):\n",
    "    while not premier(p):\n",
    "        print(\"Entrer un p qui est premier\")\n",
    "    k_bin = dec_to_bin(k)\n",
    "    Q = (0,0)\n",
    "    for i in range(len(k_bin)-1,0):\n",
    "        Q = 2 * Q\n",
    "        if k_bin[i] == 1:\n",
    "            Q = addition_P_Q(Q,P,a,b,p)\n",
    "        else:\n",
    "            continue \n",
    "    return Q\n",
    "multiplication_P(10,(3,7),2,-3,19)"
   ]
  },
  {
   "cell_type": "code",
   "execution_count": 22,
   "metadata": {},
   "outputs": [
    {
     "name": "stdout",
     "output_type": "stream",
     "text": [
      "1\n",
      "1\n"
     ]
    }
   ],
   "source": [
    "k_bin = dec_to_bin(10)\n",
    "for i in range(len(k_bin)):\n",
    "    if k_bin[i] == 1:\n",
    "        print(k_bin[i])\n",
    "    "
   ]
  },
  {
   "cell_type": "code",
   "execution_count": 34,
   "metadata": {},
   "outputs": [
    {
     "name": "stdout",
     "output_type": "stream",
     "text": [
      "1/4\n"
     ]
    }
   ],
   "source": []
  },
  {
   "cell_type": "code",
   "execution_count": null,
   "metadata": {},
   "outputs": [],
   "source": []
  }
 ],
 "metadata": {
  "kernelspec": {
   "display_name": "Python 3",
   "language": "python",
   "name": "python3"
  },
  "language_info": {
   "codemirror_mode": {
    "name": "ipython",
    "version": 3
   },
   "file_extension": ".py",
   "mimetype": "text/x-python",
   "name": "python",
   "nbconvert_exporter": "python",
   "pygments_lexer": "ipython3",
   "version": "3.7.4"
  }
 },
 "nbformat": 4,
 "nbformat_minor": 2
}
